{
 "cells": [
  {
   "cell_type": "code",
   "execution_count": 1,
   "id": "ed20ec36-9679-4614-9de4-cbdd34f6cb0c",
   "metadata": {},
   "outputs": [],
   "source": [
    "from selenium import webdriver as wd\n",
    "from bs4 import BeautifulSoup as bs\n",
    "\n",
    "import time"
   ]
  },
  {
   "cell_type": "code",
   "execution_count": 2,
   "id": "3925e64d-77fe-4d85-b798-e8d04533275d",
   "metadata": {},
   "outputs": [],
   "source": [
    "url='https://www.snu.ac.kr/'"
   ]
  },
  {
   "cell_type": "code",
   "execution_count": 3,
   "id": "9cb2d37f-db1e-4790-aeb2-21ca0666e3e6",
   "metadata": {},
   "outputs": [],
   "source": [
    "driver = wd.Chrome(executable_path='.\\\\webdriver\\\\chromedriver.exe')"
   ]
  },
  {
   "cell_type": "code",
   "execution_count": 4,
   "id": "f5627387-7961-49e8-b75b-0ad872ad05b5",
   "metadata": {},
   "outputs": [],
   "source": [
    "driver.get(url)"
   ]
  },
  {
   "cell_type": "code",
   "execution_count": 5,
   "id": "3bbf961b-3d1d-426a-964a-b6d73be9a05d",
   "metadata": {},
   "outputs": [],
   "source": [
    "time.sleep(2)\n",
    "        \n",
    "soup = bs( driver.page_source, 'html.parser')"
   ]
  },
  {
   "cell_type": "code",
   "execution_count": 6,
   "id": "705ae0ed-f869-4dc6-ad73-de2683b6c94c",
   "metadata": {},
   "outputs": [
    {
     "name": "stdout",
     "output_type": "stream",
     "text": [
      "<class 'bs4.element.ResultSet'> 1 <class 'list'>\n"
     ]
    }
   ],
   "source": [
    "data = soup.select('#skip-content > section.ly-section.index-borad01 > div.ly-container.common-board > div > div > a:nth-child(2)')\n",
    "print( type(data), len(data), type(data[0].contents)  )"
   ]
  },
  {
   "cell_type": "code",
   "execution_count": 7,
   "id": "f41969cd-85d6-46cf-9b2e-b1cb330d0a68",
   "metadata": {},
   "outputs": [
    {
     "data": {
      "text/plain": [
       "['\\n',\n",
       " <span class=\"cate\">연구성과</span>,\n",
       " '\\n',\n",
       " <span class=\"thumb\">\n",
       " <img alt=\"고성능 이산화탄소 전기환원 촉매 개발\" src=\"/webdata/boardimages/kohighlight/19bzed7z33dz65az7a2z96bz48ez5e3z7c2z460z81.jpg\"/>\n",
       " </span>,\n",
       " '\\n',\n",
       " <span class=\"texts\">\n",
       " <span class=\"title\">고성능 이산화탄소 전기환원 촉매 개발</span>\n",
       " <span class=\"sub\">재료공학부 주영창 교수 연구팀은 고성능 이산화탄소 전기환원 촉매를 개발했다고 밝혔다.</span>\n",
       " </span>,\n",
       " '\\n']"
      ]
     },
     "execution_count": 7,
     "metadata": {},
     "output_type": "execute_result"
    }
   ],
   "source": [
    "data[0].contents"
   ]
  },
  {
   "cell_type": "code",
   "execution_count": 8,
   "id": "793da537-6a7e-4422-b44f-610f226ed688",
   "metadata": {},
   "outputs": [],
   "source": [
    "# data 정제"
   ]
  },
  {
   "cell_type": "code",
   "execution_count": 11,
   "id": "7330c7b8-d8da-4712-b22d-afef582cd5b2",
   "metadata": {},
   "outputs": [],
   "source": [
    "ss = data[0].contents"
   ]
  },
  {
   "cell_type": "code",
   "execution_count": 13,
   "id": "e7a7202c-0244-49da-b0f3-893d64069a3f",
   "metadata": {},
   "outputs": [],
   "source": [
    "import re"
   ]
  },
  {
   "cell_type": "code",
   "execution_count": 19,
   "id": "6c69ba1f-1225-41ce-8657-e2cafd6c05b1",
   "metadata": {},
   "outputs": [],
   "source": [
    "content_final = ''\n",
    "for c in ss:\n",
    "    content_final += str(c)"
   ]
  },
  {
   "cell_type": "code",
   "execution_count": 20,
   "id": "d11bb17d-3128-42da-96cb-7cb192b73f17",
   "metadata": {},
   "outputs": [],
   "source": [
    "content_final=re.sub('[^ㄱ-힣]', ' ', content_final)"
   ]
  },
  {
   "cell_type": "code",
   "execution_count": 21,
   "id": "4b738842-1ca3-41a9-879c-734240a00273",
   "metadata": {},
   "outputs": [],
   "source": [
    "content_final=re.sub('\\s+', ',', content_final)"
   ]
  },
  {
   "cell_type": "code",
   "execution_count": 22,
   "id": "0c1ca283-e239-4e58-93d0-8548240f5921",
   "metadata": {},
   "outputs": [
    {
     "data": {
      "text/plain": [
       "',연구성과,고성능,이산화탄소,전기환원,촉매,개발,고성능,이산화탄소,전기환원,촉매,개발,재료공학부,주영창,교수,연구팀은,고성능,이산화탄소,전기환원,촉매를,개발했다고,밝혔다,'"
      ]
     },
     "execution_count": 22,
     "metadata": {},
     "output_type": "execute_result"
    }
   ],
   "source": [
    "content_final"
   ]
  },
  {
   "cell_type": "code",
   "execution_count": 7,
   "id": "43387867-5fcd-46b9-ad02-c17d47742ecb",
   "metadata": {},
   "outputs": [],
   "source": [
    "driver.close()"
   ]
  },
  {
   "cell_type": "code",
   "execution_count": null,
   "id": "06bce0fc-c12f-491d-bf41-2749a4bf1906",
   "metadata": {},
   "outputs": [],
   "source": []
  }
 ],
 "metadata": {
  "kernelspec": {
   "display_name": "Python Multi",
   "language": "python",
   "name": "multi"
  },
  "language_info": {
   "codemirror_mode": {
    "name": "ipython",
    "version": 3
   },
   "file_extension": ".py",
   "mimetype": "text/x-python",
   "name": "python",
   "nbconvert_exporter": "python",
   "pygments_lexer": "ipython3",
   "version": "3.7.6"
  }
 },
 "nbformat": 4,
 "nbformat_minor": 5
}
