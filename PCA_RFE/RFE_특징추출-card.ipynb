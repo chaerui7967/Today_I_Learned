{
 "cells": [
  {
   "cell_type": "markdown",
   "id": "54606ba9-e647-4113-ae2c-736285fccd9d",
   "metadata": {},
   "source": [
    "# 특징추출 실습 - card"
   ]
  },
  {
   "cell_type": "code",
   "execution_count": 1,
   "id": "40042e6e-60be-4a5f-a341-e5ce1f9ee514",
   "metadata": {},
   "outputs": [],
   "source": [
    "# report which features were selected by RFE\n",
    "\n",
    "from sklearn.datasets import make_classification\n",
    "from sklearn.feature_selection import RFE\n",
    "from sklearn.tree import DecisionTreeClassifier\n",
    "\n",
    "import pandas as pd"
   ]
  },
  {
   "cell_type": "code",
   "execution_count": 2,
   "id": "377a582d-f5c8-4a2b-96cf-f2a1a00732a7",
   "metadata": {},
   "outputs": [],
   "source": [
    "data = 'credit_cards_dataset.csv'"
   ]
  },
  {
   "cell_type": "code",
   "execution_count": 3,
   "id": "c79b5113-c70d-48dd-ba06-d5b56503de86",
   "metadata": {},
   "outputs": [],
   "source": [
    "df = pd.read_csv(data)"
   ]
  },
  {
   "cell_type": "code",
   "execution_count": 4,
   "id": "d338fcd0-daef-4d6a-b2e1-6c1efb199908",
   "metadata": {},
   "outputs": [],
   "source": [
    "df = df.rename(columns = {'default payment next month': 'DEFAULT_NEXT_MONTH'})"
   ]
  },
  {
   "cell_type": "code",
   "execution_count": null,
   "id": "6b4d9bec-1aa3-464a-88e5-4741465cd8da",
   "metadata": {},
   "outputs": [],
   "source": [
    "df"
   ]
  },
  {
   "cell_type": "code",
   "execution_count": 5,
   "id": "1a26001d-2a7b-4578-99eb-376f6c899114",
   "metadata": {},
   "outputs": [
    {
     "name": "stdout",
     "output_type": "stream",
     "text": [
      "y = default.payment.next.month\n",
      "X = ['LIMIT_BAL', 'SEX', 'EDUCATION', 'MARRIAGE', 'AGE', 'PAY_0', 'PAY_2', 'PAY_3', 'PAY_4', 'PAY_5', 'PAY_6', 'BILL_AMT1', 'BILL_AMT2', 'BILL_AMT3', 'BILL_AMT4', 'BILL_AMT5', 'BILL_AMT6', 'PAY_AMT1', 'PAY_AMT2', 'PAY_AMT3', 'PAY_AMT4', 'PAY_AMT5', 'PAY_AMT6']\n"
     ]
    }
   ],
   "source": [
    "y='default.payment.next.month'\n",
    "X = [name for name in df.columns if name not in [y, 'ID', 'Y_Value']]\n",
    "print('y =', y)\n",
    "print('X =', X)"
   ]
  },
  {
   "cell_type": "code",
   "execution_count": 6,
   "id": "1a8759df-6259-4884-9836-5e28011d1905",
   "metadata": {},
   "outputs": [],
   "source": [
    "X = df[X]"
   ]
  },
  {
   "cell_type": "code",
   "execution_count": null,
   "id": "f11900d5-35dd-4830-a093-ac90ca11df69",
   "metadata": {},
   "outputs": [],
   "source": [
    "X"
   ]
  },
  {
   "cell_type": "code",
   "execution_count": 12,
   "id": "f4bef75c-a868-496e-a12d-ece2cf013f0d",
   "metadata": {},
   "outputs": [],
   "source": [
    "y = df[y]"
   ]
  },
  {
   "cell_type": "code",
   "execution_count": 13,
   "id": "22a882f8-20bb-433a-9a9e-a84533242e28",
   "metadata": {},
   "outputs": [
    {
     "data": {
      "text/plain": [
       "0        1\n",
       "1        1\n",
       "2        0\n",
       "3        0\n",
       "4        0\n",
       "        ..\n",
       "29995    0\n",
       "29996    0\n",
       "29997    1\n",
       "29998    1\n",
       "29999    1\n",
       "Name: default.payment.next.month, Length: 30000, dtype: int64"
      ]
     },
     "execution_count": 13,
     "metadata": {},
     "output_type": "execute_result"
    }
   ],
   "source": [
    "y"
   ]
  },
  {
   "cell_type": "code",
   "execution_count": null,
   "id": "96a021bb-d853-4ef5-9195-39cdd671aa18",
   "metadata": {},
   "outputs": [],
   "source": [
    "# define dataset # 1000개 샘플에서 특징이 10개 \n",
    "# X, y = make_classification(n_samples=1000, n_features=10, n_informative=5, n_redundant=5,\n",
    "# random_state=1)"
   ]
  },
  {
   "cell_type": "code",
   "execution_count": null,
   "id": "b058a7a3-2262-4838-a7e7-271f51377be4",
   "metadata": {},
   "outputs": [],
   "source": [
    "# define RFE # 차원축소 5개로 삭제하지 않고 랭킹을 줌\n",
    "rfe = RFE(estimator=DecisionTreeClassifier(), n_features_to_select=10)"
   ]
  },
  {
   "cell_type": "code",
   "execution_count": null,
   "id": "c419cb2a-9e17-4002-9e25-a41494212521",
   "metadata": {},
   "outputs": [],
   "source": [
    "# fit RFE\n",
    "rfe.fit(X, y)"
   ]
  },
  {
   "cell_type": "code",
   "execution_count": null,
   "id": "54b3530c-3fae-4ced-b7e5-afafa9d59a69",
   "metadata": {},
   "outputs": [],
   "source": [
    "# summarize all features\n",
    "for i in range(X.shape[1]):\n",
    "  print('Column: %d, Selected=%s, Rank: %d' % (i, rfe.support_[i], rfe.ranking_[i]))"
   ]
  },
  {
   "cell_type": "code",
   "execution_count": null,
   "id": "dce9fe4a-710d-40ed-b629-cda13313efab",
   "metadata": {},
   "outputs": [],
   "source": []
  }
 ],
 "metadata": {
  "kernelspec": {
   "display_name": "Python Multi",
   "language": "python",
   "name": "multi"
  },
  "language_info": {
   "codemirror_mode": {
    "name": "ipython",
    "version": 3
   },
   "file_extension": ".py",
   "mimetype": "text/x-python",
   "name": "python",
   "nbconvert_exporter": "python",
   "pygments_lexer": "ipython3",
   "version": "3.7.6"
  }
 },
 "nbformat": 4,
 "nbformat_minor": 5
}
