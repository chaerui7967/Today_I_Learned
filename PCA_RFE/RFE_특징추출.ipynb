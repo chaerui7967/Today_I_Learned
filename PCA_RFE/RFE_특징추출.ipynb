{
 "cells": [
  {
   "cell_type": "code",
   "execution_count": 2,
   "id": "40042e6e-60be-4a5f-a341-e5ce1f9ee514",
   "metadata": {},
   "outputs": [],
   "source": [
    "# report which features were selected by RFE\n",
    "\n",
    "from sklearn.datasets import make_classification\n",
    "from sklearn.feature_selection import RFE\n",
    "from sklearn.tree import DecisionTreeClassifier"
   ]
  },
  {
   "cell_type": "code",
   "execution_count": 3,
   "id": "96a021bb-d853-4ef5-9195-39cdd671aa18",
   "metadata": {},
   "outputs": [],
   "source": [
    "# define dataset # 1000개 샘플에서 특징이 10개 \n",
    "X, y = make_classification(n_samples=1000, n_features=10, n_informative=5, n_redundant=5,\n",
    "random_state=1)"
   ]
  },
  {
   "cell_type": "raw",
   "id": "221baeb5-e566-4094-9eea-86c67140e981",
   "metadata": {},
   "source": [
    "n_samples : 표본 데이터의 수, 디폴트 100\n",
    "\n",
    "n_features : 독립 변수의 수, 디폴트 20\n",
    "\n",
    "n_informative : 독립 변수 중 종속 변수(타겟)와 상관 관계가 있는 성분의 수, 디폴트 2\n",
    "\n",
    "n_redundant : 독립 변수 중 다른 독립 변수의 선형 조합으로 나타나는 성분의 수, 디폴트 2\n",
    "                다중공선성\n",
    "\n",
    "n_repeated : 독립 변수 중 단순 중복된 성분의 수, 디폴트 0\n",
    "\n",
    "n_classes : 종속 변수의 클래스 수, 디폴트 2\n",
    "\n",
    "n_clusters_per_class : 클래스 당 클러스터의 수, 디폴트 2\n",
    "\n",
    "weights : 각 클래스에 할당된 표본 수\n",
    "\n",
    "random_state : 난수 발생 시드"
   ]
  },
  {
   "cell_type": "code",
   "execution_count": 9,
   "id": "bcebc695-5a2c-406b-921e-44c3cfd27b22",
   "metadata": {},
   "outputs": [
    {
     "data": {
      "text/plain": [
       "(1000, 10)"
      ]
     },
     "execution_count": 9,
     "metadata": {},
     "output_type": "execute_result"
    }
   ],
   "source": [
    "X.shape"
   ]
  },
  {
   "cell_type": "code",
   "execution_count": 10,
   "id": "1311c2a3-9f06-4006-959e-6b1e532fe96f",
   "metadata": {},
   "outputs": [
    {
     "data": {
      "text/plain": [
       "(1000,)"
      ]
     },
     "execution_count": 10,
     "metadata": {},
     "output_type": "execute_result"
    }
   ],
   "source": [
    "y.shape"
   ]
  },
  {
   "cell_type": "code",
   "execution_count": 11,
   "id": "d14b49a1-a734-4c7b-a0bb-13be6a8359ae",
   "metadata": {},
   "outputs": [
    {
     "data": {
      "text/plain": [
       "1"
      ]
     },
     "execution_count": 11,
     "metadata": {},
     "output_type": "execute_result"
    }
   ],
   "source": [
    "y.ndim"
   ]
  },
  {
   "cell_type": "code",
   "execution_count": 12,
   "id": "b058a7a3-2262-4838-a7e7-271f51377be4",
   "metadata": {},
   "outputs": [],
   "source": [
    "# define RFE # 차원축소 5개로 삭제하지 않고 랭킹을 줌\n",
    "rfe = RFE(estimator=DecisionTreeClassifier(), n_features_to_select=5)"
   ]
  },
  {
   "cell_type": "code",
   "execution_count": 13,
   "id": "c419cb2a-9e17-4002-9e25-a41494212521",
   "metadata": {},
   "outputs": [
    {
     "data": {
      "text/plain": [
       "RFE(estimator=DecisionTreeClassifier(), n_features_to_select=5)"
      ]
     },
     "execution_count": 13,
     "metadata": {},
     "output_type": "execute_result"
    }
   ],
   "source": [
    "# fit RFE\n",
    "rfe.fit(X, y)"
   ]
  },
  {
   "cell_type": "code",
   "execution_count": 14,
   "id": "54b3530c-3fae-4ced-b7e5-afafa9d59a69",
   "metadata": {},
   "outputs": [
    {
     "name": "stdout",
     "output_type": "stream",
     "text": [
      "Column: 0, Selected=False, Rank: 5\n",
      "Column: 1, Selected=False, Rank: 4\n",
      "Column: 2, Selected=True, Rank: 1\n",
      "Column: 3, Selected=True, Rank: 1\n",
      "Column: 4, Selected=True, Rank: 1\n",
      "Column: 5, Selected=False, Rank: 6\n",
      "Column: 6, Selected=True, Rank: 1\n",
      "Column: 7, Selected=False, Rank: 2\n",
      "Column: 8, Selected=True, Rank: 1\n",
      "Column: 9, Selected=False, Rank: 3\n"
     ]
    }
   ],
   "source": [
    "# summarize all features\n",
    "for i in range(X.shape[1]):\n",
    "  print('Column: %d, Selected=%s, Rank: %d' % (i, rfe.support_[i], rfe.ranking_[i]))"
   ]
  },
  {
   "cell_type": "code",
   "execution_count": null,
   "id": "dce9fe4a-710d-40ed-b629-cda13313efab",
   "metadata": {},
   "outputs": [],
   "source": []
  }
 ],
 "metadata": {
  "kernelspec": {
   "display_name": "Python Multi",
   "language": "python",
   "name": "multi"
  },
  "language_info": {
   "codemirror_mode": {
    "name": "ipython",
    "version": 3
   },
   "file_extension": ".py",
   "mimetype": "text/x-python",
   "name": "python",
   "nbconvert_exporter": "python",
   "pygments_lexer": "ipython3",
   "version": "3.7.6"
  }
 },
 "nbformat": 4,
 "nbformat_minor": 5
}
