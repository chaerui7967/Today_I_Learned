{
 "cells": [
  {
   "cell_type": "markdown",
   "id": "9004248d-7aab-464b-83f8-d772a49fba33",
   "metadata": {},
   "source": [
    "# rfe, pca, regression"
   ]
  },
  {
   "cell_type": "code",
   "execution_count": 1,
   "id": "6700e88a-4965-4594-97ec-ce5ccea33337",
   "metadata": {},
   "outputs": [],
   "source": [
    "import pymysql.cursors\n",
    "import pandas as pd"
   ]
  },
  {
   "cell_type": "code",
   "execution_count": 2,
   "id": "dc005d01-6b9c-4c9a-bcd4-cd9a7d622492",
   "metadata": {},
   "outputs": [],
   "source": [
    "conn = pymysql.connect(host='localhost', user='me', \n",
    "                       password='1234', db='tip', charset='utf8',\n",
    "                       autocommit=True, cursorclass=pymysql.cursors.DictCursor)\n",
    "try:\n",
    "    with conn.cursor() as curs:\n",
    "        sql = \"select * from tips;\"\n",
    "        curs.execute(sql)\n",
    "        rs = curs.fetchall()\n",
    "        df = pd.DataFrame(rs)\n",
    "finally:\n",
    "    conn.close()"
   ]
  },
  {
   "cell_type": "code",
   "execution_count": 3,
   "id": "385d4b98-5c1f-45ce-91a6-ad347388e3ca",
   "metadata": {},
   "outputs": [],
   "source": [
    "df[\"sex\"] = df[\"sex\"].replace({\"Female\" : 0, \"Male\" : 1})\n",
    "df[\"smoker\"] = df[\"smoker\"].replace({\"No\" : 0, \"Yes\" : 1})\n",
    "df[\"day\"] = df[\"day\"].replace({\"Thur\" : 0, \"Fri\" : 1, \"Sat\" : 2, \"Sun\" : 3})\n",
    "df[\"time\"] = df[\"time\"].replace({\"Lunch\" : 0, \"Dinner\" : 1})\n",
    "df['tip_rate'] = df['tip']/df['total_bill']"
   ]
  },
  {
   "cell_type": "code",
   "execution_count": 4,
   "id": "dfd9eee0-884e-4481-9ff8-45e14b980517",
   "metadata": {},
   "outputs": [
    {
     "data": {
      "text/html": [
       "<div>\n",
       "<style scoped>\n",
       "    .dataframe tbody tr th:only-of-type {\n",
       "        vertical-align: middle;\n",
       "    }\n",
       "\n",
       "    .dataframe tbody tr th {\n",
       "        vertical-align: top;\n",
       "    }\n",
       "\n",
       "    .dataframe thead th {\n",
       "        text-align: right;\n",
       "    }\n",
       "</style>\n",
       "<table border=\"1\" class=\"dataframe\">\n",
       "  <thead>\n",
       "    <tr style=\"text-align: right;\">\n",
       "      <th></th>\n",
       "      <th>total_bill</th>\n",
       "      <th>tip</th>\n",
       "      <th>sex</th>\n",
       "      <th>smoker</th>\n",
       "      <th>day</th>\n",
       "      <th>time</th>\n",
       "      <th>size</th>\n",
       "      <th>tip_rate</th>\n",
       "    </tr>\n",
       "  </thead>\n",
       "  <tbody>\n",
       "    <tr>\n",
       "      <th>count</th>\n",
       "      <td>249.000000</td>\n",
       "      <td>249.000000</td>\n",
       "      <td>247.000000</td>\n",
       "      <td>249.000000</td>\n",
       "      <td>249.000000</td>\n",
       "      <td>248.000000</td>\n",
       "      <td>248.000000</td>\n",
       "      <td>249.000000</td>\n",
       "    </tr>\n",
       "    <tr>\n",
       "      <th>mean</th>\n",
       "      <td>19.622972</td>\n",
       "      <td>2.968795</td>\n",
       "      <td>0.643725</td>\n",
       "      <td>0.373494</td>\n",
       "      <td>1.751004</td>\n",
       "      <td>0.725806</td>\n",
       "      <td>2.572581</td>\n",
       "      <td>0.160391</td>\n",
       "    </tr>\n",
       "    <tr>\n",
       "      <th>std</th>\n",
       "      <td>8.893766</td>\n",
       "      <td>1.385573</td>\n",
       "      <td>0.479870</td>\n",
       "      <td>0.484706</td>\n",
       "      <td>1.158006</td>\n",
       "      <td>0.447009</td>\n",
       "      <td>0.945249</td>\n",
       "      <td>0.060794</td>\n",
       "    </tr>\n",
       "    <tr>\n",
       "      <th>min</th>\n",
       "      <td>3.070000</td>\n",
       "      <td>1.000000</td>\n",
       "      <td>0.000000</td>\n",
       "      <td>0.000000</td>\n",
       "      <td>0.000000</td>\n",
       "      <td>0.000000</td>\n",
       "      <td>1.000000</td>\n",
       "      <td>0.035638</td>\n",
       "    </tr>\n",
       "    <tr>\n",
       "      <th>25%</th>\n",
       "      <td>13.160000</td>\n",
       "      <td>2.000000</td>\n",
       "      <td>0.000000</td>\n",
       "      <td>0.000000</td>\n",
       "      <td>1.000000</td>\n",
       "      <td>0.000000</td>\n",
       "      <td>2.000000</td>\n",
       "      <td>0.129422</td>\n",
       "    </tr>\n",
       "    <tr>\n",
       "      <th>50%</th>\n",
       "      <td>17.510000</td>\n",
       "      <td>2.750000</td>\n",
       "      <td>1.000000</td>\n",
       "      <td>0.000000</td>\n",
       "      <td>2.000000</td>\n",
       "      <td>1.000000</td>\n",
       "      <td>2.000000</td>\n",
       "      <td>0.155581</td>\n",
       "    </tr>\n",
       "    <tr>\n",
       "      <th>75%</th>\n",
       "      <td>24.060000</td>\n",
       "      <td>3.510000</td>\n",
       "      <td>1.000000</td>\n",
       "      <td>1.000000</td>\n",
       "      <td>3.000000</td>\n",
       "      <td>1.000000</td>\n",
       "      <td>3.000000</td>\n",
       "      <td>0.190476</td>\n",
       "    </tr>\n",
       "    <tr>\n",
       "      <th>max</th>\n",
       "      <td>50.810000</td>\n",
       "      <td>10.000000</td>\n",
       "      <td>1.000000</td>\n",
       "      <td>1.000000</td>\n",
       "      <td>3.000000</td>\n",
       "      <td>1.000000</td>\n",
       "      <td>6.000000</td>\n",
       "      <td>0.710345</td>\n",
       "    </tr>\n",
       "  </tbody>\n",
       "</table>\n",
       "</div>"
      ],
      "text/plain": [
       "       total_bill         tip         sex      smoker         day        time  \\\n",
       "count  249.000000  249.000000  247.000000  249.000000  249.000000  248.000000   \n",
       "mean    19.622972    2.968795    0.643725    0.373494    1.751004    0.725806   \n",
       "std      8.893766    1.385573    0.479870    0.484706    1.158006    0.447009   \n",
       "min      3.070000    1.000000    0.000000    0.000000    0.000000    0.000000   \n",
       "25%     13.160000    2.000000    0.000000    0.000000    1.000000    0.000000   \n",
       "50%     17.510000    2.750000    1.000000    0.000000    2.000000    1.000000   \n",
       "75%     24.060000    3.510000    1.000000    1.000000    3.000000    1.000000   \n",
       "max     50.810000   10.000000    1.000000    1.000000    3.000000    1.000000   \n",
       "\n",
       "             size    tip_rate  \n",
       "count  248.000000  249.000000  \n",
       "mean     2.572581    0.160391  \n",
       "std      0.945249    0.060794  \n",
       "min      1.000000    0.035638  \n",
       "25%      2.000000    0.129422  \n",
       "50%      2.000000    0.155581  \n",
       "75%      3.000000    0.190476  \n",
       "max      6.000000    0.710345  "
      ]
     },
     "execution_count": 4,
     "metadata": {},
     "output_type": "execute_result"
    }
   ],
   "source": [
    "df.describe()"
   ]
  },
  {
   "cell_type": "code",
   "execution_count": 5,
   "id": "8973cd12-d9e4-4c76-9eaa-13d6d0e3d1a5",
   "metadata": {},
   "outputs": [
    {
     "data": {
      "text/plain": [
       "total_bill    0\n",
       "tip           0\n",
       "sex           2\n",
       "smoker        0\n",
       "day           0\n",
       "time          1\n",
       "size          1\n",
       "tip_rate      0\n",
       "dtype: int64"
      ]
     },
     "execution_count": 5,
     "metadata": {},
     "output_type": "execute_result"
    }
   ],
   "source": [
    "df.isnull().sum()"
   ]
  },
  {
   "cell_type": "markdown",
   "id": "d0d766a4-83ca-4a23-a528-b7b76acf5782",
   "metadata": {},
   "source": [
    "# null값 처리"
   ]
  },
  {
   "cell_type": "code",
   "execution_count": 6,
   "id": "28e94bfd-4be6-4a60-8600-fe9b010e5c27",
   "metadata": {},
   "outputs": [],
   "source": [
    "from numpy import isnan\n",
    "from sklearn.impute import SimpleImputer"
   ]
  },
  {
   "cell_type": "code",
   "execution_count": 7,
   "id": "c215bdb9-d6d7-4af5-b0db-77b0e2134f1e",
   "metadata": {},
   "outputs": [],
   "source": [
    "y = df['tip']\n",
    "x = df.drop('tip',axis =1)"
   ]
  },
  {
   "cell_type": "code",
   "execution_count": 8,
   "id": "93667539-5700-419e-bb63-40435b5eaac8",
   "metadata": {},
   "outputs": [],
   "source": [
    "data = x.values\n",
    "y = y.values"
   ]
  },
  {
   "cell_type": "code",
   "execution_count": 9,
   "id": "f06a730b-7cf4-4242-b385-9df4ac7d4ac7",
   "metadata": {},
   "outputs": [
    {
     "data": {
      "text/plain": [
       "4"
      ]
     },
     "execution_count": 9,
     "metadata": {},
     "output_type": "execute_result"
    }
   ],
   "source": [
    "sum(isnan(data).flatten())"
   ]
  },
  {
   "cell_type": "code",
   "execution_count": 10,
   "id": "4baf87c8-c481-4515-a5bb-9fa3a947923e",
   "metadata": {},
   "outputs": [
    {
     "data": {
      "text/plain": [
       "0"
      ]
     },
     "execution_count": 10,
     "metadata": {},
     "output_type": "execute_result"
    }
   ],
   "source": [
    "sum(isnan(y).flatten())"
   ]
  },
  {
   "cell_type": "code",
   "execution_count": 11,
   "id": "ee77465a-cb4a-4e23-8e85-14aa6d60090e",
   "metadata": {},
   "outputs": [],
   "source": [
    "imputer = SimpleImputer(strategy = 'median')\n",
    "imputer.fit(data)\n",
    "data_trans = imputer.transform(data)"
   ]
  },
  {
   "cell_type": "code",
   "execution_count": 12,
   "id": "a32702da-48fa-4f29-bb15-26d15e11c2b5",
   "metadata": {},
   "outputs": [],
   "source": [
    "df1 = pd.DataFrame(data_trans)"
   ]
  },
  {
   "cell_type": "code",
   "execution_count": 13,
   "id": "0843b124-2f80-49ba-b03c-e1c224d0d82a",
   "metadata": {},
   "outputs": [
    {
     "data": {
      "text/plain": [
       "0    0\n",
       "1    0\n",
       "2    0\n",
       "3    0\n",
       "4    0\n",
       "5    0\n",
       "6    0\n",
       "dtype: int64"
      ]
     },
     "execution_count": 13,
     "metadata": {},
     "output_type": "execute_result"
    }
   ],
   "source": [
    "df1.isnull().sum()"
   ]
  },
  {
   "cell_type": "code",
   "execution_count": 14,
   "id": "bd9d292f-81ec-40d6-b69b-7c435d3448c3",
   "metadata": {},
   "outputs": [],
   "source": [
    "df1.columns = ['total_bill', \"sex\", 'smoker',\t'day', 'time', 'size', 'tip_rate']"
   ]
  },
  {
   "cell_type": "code",
   "execution_count": 15,
   "id": "0fe50360-6d8c-4bf8-9761-f3ea90aa1297",
   "metadata": {},
   "outputs": [
    {
     "data": {
      "text/html": [
       "<div>\n",
       "<style scoped>\n",
       "    .dataframe tbody tr th:only-of-type {\n",
       "        vertical-align: middle;\n",
       "    }\n",
       "\n",
       "    .dataframe tbody tr th {\n",
       "        vertical-align: top;\n",
       "    }\n",
       "\n",
       "    .dataframe thead th {\n",
       "        text-align: right;\n",
       "    }\n",
       "</style>\n",
       "<table border=\"1\" class=\"dataframe\">\n",
       "  <thead>\n",
       "    <tr style=\"text-align: right;\">\n",
       "      <th></th>\n",
       "      <th>total_bill</th>\n",
       "      <th>sex</th>\n",
       "      <th>smoker</th>\n",
       "      <th>day</th>\n",
       "      <th>time</th>\n",
       "      <th>size</th>\n",
       "      <th>tip_rate</th>\n",
       "    </tr>\n",
       "  </thead>\n",
       "  <tbody>\n",
       "    <tr>\n",
       "      <th>0</th>\n",
       "      <td>16.99</td>\n",
       "      <td>0.0</td>\n",
       "      <td>0.0</td>\n",
       "      <td>3.0</td>\n",
       "      <td>1.0</td>\n",
       "      <td>2.0</td>\n",
       "      <td>0.059447</td>\n",
       "    </tr>\n",
       "    <tr>\n",
       "      <th>1</th>\n",
       "      <td>10.34</td>\n",
       "      <td>1.0</td>\n",
       "      <td>0.0</td>\n",
       "      <td>3.0</td>\n",
       "      <td>1.0</td>\n",
       "      <td>3.0</td>\n",
       "      <td>0.160542</td>\n",
       "    </tr>\n",
       "    <tr>\n",
       "      <th>2</th>\n",
       "      <td>21.01</td>\n",
       "      <td>1.0</td>\n",
       "      <td>0.0</td>\n",
       "      <td>3.0</td>\n",
       "      <td>1.0</td>\n",
       "      <td>3.0</td>\n",
       "      <td>0.166587</td>\n",
       "    </tr>\n",
       "    <tr>\n",
       "      <th>3</th>\n",
       "      <td>23.68</td>\n",
       "      <td>1.0</td>\n",
       "      <td>0.0</td>\n",
       "      <td>3.0</td>\n",
       "      <td>1.0</td>\n",
       "      <td>2.0</td>\n",
       "      <td>0.139780</td>\n",
       "    </tr>\n",
       "    <tr>\n",
       "      <th>4</th>\n",
       "      <td>24.59</td>\n",
       "      <td>0.0</td>\n",
       "      <td>0.0</td>\n",
       "      <td>3.0</td>\n",
       "      <td>1.0</td>\n",
       "      <td>4.0</td>\n",
       "      <td>0.146808</td>\n",
       "    </tr>\n",
       "    <tr>\n",
       "      <th>...</th>\n",
       "      <td>...</td>\n",
       "      <td>...</td>\n",
       "      <td>...</td>\n",
       "      <td>...</td>\n",
       "      <td>...</td>\n",
       "      <td>...</td>\n",
       "      <td>...</td>\n",
       "    </tr>\n",
       "    <tr>\n",
       "      <th>244</th>\n",
       "      <td>16.99</td>\n",
       "      <td>0.0</td>\n",
       "      <td>0.0</td>\n",
       "      <td>3.0</td>\n",
       "      <td>1.0</td>\n",
       "      <td>2.0</td>\n",
       "      <td>0.059447</td>\n",
       "    </tr>\n",
       "    <tr>\n",
       "      <th>245</th>\n",
       "      <td>10.34</td>\n",
       "      <td>1.0</td>\n",
       "      <td>0.0</td>\n",
       "      <td>3.0</td>\n",
       "      <td>1.0</td>\n",
       "      <td>3.0</td>\n",
       "      <td>0.160542</td>\n",
       "    </tr>\n",
       "    <tr>\n",
       "      <th>246</th>\n",
       "      <td>10.34</td>\n",
       "      <td>1.0</td>\n",
       "      <td>0.0</td>\n",
       "      <td>3.0</td>\n",
       "      <td>1.0</td>\n",
       "      <td>3.0</td>\n",
       "      <td>0.160542</td>\n",
       "    </tr>\n",
       "    <tr>\n",
       "      <th>247</th>\n",
       "      <td>10.34</td>\n",
       "      <td>1.0</td>\n",
       "      <td>0.0</td>\n",
       "      <td>3.0</td>\n",
       "      <td>1.0</td>\n",
       "      <td>3.0</td>\n",
       "      <td>0.160542</td>\n",
       "    </tr>\n",
       "    <tr>\n",
       "      <th>248</th>\n",
       "      <td>10.34</td>\n",
       "      <td>1.0</td>\n",
       "      <td>0.0</td>\n",
       "      <td>3.0</td>\n",
       "      <td>1.0</td>\n",
       "      <td>2.0</td>\n",
       "      <td>0.160542</td>\n",
       "    </tr>\n",
       "  </tbody>\n",
       "</table>\n",
       "<p>249 rows × 7 columns</p>\n",
       "</div>"
      ],
      "text/plain": [
       "     total_bill  sex  smoker  day  time  size  tip_rate\n",
       "0         16.99  0.0     0.0  3.0   1.0   2.0  0.059447\n",
       "1         10.34  1.0     0.0  3.0   1.0   3.0  0.160542\n",
       "2         21.01  1.0     0.0  3.0   1.0   3.0  0.166587\n",
       "3         23.68  1.0     0.0  3.0   1.0   2.0  0.139780\n",
       "4         24.59  0.0     0.0  3.0   1.0   4.0  0.146808\n",
       "..          ...  ...     ...  ...   ...   ...       ...\n",
       "244       16.99  0.0     0.0  3.0   1.0   2.0  0.059447\n",
       "245       10.34  1.0     0.0  3.0   1.0   3.0  0.160542\n",
       "246       10.34  1.0     0.0  3.0   1.0   3.0  0.160542\n",
       "247       10.34  1.0     0.0  3.0   1.0   3.0  0.160542\n",
       "248       10.34  1.0     0.0  3.0   1.0   2.0  0.160542\n",
       "\n",
       "[249 rows x 7 columns]"
      ]
     },
     "execution_count": 15,
     "metadata": {},
     "output_type": "execute_result"
    }
   ],
   "source": [
    "df1"
   ]
  },
  {
   "cell_type": "markdown",
   "id": "5819c185-86d4-4810-a807-4d2ad4bb0e31",
   "metadata": {},
   "source": [
    "## rfe"
   ]
  },
  {
   "cell_type": "code",
   "execution_count": 16,
   "id": "84691c33-b922-4484-9b20-70907da76034",
   "metadata": {},
   "outputs": [],
   "source": [
    "from sklearn.feature_selection import RFE\n",
    "from sklearn.svm import SVR"
   ]
  },
  {
   "cell_type": "code",
   "execution_count": 17,
   "id": "16129676-375a-46bb-97c2-93cea2f5cfe4",
   "metadata": {},
   "outputs": [],
   "source": [
    "rfe = RFE(estimator=SVR(kernel=\"linear\"), n_features_to_select=4)"
   ]
  },
  {
   "cell_type": "code",
   "execution_count": 18,
   "id": "79c5eb62-3e60-4797-af4b-c0169f10fe11",
   "metadata": {},
   "outputs": [
    {
     "data": {
      "text/plain": [
       "RFE(estimator=SVR(kernel='linear'), n_features_to_select=4)"
      ]
     },
     "execution_count": 18,
     "metadata": {},
     "output_type": "execute_result"
    }
   ],
   "source": [
    "# fit RFE\n",
    "rfe.fit(df1, y)"
   ]
  },
  {
   "cell_type": "code",
   "execution_count": 19,
   "id": "af2aff26-ee3b-492f-bc1e-f53420aef86f",
   "metadata": {},
   "outputs": [
    {
     "data": {
      "text/plain": [
       "(249, 7)"
      ]
     },
     "execution_count": 19,
     "metadata": {},
     "output_type": "execute_result"
    }
   ],
   "source": [
    "df1.shape"
   ]
  },
  {
   "cell_type": "code",
   "execution_count": 20,
   "id": "9a1720af-532d-4d0f-8cdc-5b86e14751c9",
   "metadata": {},
   "outputs": [
    {
     "name": "stdout",
     "output_type": "stream",
     "text": [
      "Column: 0, Selected=True, Rank: 1\n",
      "Column: 1, Selected=True, Rank: 1\n",
      "Column: 2, Selected=True, Rank: 1\n",
      "Column: 3, Selected=False, Rank: 4\n",
      "Column: 4, Selected=False, Rank: 3\n",
      "Column: 5, Selected=False, Rank: 2\n",
      "Column: 6, Selected=True, Rank: 1\n"
     ]
    }
   ],
   "source": [
    "for i in range(df1.shape[1]):\n",
    "  print('Column: %d, Selected=%s, Rank: %d' % (i, rfe.support_[i], rfe.ranking_[i]))"
   ]
  },
  {
   "cell_type": "code",
   "execution_count": 21,
   "id": "2aeaec4f-2620-42cb-974f-b39bd65e566e",
   "metadata": {},
   "outputs": [
    {
     "data": {
      "text/html": [
       "<div>\n",
       "<style scoped>\n",
       "    .dataframe tbody tr th:only-of-type {\n",
       "        vertical-align: middle;\n",
       "    }\n",
       "\n",
       "    .dataframe tbody tr th {\n",
       "        vertical-align: top;\n",
       "    }\n",
       "\n",
       "    .dataframe thead th {\n",
       "        text-align: right;\n",
       "    }\n",
       "</style>\n",
       "<table border=\"1\" class=\"dataframe\">\n",
       "  <thead>\n",
       "    <tr style=\"text-align: right;\">\n",
       "      <th></th>\n",
       "      <th>total_bill</th>\n",
       "      <th>sex</th>\n",
       "      <th>smoker</th>\n",
       "      <th>day</th>\n",
       "      <th>time</th>\n",
       "      <th>size</th>\n",
       "      <th>tip_rate</th>\n",
       "    </tr>\n",
       "  </thead>\n",
       "  <tbody>\n",
       "    <tr>\n",
       "      <th>0</th>\n",
       "      <td>16.99</td>\n",
       "      <td>0.0</td>\n",
       "      <td>0.0</td>\n",
       "      <td>3.0</td>\n",
       "      <td>1.0</td>\n",
       "      <td>2.0</td>\n",
       "      <td>0.059447</td>\n",
       "    </tr>\n",
       "    <tr>\n",
       "      <th>1</th>\n",
       "      <td>10.34</td>\n",
       "      <td>1.0</td>\n",
       "      <td>0.0</td>\n",
       "      <td>3.0</td>\n",
       "      <td>1.0</td>\n",
       "      <td>3.0</td>\n",
       "      <td>0.160542</td>\n",
       "    </tr>\n",
       "    <tr>\n",
       "      <th>2</th>\n",
       "      <td>21.01</td>\n",
       "      <td>1.0</td>\n",
       "      <td>0.0</td>\n",
       "      <td>3.0</td>\n",
       "      <td>1.0</td>\n",
       "      <td>3.0</td>\n",
       "      <td>0.166587</td>\n",
       "    </tr>\n",
       "    <tr>\n",
       "      <th>3</th>\n",
       "      <td>23.68</td>\n",
       "      <td>1.0</td>\n",
       "      <td>0.0</td>\n",
       "      <td>3.0</td>\n",
       "      <td>1.0</td>\n",
       "      <td>2.0</td>\n",
       "      <td>0.139780</td>\n",
       "    </tr>\n",
       "    <tr>\n",
       "      <th>4</th>\n",
       "      <td>24.59</td>\n",
       "      <td>0.0</td>\n",
       "      <td>0.0</td>\n",
       "      <td>3.0</td>\n",
       "      <td>1.0</td>\n",
       "      <td>4.0</td>\n",
       "      <td>0.146808</td>\n",
       "    </tr>\n",
       "    <tr>\n",
       "      <th>...</th>\n",
       "      <td>...</td>\n",
       "      <td>...</td>\n",
       "      <td>...</td>\n",
       "      <td>...</td>\n",
       "      <td>...</td>\n",
       "      <td>...</td>\n",
       "      <td>...</td>\n",
       "    </tr>\n",
       "    <tr>\n",
       "      <th>244</th>\n",
       "      <td>16.99</td>\n",
       "      <td>0.0</td>\n",
       "      <td>0.0</td>\n",
       "      <td>3.0</td>\n",
       "      <td>1.0</td>\n",
       "      <td>2.0</td>\n",
       "      <td>0.059447</td>\n",
       "    </tr>\n",
       "    <tr>\n",
       "      <th>245</th>\n",
       "      <td>10.34</td>\n",
       "      <td>1.0</td>\n",
       "      <td>0.0</td>\n",
       "      <td>3.0</td>\n",
       "      <td>1.0</td>\n",
       "      <td>3.0</td>\n",
       "      <td>0.160542</td>\n",
       "    </tr>\n",
       "    <tr>\n",
       "      <th>246</th>\n",
       "      <td>10.34</td>\n",
       "      <td>1.0</td>\n",
       "      <td>0.0</td>\n",
       "      <td>3.0</td>\n",
       "      <td>1.0</td>\n",
       "      <td>3.0</td>\n",
       "      <td>0.160542</td>\n",
       "    </tr>\n",
       "    <tr>\n",
       "      <th>247</th>\n",
       "      <td>10.34</td>\n",
       "      <td>1.0</td>\n",
       "      <td>0.0</td>\n",
       "      <td>3.0</td>\n",
       "      <td>1.0</td>\n",
       "      <td>3.0</td>\n",
       "      <td>0.160542</td>\n",
       "    </tr>\n",
       "    <tr>\n",
       "      <th>248</th>\n",
       "      <td>10.34</td>\n",
       "      <td>1.0</td>\n",
       "      <td>0.0</td>\n",
       "      <td>3.0</td>\n",
       "      <td>1.0</td>\n",
       "      <td>2.0</td>\n",
       "      <td>0.160542</td>\n",
       "    </tr>\n",
       "  </tbody>\n",
       "</table>\n",
       "<p>249 rows × 7 columns</p>\n",
       "</div>"
      ],
      "text/plain": [
       "     total_bill  sex  smoker  day  time  size  tip_rate\n",
       "0         16.99  0.0     0.0  3.0   1.0   2.0  0.059447\n",
       "1         10.34  1.0     0.0  3.0   1.0   3.0  0.160542\n",
       "2         21.01  1.0     0.0  3.0   1.0   3.0  0.166587\n",
       "3         23.68  1.0     0.0  3.0   1.0   2.0  0.139780\n",
       "4         24.59  0.0     0.0  3.0   1.0   4.0  0.146808\n",
       "..          ...  ...     ...  ...   ...   ...       ...\n",
       "244       16.99  0.0     0.0  3.0   1.0   2.0  0.059447\n",
       "245       10.34  1.0     0.0  3.0   1.0   3.0  0.160542\n",
       "246       10.34  1.0     0.0  3.0   1.0   3.0  0.160542\n",
       "247       10.34  1.0     0.0  3.0   1.0   3.0  0.160542\n",
       "248       10.34  1.0     0.0  3.0   1.0   2.0  0.160542\n",
       "\n",
       "[249 rows x 7 columns]"
      ]
     },
     "execution_count": 21,
     "metadata": {},
     "output_type": "execute_result"
    }
   ],
   "source": [
    "df1"
   ]
  },
  {
   "cell_type": "code",
   "execution_count": 22,
   "id": "8cce47e8-f9fe-420e-a21a-88edb8624bf7",
   "metadata": {},
   "outputs": [
    {
     "data": {
      "text/html": [
       "<div>\n",
       "<style scoped>\n",
       "    .dataframe tbody tr th:only-of-type {\n",
       "        vertical-align: middle;\n",
       "    }\n",
       "\n",
       "    .dataframe tbody tr th {\n",
       "        vertical-align: top;\n",
       "    }\n",
       "\n",
       "    .dataframe thead th {\n",
       "        text-align: right;\n",
       "    }\n",
       "</style>\n",
       "<table border=\"1\" class=\"dataframe\">\n",
       "  <thead>\n",
       "    <tr style=\"text-align: right;\">\n",
       "      <th></th>\n",
       "      <th>total_bill</th>\n",
       "      <th>sex</th>\n",
       "      <th>smoker</th>\n",
       "      <th>day</th>\n",
       "      <th>time</th>\n",
       "      <th>size</th>\n",
       "      <th>tip_rate</th>\n",
       "    </tr>\n",
       "  </thead>\n",
       "  <tbody>\n",
       "    <tr>\n",
       "      <th>total_bill</th>\n",
       "      <td>1.000000</td>\n",
       "      <td>0.131455</td>\n",
       "      <td>0.098592</td>\n",
       "      <td>0.150184</td>\n",
       "      <td>0.169485</td>\n",
       "      <td>0.588716</td>\n",
       "      <td>-0.331579</td>\n",
       "    </tr>\n",
       "    <tr>\n",
       "      <th>sex</th>\n",
       "      <td>0.131455</td>\n",
       "      <td>1.000000</td>\n",
       "      <td>-0.002302</td>\n",
       "      <td>0.233269</td>\n",
       "      <td>0.206811</td>\n",
       "      <td>0.090820</td>\n",
       "      <td>-0.059502</td>\n",
       "    </tr>\n",
       "    <tr>\n",
       "      <th>smoker</th>\n",
       "      <td>0.098592</td>\n",
       "      <td>-0.002302</td>\n",
       "      <td>1.000000</td>\n",
       "      <td>-0.049162</td>\n",
       "      <td>0.044676</td>\n",
       "      <td>-0.132500</td>\n",
       "      <td>0.035693</td>\n",
       "    </tr>\n",
       "    <tr>\n",
       "      <th>day</th>\n",
       "      <td>0.150184</td>\n",
       "      <td>0.233269</td>\n",
       "      <td>-0.049162</td>\n",
       "      <td>1.000000</td>\n",
       "      <td>0.874082</td>\n",
       "      <td>0.163612</td>\n",
       "      <td>0.005931</td>\n",
       "    </tr>\n",
       "    <tr>\n",
       "      <th>time</th>\n",
       "      <td>0.169485</td>\n",
       "      <td>0.206811</td>\n",
       "      <td>0.044676</td>\n",
       "      <td>0.874082</td>\n",
       "      <td>1.000000</td>\n",
       "      <td>0.103127</td>\n",
       "      <td>-0.037749</td>\n",
       "    </tr>\n",
       "    <tr>\n",
       "      <th>size</th>\n",
       "      <td>0.588716</td>\n",
       "      <td>0.090820</td>\n",
       "      <td>-0.132500</td>\n",
       "      <td>0.163612</td>\n",
       "      <td>0.103127</td>\n",
       "      <td>1.000000</td>\n",
       "      <td>-0.137625</td>\n",
       "    </tr>\n",
       "    <tr>\n",
       "      <th>tip_rate</th>\n",
       "      <td>-0.331579</td>\n",
       "      <td>-0.059502</td>\n",
       "      <td>0.035693</td>\n",
       "      <td>0.005931</td>\n",
       "      <td>-0.037749</td>\n",
       "      <td>-0.137625</td>\n",
       "      <td>1.000000</td>\n",
       "    </tr>\n",
       "  </tbody>\n",
       "</table>\n",
       "</div>"
      ],
      "text/plain": [
       "            total_bill       sex    smoker       day      time      size  \\\n",
       "total_bill    1.000000  0.131455  0.098592  0.150184  0.169485  0.588716   \n",
       "sex           0.131455  1.000000 -0.002302  0.233269  0.206811  0.090820   \n",
       "smoker        0.098592 -0.002302  1.000000 -0.049162  0.044676 -0.132500   \n",
       "day           0.150184  0.233269 -0.049162  1.000000  0.874082  0.163612   \n",
       "time          0.169485  0.206811  0.044676  0.874082  1.000000  0.103127   \n",
       "size          0.588716  0.090820 -0.132500  0.163612  0.103127  1.000000   \n",
       "tip_rate     -0.331579 -0.059502  0.035693  0.005931 -0.037749 -0.137625   \n",
       "\n",
       "            tip_rate  \n",
       "total_bill -0.331579  \n",
       "sex        -0.059502  \n",
       "smoker      0.035693  \n",
       "day         0.005931  \n",
       "time       -0.037749  \n",
       "size       -0.137625  \n",
       "tip_rate    1.000000  "
      ]
     },
     "execution_count": 22,
     "metadata": {},
     "output_type": "execute_result"
    }
   ],
   "source": [
    "df1.corr()"
   ]
  },
  {
   "cell_type": "markdown",
   "id": "0e1c9909-d7e0-4455-af85-4b16d7f23876",
   "metadata": {},
   "source": [
    "# pca"
   ]
  },
  {
   "cell_type": "code",
   "execution_count": 23,
   "id": "fda58b88-ee88-40e9-93e8-58aad7c4fcec",
   "metadata": {},
   "outputs": [],
   "source": [
    "from sklearn.decomposition import PCA"
   ]
  },
  {
   "cell_type": "code",
   "execution_count": 24,
   "id": "9070927c-7bb3-4724-ba9b-2718e3d8e899",
   "metadata": {},
   "outputs": [],
   "source": [
    "df1['tip_rate'] = df1['tip_rate'] * 100"
   ]
  },
  {
   "cell_type": "markdown",
   "id": "83b62688-7f1b-444d-a4ca-6cd9b0e340e4",
   "metadata": {},
   "source": [
    "#### 표준화"
   ]
  },
  {
   "cell_type": "code",
   "execution_count": 25,
   "id": "7acc5f5f-9358-40aa-8fab-3d645ccf6ef3",
   "metadata": {},
   "outputs": [],
   "source": [
    "from sklearn.preprocessing import StandardScaler"
   ]
  },
  {
   "cell_type": "code",
   "execution_count": 26,
   "id": "9c8505b9-951e-4ee5-943c-cabec2ac7e79",
   "metadata": {},
   "outputs": [],
   "source": [
    "df_norm = StandardScaler().fit_transform(df1)"
   ]
  },
  {
   "cell_type": "code",
   "execution_count": 27,
   "id": "9267165d-876c-44d9-96d1-365c1542bac8",
   "metadata": {},
   "outputs": [],
   "source": [
    "df_norm = pd.DataFrame(df_norm)"
   ]
  },
  {
   "cell_type": "markdown",
   "id": "81c8964c-72d4-4f18-8a84-b69c976e6e1c",
   "metadata": {},
   "source": [
    "### ==== pca 이해 ===\n",
    " \n",
    "##### 참고 ] https://chancoding.tistory.com/53\n",
    "##### https://steadiness-193.tistory.com/245"
   ]
  },
  {
   "cell_type": "code",
   "execution_count": 77,
   "id": "dee76fd4-65b0-4275-bf1b-7cdb2112b520",
   "metadata": {},
   "outputs": [],
   "source": [
    "trans = PCA()\n",
    "\n",
    "X_dim = trans.fit_transform(df_norm)\n",
    "\n",
    "df2 = pd.DataFrame(X_dim)"
   ]
  },
  {
   "cell_type": "code",
   "execution_count": 90,
   "id": "a490e3a1-c4b6-488d-ab47-797299ee3ba6",
   "metadata": {},
   "outputs": [
    {
     "data": {
      "text/plain": [
       "array([ 0.40290512,  0.28064129, -0.01522685,  0.54861572,  0.54134026,\n",
       "        0.36282748, -0.18166951])"
      ]
     },
     "execution_count": 90,
     "metadata": {},
     "output_type": "execute_result"
    }
   ],
   "source": [
    "trans.components_[0]"
   ]
  },
  {
   "cell_type": "code",
   "execution_count": 80,
   "id": "0dde7054-4066-4659-9c78-6824c725770a",
   "metadata": {},
   "outputs": [
    {
     "data": {
      "text/plain": [
       "array([2.20858836, 1.53956037, 1.05305951, 0.90851231, 0.86573221,\n",
       "       0.33572903, 0.117044  ])"
      ]
     },
     "execution_count": 80,
     "metadata": {},
     "output_type": "execute_result"
    }
   ],
   "source": [
    "trans.explained_variance_\n",
    "# eigen_vector 값"
   ]
  },
  {
   "cell_type": "code",
   "execution_count": 82,
   "id": "b94f3b3e-1d84-4aa4-8d1d-931a0059debf",
   "metadata": {},
   "outputs": [
    {
     "data": {
      "text/plain": [
       "array([0.3142455 , 0.21905391, 0.14983291, 0.12926624, 0.12317934,\n",
       "       0.04776867, 0.01665342])"
      ]
     },
     "execution_count": 82,
     "metadata": {},
     "output_type": "execute_result"
    }
   ],
   "source": [
    "trans.explained_variance_ratio_"
   ]
  },
  {
   "cell_type": "raw",
   "id": "bdfda2e9-7db6-4dd7-b7d6-72c9dc12f660",
   "metadata": {},
   "source": [
    "위의 array 값에서 1번째 값이 전체의 약 31퍼센트를 설명하고, 2번째 값이 전체의 21퍼센트를 설명"
   ]
  },
  {
   "cell_type": "raw",
   "id": "b593aa16-05f7-43c2-b0e9-03e022351c88",
   "metadata": {},
   "source": [
    "[이해한 결과]\n",
    "= pca는 기존 데이터를 사용하여 더 잘 설명하는 새로운 데이터를 만듬?\n",
    " 이를 통해 예측력을 올림"
   ]
  },
  {
   "cell_type": "markdown",
   "id": "0946aa89-a85e-4d03-8b20-2f7cb685226e",
   "metadata": {},
   "source": [
    "### ==== pca 이해 ==="
   ]
  },
  {
   "cell_type": "code",
   "execution_count": 86,
   "id": "6a12fab7-037f-4681-9279-7b1d4cfdc050",
   "metadata": {},
   "outputs": [],
   "source": [
    "trans = PCA(n_components=4)\n",
    "\n",
    "X_dim = trans.fit_transform(df_norm)\n",
    "\n",
    "df2 = pd.DataFrame(X_dim)"
   ]
  },
  {
   "cell_type": "code",
   "execution_count": 87,
   "id": "104f6c1d-fbeb-46c4-a512-337157bb941b",
   "metadata": {},
   "outputs": [],
   "source": [
    "df2['tip'] = y"
   ]
  },
  {
   "cell_type": "code",
   "execution_count": 88,
   "id": "2a225d2a-fa03-4f21-b390-06f8e67c79fb",
   "metadata": {},
   "outputs": [
    {
     "data": {
      "text/html": [
       "<div>\n",
       "<style scoped>\n",
       "    .dataframe tbody tr th:only-of-type {\n",
       "        vertical-align: middle;\n",
       "    }\n",
       "\n",
       "    .dataframe tbody tr th {\n",
       "        vertical-align: top;\n",
       "    }\n",
       "\n",
       "    .dataframe thead th {\n",
       "        text-align: right;\n",
       "    }\n",
       "</style>\n",
       "<table border=\"1\" class=\"dataframe\">\n",
       "  <thead>\n",
       "    <tr style=\"text-align: right;\">\n",
       "      <th></th>\n",
       "      <th>0</th>\n",
       "      <th>1</th>\n",
       "      <th>2</th>\n",
       "      <th>3</th>\n",
       "      <th>tip</th>\n",
       "    </tr>\n",
       "  </thead>\n",
       "  <tbody>\n",
       "    <tr>\n",
       "      <th>0</th>\n",
       "      <td>0.520002</td>\n",
       "      <td>0.291243</td>\n",
       "      <td>-0.629332</td>\n",
       "      <td>0.360651</td>\n",
       "      <td>1.01</td>\n",
       "    </tr>\n",
       "  </tbody>\n",
       "</table>\n",
       "</div>"
      ],
      "text/plain": [
       "          0         1         2         3   tip\n",
       "0  0.520002  0.291243 -0.629332  0.360651  1.01"
      ]
     },
     "execution_count": 88,
     "metadata": {},
     "output_type": "execute_result"
    }
   ],
   "source": [
    "df2.head(1)"
   ]
  },
  {
   "cell_type": "code",
   "execution_count": 89,
   "id": "342f37db-370a-4677-a25d-b64a299ad09e",
   "metadata": {},
   "outputs": [
    {
     "data": {
      "text/plain": [
       "array([0.3142455 , 0.21905391, 0.14983291, 0.12926624])"
      ]
     },
     "execution_count": 89,
     "metadata": {},
     "output_type": "execute_result"
    }
   ],
   "source": [
    "trans.explained_variance_ratio_"
   ]
  },
  {
   "cell_type": "markdown",
   "id": "b4f8f87c-8a6c-4376-b398-83ee5554fbf9",
   "metadata": {},
   "source": [
    "# regression"
   ]
  },
  {
   "cell_type": "code",
   "execution_count": 34,
   "id": "47b69e67-29d8-4016-b821-6216d51c77d3",
   "metadata": {},
   "outputs": [],
   "source": [
    "from sklearn.feature_selection import SelectKBest\n",
    "from sklearn.feature_selection import f_regression"
   ]
  },
  {
   "cell_type": "code",
   "execution_count": 35,
   "id": "cb123ae5-d09b-4abf-a995-386a870a1fee",
   "metadata": {},
   "outputs": [
    {
     "name": "stdout",
     "output_type": "stream",
     "text": [
      "(249, 4)\n"
     ]
    }
   ],
   "source": [
    "fs = SelectKBest(score_func=f_regression, k=4)\n",
    "# apply feature selection\n",
    "X_selected = fs.fit_transform(df1, y)\n",
    "print(X_selected.shape)"
   ]
  },
  {
   "cell_type": "code",
   "execution_count": 36,
   "id": "d3eb94e9-2788-48c3-9162-7c5a14866f20",
   "metadata": {},
   "outputs": [
    {
     "data": {
      "text/plain": [
       "array([0, 3, 5, 6], dtype=int64)"
      ]
     },
     "execution_count": 36,
     "metadata": {},
     "output_type": "execute_result"
    }
   ],
   "source": [
    "fs.get_support(indices=True) # 선택된 피쳐"
   ]
  },
  {
   "cell_type": "code",
   "execution_count": 37,
   "id": "7a1ba9fc-f10b-4839-beea-3e2ff6ec749e",
   "metadata": {},
   "outputs": [],
   "source": [
    "df3 = pd.DataFrame(X_selected)"
   ]
  },
  {
   "cell_type": "code",
   "execution_count": 38,
   "id": "86cf7826-f162-43c9-b2fb-b43d9730cf05",
   "metadata": {},
   "outputs": [
    {
     "data": {
      "text/html": [
       "<div>\n",
       "<style scoped>\n",
       "    .dataframe tbody tr th:only-of-type {\n",
       "        vertical-align: middle;\n",
       "    }\n",
       "\n",
       "    .dataframe tbody tr th {\n",
       "        vertical-align: top;\n",
       "    }\n",
       "\n",
       "    .dataframe thead th {\n",
       "        text-align: right;\n",
       "    }\n",
       "</style>\n",
       "<table border=\"1\" class=\"dataframe\">\n",
       "  <thead>\n",
       "    <tr style=\"text-align: right;\">\n",
       "      <th></th>\n",
       "      <th>total_bill</th>\n",
       "      <th>sex</th>\n",
       "      <th>smoker</th>\n",
       "      <th>day</th>\n",
       "      <th>time</th>\n",
       "      <th>size</th>\n",
       "      <th>tip_rate</th>\n",
       "    </tr>\n",
       "  </thead>\n",
       "  <tbody>\n",
       "    <tr>\n",
       "      <th>0</th>\n",
       "      <td>16.99</td>\n",
       "      <td>0.0</td>\n",
       "      <td>0.0</td>\n",
       "      <td>3.0</td>\n",
       "      <td>1.0</td>\n",
       "      <td>2.0</td>\n",
       "      <td>5.944673</td>\n",
       "    </tr>\n",
       "  </tbody>\n",
       "</table>\n",
       "</div>"
      ],
      "text/plain": [
       "   total_bill  sex  smoker  day  time  size  tip_rate\n",
       "0       16.99  0.0     0.0  3.0   1.0   2.0  5.944673"
      ]
     },
     "execution_count": 38,
     "metadata": {},
     "output_type": "execute_result"
    }
   ],
   "source": [
    "df1.head(1)"
   ]
  },
  {
   "cell_type": "code",
   "execution_count": 39,
   "id": "170db2d1-2ba9-47eb-97dd-c5eddfa7cda8",
   "metadata": {},
   "outputs": [
    {
     "data": {
      "text/html": [
       "<div>\n",
       "<style scoped>\n",
       "    .dataframe tbody tr th:only-of-type {\n",
       "        vertical-align: middle;\n",
       "    }\n",
       "\n",
       "    .dataframe tbody tr th {\n",
       "        vertical-align: top;\n",
       "    }\n",
       "\n",
       "    .dataframe thead th {\n",
       "        text-align: right;\n",
       "    }\n",
       "</style>\n",
       "<table border=\"1\" class=\"dataframe\">\n",
       "  <thead>\n",
       "    <tr style=\"text-align: right;\">\n",
       "      <th></th>\n",
       "      <th>0</th>\n",
       "      <th>1</th>\n",
       "      <th>2</th>\n",
       "      <th>3</th>\n",
       "    </tr>\n",
       "  </thead>\n",
       "  <tbody>\n",
       "    <tr>\n",
       "      <th>0</th>\n",
       "      <td>16.99</td>\n",
       "      <td>3.0</td>\n",
       "      <td>2.0</td>\n",
       "      <td>5.944673</td>\n",
       "    </tr>\n",
       "    <tr>\n",
       "      <th>1</th>\n",
       "      <td>10.34</td>\n",
       "      <td>3.0</td>\n",
       "      <td>3.0</td>\n",
       "      <td>16.054159</td>\n",
       "    </tr>\n",
       "    <tr>\n",
       "      <th>2</th>\n",
       "      <td>21.01</td>\n",
       "      <td>3.0</td>\n",
       "      <td>3.0</td>\n",
       "      <td>16.658734</td>\n",
       "    </tr>\n",
       "    <tr>\n",
       "      <th>3</th>\n",
       "      <td>23.68</td>\n",
       "      <td>3.0</td>\n",
       "      <td>2.0</td>\n",
       "      <td>13.978041</td>\n",
       "    </tr>\n",
       "    <tr>\n",
       "      <th>4</th>\n",
       "      <td>24.59</td>\n",
       "      <td>3.0</td>\n",
       "      <td>4.0</td>\n",
       "      <td>14.680765</td>\n",
       "    </tr>\n",
       "    <tr>\n",
       "      <th>...</th>\n",
       "      <td>...</td>\n",
       "      <td>...</td>\n",
       "      <td>...</td>\n",
       "      <td>...</td>\n",
       "    </tr>\n",
       "    <tr>\n",
       "      <th>244</th>\n",
       "      <td>16.99</td>\n",
       "      <td>3.0</td>\n",
       "      <td>2.0</td>\n",
       "      <td>5.944673</td>\n",
       "    </tr>\n",
       "    <tr>\n",
       "      <th>245</th>\n",
       "      <td>10.34</td>\n",
       "      <td>3.0</td>\n",
       "      <td>3.0</td>\n",
       "      <td>16.054159</td>\n",
       "    </tr>\n",
       "    <tr>\n",
       "      <th>246</th>\n",
       "      <td>10.34</td>\n",
       "      <td>3.0</td>\n",
       "      <td>3.0</td>\n",
       "      <td>16.054159</td>\n",
       "    </tr>\n",
       "    <tr>\n",
       "      <th>247</th>\n",
       "      <td>10.34</td>\n",
       "      <td>3.0</td>\n",
       "      <td>3.0</td>\n",
       "      <td>16.054159</td>\n",
       "    </tr>\n",
       "    <tr>\n",
       "      <th>248</th>\n",
       "      <td>10.34</td>\n",
       "      <td>3.0</td>\n",
       "      <td>2.0</td>\n",
       "      <td>16.054159</td>\n",
       "    </tr>\n",
       "  </tbody>\n",
       "</table>\n",
       "<p>249 rows × 4 columns</p>\n",
       "</div>"
      ],
      "text/plain": [
       "         0    1    2          3\n",
       "0    16.99  3.0  2.0   5.944673\n",
       "1    10.34  3.0  3.0  16.054159\n",
       "2    21.01  3.0  3.0  16.658734\n",
       "3    23.68  3.0  2.0  13.978041\n",
       "4    24.59  3.0  4.0  14.680765\n",
       "..     ...  ...  ...        ...\n",
       "244  16.99  3.0  2.0   5.944673\n",
       "245  10.34  3.0  3.0  16.054159\n",
       "246  10.34  3.0  3.0  16.054159\n",
       "247  10.34  3.0  3.0  16.054159\n",
       "248  10.34  3.0  2.0  16.054159\n",
       "\n",
       "[249 rows x 4 columns]"
      ]
     },
     "execution_count": 39,
     "metadata": {},
     "output_type": "execute_result"
    }
   ],
   "source": [
    "df3"
   ]
  },
  {
   "cell_type": "code",
   "execution_count": 40,
   "id": "df2f2886-5ff2-4d59-ab94-343c08ee2ed3",
   "metadata": {},
   "outputs": [
    {
     "data": {
      "text/html": [
       "<div>\n",
       "<style scoped>\n",
       "    .dataframe tbody tr th:only-of-type {\n",
       "        vertical-align: middle;\n",
       "    }\n",
       "\n",
       "    .dataframe tbody tr th {\n",
       "        vertical-align: top;\n",
       "    }\n",
       "\n",
       "    .dataframe thead th {\n",
       "        text-align: right;\n",
       "    }\n",
       "</style>\n",
       "<table border=\"1\" class=\"dataframe\">\n",
       "  <thead>\n",
       "    <tr style=\"text-align: right;\">\n",
       "      <th></th>\n",
       "      <th>0</th>\n",
       "      <th>1</th>\n",
       "      <th>2</th>\n",
       "      <th>3</th>\n",
       "    </tr>\n",
       "  </thead>\n",
       "  <tbody>\n",
       "    <tr>\n",
       "      <th>0</th>\n",
       "      <td>1.000000</td>\n",
       "      <td>0.150184</td>\n",
       "      <td>0.588716</td>\n",
       "      <td>-0.331579</td>\n",
       "    </tr>\n",
       "    <tr>\n",
       "      <th>1</th>\n",
       "      <td>0.150184</td>\n",
       "      <td>1.000000</td>\n",
       "      <td>0.163612</td>\n",
       "      <td>0.005931</td>\n",
       "    </tr>\n",
       "    <tr>\n",
       "      <th>2</th>\n",
       "      <td>0.588716</td>\n",
       "      <td>0.163612</td>\n",
       "      <td>1.000000</td>\n",
       "      <td>-0.137625</td>\n",
       "    </tr>\n",
       "    <tr>\n",
       "      <th>3</th>\n",
       "      <td>-0.331579</td>\n",
       "      <td>0.005931</td>\n",
       "      <td>-0.137625</td>\n",
       "      <td>1.000000</td>\n",
       "    </tr>\n",
       "  </tbody>\n",
       "</table>\n",
       "</div>"
      ],
      "text/plain": [
       "          0         1         2         3\n",
       "0  1.000000  0.150184  0.588716 -0.331579\n",
       "1  0.150184  1.000000  0.163612  0.005931\n",
       "2  0.588716  0.163612  1.000000 -0.137625\n",
       "3 -0.331579  0.005931 -0.137625  1.000000"
      ]
     },
     "execution_count": 40,
     "metadata": {},
     "output_type": "execute_result"
    }
   ],
   "source": [
    "df3.corr()"
   ]
  },
  {
   "cell_type": "code",
   "execution_count": null,
   "id": "14a23ce6-1c64-4470-9ab5-42634c1930f8",
   "metadata": {},
   "outputs": [],
   "source": []
  }
 ],
 "metadata": {
  "kernelspec": {
   "display_name": "Python Multi",
   "language": "python",
   "name": "multi"
  },
  "language_info": {
   "codemirror_mode": {
    "name": "ipython",
    "version": 3
   },
   "file_extension": ".py",
   "mimetype": "text/x-python",
   "name": "python",
   "nbconvert_exporter": "python",
   "pygments_lexer": "ipython3",
   "version": "3.7.6"
  }
 },
 "nbformat": 4,
 "nbformat_minor": 5
}
