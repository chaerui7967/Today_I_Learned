{
 "cells": [
  {
   "cell_type": "markdown",
   "id": "olive-decrease",
   "metadata": {},
   "source": [
    "### Regression Feature Selection:\n",
    "(Numerical Input, Numerical Output)"
   ]
  },
  {
   "cell_type": "markdown",
   "id": "saved-values",
   "metadata": {},
   "source": [
    "Feature selection is performed using Pearson’s Correlation Coefficient via the f_regression() function."
   ]
  },
  {
   "cell_type": "code",
   "execution_count": 1,
   "id": "63f8929f-23e5-4916-8620-47207b42fa1f",
   "metadata": {},
   "outputs": [],
   "source": [
    "# pearson's correlation feature selection for numeric input and numeric output\n",
    "from sklearn.datasets import make_regression\n",
    "from sklearn.feature_selection import SelectKBest\n",
    "from sklearn.feature_selection import f_regression"
   ]
  },
  {
   "cell_type": "code",
   "execution_count": 2,
   "id": "fa36c2d7-883d-44da-9c87-ee8de2ffc3d4",
   "metadata": {},
   "outputs": [],
   "source": [
    "# generate dataset\n",
    "X, y = make_regression(n_samples=100, n_features=100, n_informative=10)"
   ]
  },
  {
   "cell_type": "code",
   "execution_count": 6,
   "id": "657bc81b-6f01-42eb-b2fb-a6f825436e44",
   "metadata": {},
   "outputs": [
    {
     "data": {
      "text/plain": [
       "(100, 100)"
      ]
     },
     "execution_count": 6,
     "metadata": {},
     "output_type": "execute_result"
    }
   ],
   "source": [
    "X.shape"
   ]
  },
  {
   "cell_type": "code",
   "execution_count": 7,
   "id": "5f5141c3-063d-4fd6-9c9a-f05ff3745521",
   "metadata": {},
   "outputs": [
    {
     "data": {
      "text/plain": [
       "(100,)"
      ]
     },
     "execution_count": 7,
     "metadata": {},
     "output_type": "execute_result"
    }
   ],
   "source": [
    "y.shape"
   ]
  },
  {
   "cell_type": "code",
   "execution_count": 3,
   "id": "24876a8c-d645-4604-aaf4-f2e5d9fe3fbd",
   "metadata": {},
   "outputs": [],
   "source": [
    "# define feature selection\n",
    "fs = SelectKBest(score_func=f_regression, k=10)"
   ]
  },
  {
   "cell_type": "code",
   "execution_count": 4,
   "id": "6900c2b2-a1b9-409b-858a-3eefb8764a4d",
   "metadata": {},
   "outputs": [
    {
     "name": "stdout",
     "output_type": "stream",
     "text": [
      "(100, 10)\n"
     ]
    }
   ],
   "source": [
    "# apply feature selection\n",
    "X_selected = fs.fit_transform(X, y)\n",
    "print(X_selected.shape)"
   ]
  },
  {
   "cell_type": "code",
   "execution_count": null,
   "id": "adjacent-private",
   "metadata": {},
   "outputs": [],
   "source": []
  }
 ],
 "metadata": {
  "kernelspec": {
   "display_name": "Python Multi",
   "language": "python",
   "name": "multi"
  },
  "language_info": {
   "codemirror_mode": {
    "name": "ipython",
    "version": 3
   },
   "file_extension": ".py",
   "mimetype": "text/x-python",
   "name": "python",
   "nbconvert_exporter": "python",
   "pygments_lexer": "ipython3",
   "version": "3.7.6"
  }
 },
 "nbformat": 4,
 "nbformat_minor": 5
}
