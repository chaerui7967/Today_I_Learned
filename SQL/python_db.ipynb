{
 "cells": [
  {
   "cell_type": "code",
   "execution_count": 1,
   "id": "local-motel",
   "metadata": {},
   "outputs": [
    {
     "name": "stdout",
     "output_type": "stream",
     "text": [
      "C:\\Users\\j\\K-Digital_multi\\KDstudy\\실습\n"
     ]
    }
   ],
   "source": [
    "!cd"
   ]
  },
  {
   "cell_type": "code",
   "execution_count": null,
   "id": "sudden-fellowship",
   "metadata": {},
   "outputs": [],
   "source": [
    "#!pip install PyMySQL==1.0.0"
   ]
  },
  {
   "cell_type": "code",
   "execution_count": 2,
   "id": "romantic-period",
   "metadata": {},
   "outputs": [],
   "source": [
    "import pymysql.cursors\n",
    "# Connect to the database"
   ]
  },
  {
   "cell_type": "code",
   "execution_count": null,
   "id": "4e72813a-7d36-464a-92ad-cd068de280c4",
   "metadata": {},
   "outputs": [],
   "source": [
    "# localhost or 127.0.0.1"
   ]
  },
  {
   "cell_type": "code",
   "execution_count": 3,
   "id": "geological-mistake",
   "metadata": {},
   "outputs": [
    {
     "name": "stdout",
     "output_type": "stream",
     "text": [
      "{'total_bill': 39.42}\n"
     ]
    }
   ],
   "source": [
    "# 커서 하나값이 출력됨\n",
    "\n",
    "connection = pymysql.connect(host='127.0.0.1',\n",
    "        user='me',\n",
    "        password='1234',\n",
    "        db='tip',\n",
    "        charset='utf8',\n",
    "        cursorclass=pymysql.cursors.DictCursor)\n",
    "try:\n",
    "    with connection.cursor() as cursor:\n",
    "        # Read a single record\n",
    "        #sql = \"SELECT `id`, `password` FROM `users` WHERE `email`=%s\"\n",
    "#         sql = \"select count(total_bill) from tips where tip >= 7;\" # 메모리 사용 제한을 위해 먼저 카운트값을 가져온다\n",
    "        sql = \"select total_bill from tips where tip >= 7;\"\n",
    "        cursor.execute(sql)\n",
    "        result = cursor.fetchone()\n",
    "        print(result)\n",
    "#         for _ in range(3):\n",
    "#             result = cursor.fetchone()\n",
    "#             print(result)\n",
    "finally:\n",
    "    connection.close()"
   ]
  },
  {
   "cell_type": "code",
   "execution_count": null,
   "id": "32fd056c-ff33-4d6b-81b6-74929ceab529",
   "metadata": {},
   "outputs": [],
   "source": [
    "    "
   ]
  },
  {
   "cell_type": "code",
   "execution_count": 1,
   "id": "rough-monte",
   "metadata": {},
   "outputs": [],
   "source": [
    "import pandas as pd"
   ]
  },
  {
   "cell_type": "code",
   "execution_count": 5,
   "id": "polished-somerset",
   "metadata": {},
   "outputs": [
    {
     "name": "stdout",
     "output_type": "stream",
     "text": [
      "   total_bill\n",
      "0       39.42\n",
      "1       50.81\n",
      "2       48.33\n"
     ]
    }
   ],
   "source": [
    "# MySQL DB에서 데이터 받아와서 DataFrame에 저장\n",
    "\n",
    "conn = pymysql.connect(host='localhost', user='me', \n",
    "                       password='1234', db='tip', charset='utf8',\n",
    "                       autocommit=True, cursorclass=pymysql.cursors.DictCursor)\n",
    "try:\n",
    "\n",
    "   with conn.cursor() as curs:\n",
    "      sql = \"select total_bill from tips where tip >= 7;\"\n",
    "      curs.execute(sql)\n",
    "      rs = curs.fetchall()\n",
    "\n",
    "      # DB에서 받아온 값을 DataFrame에 넣음\n",
    "\n",
    "      df = pd.DataFrame(rs)\n",
    "      print(df)\n",
    "    # df.to_csv('파일명.csv')\n",
    "finally:\n",
    "\n",
    "   conn.close()"
   ]
  },
  {
   "cell_type": "code",
   "execution_count": 6,
   "id": "other-private",
   "metadata": {},
   "outputs": [
    {
     "data": {
      "text/html": [
       "<div>\n",
       "<style scoped>\n",
       "    .dataframe tbody tr th:only-of-type {\n",
       "        vertical-align: middle;\n",
       "    }\n",
       "\n",
       "    .dataframe tbody tr th {\n",
       "        vertical-align: top;\n",
       "    }\n",
       "\n",
       "    .dataframe thead th {\n",
       "        text-align: right;\n",
       "    }\n",
       "</style>\n",
       "<table border=\"1\" class=\"dataframe\">\n",
       "  <thead>\n",
       "    <tr style=\"text-align: right;\">\n",
       "      <th></th>\n",
       "      <th>total_bill</th>\n",
       "    </tr>\n",
       "  </thead>\n",
       "  <tbody>\n",
       "    <tr>\n",
       "      <th>0</th>\n",
       "      <td>39.42</td>\n",
       "    </tr>\n",
       "    <tr>\n",
       "      <th>1</th>\n",
       "      <td>50.81</td>\n",
       "    </tr>\n",
       "    <tr>\n",
       "      <th>2</th>\n",
       "      <td>48.33</td>\n",
       "    </tr>\n",
       "  </tbody>\n",
       "</table>\n",
       "</div>"
      ],
      "text/plain": [
       "   total_bill\n",
       "0       39.42\n",
       "1       50.81\n",
       "2       48.33"
      ]
     },
     "execution_count": 6,
     "metadata": {},
     "output_type": "execute_result"
    }
   ],
   "source": [
    "df"
   ]
  },
  {
   "cell_type": "code",
   "execution_count": 9,
   "id": "85df96c6-ace8-4b04-a91c-8b3532d24e1f",
   "metadata": {},
   "outputs": [
    {
     "data": {
      "text/plain": [
       "<AxesSubplot:>"
      ]
     },
     "execution_count": 9,
     "metadata": {},
     "output_type": "execute_result"
    },
    {
     "data": {
      "image/png": "[encoded data removed]",
      "text/plain": [
       "<Figure size 432x288 with 1 Axes>"
      ]
     },
     "metadata": {
      "needs_background": "light"
     },
     "output_type": "display_data"
    }
   ],
   "source": [
    "df['total_bill'].hist()"
   ]
  },
  {
   "cell_type": "code",
   "execution_count": null,
   "id": "963f266e-ac7c-488d-91b2-61effe8f2f65",
   "metadata": {},
   "outputs": [],
   "source": []
  },
  {
   "cell_type": "markdown",
   "id": "8c8c4ef2-59b1-4106-a5d1-d8b2067dcb27",
   "metadata": {},
   "source": [
    "# 실습"
   ]
  },
  {
   "cell_type": "code",
   "execution_count": 5,
   "id": "65ade062-ee86-41a9-aa76-5a91795464c6",
   "metadata": {},
   "outputs": [],
   "source": [
    "sql2 = \"\"\"select customers.state, customers.customerName, payments.checkNumber\n",
    "from customers \n",
    "left join payments on customers.customerNumber = payments.customerNumber \n",
    "where payments.paymentDate >= '2004-10-06';\"\"\""
   ]
  },
  {
   "cell_type": "code",
   "execution_count": 6,
   "id": "0f9ca753-460b-4e32-ab79-01d79ab1ba8d",
   "metadata": {},
   "outputs": [
    {
     "name": "stdout",
     "output_type": "stream",
     "text": [
      "       state                  customerName checkNumber\n",
      "0       None             Atelier graphique    HQ336336\n",
      "1       None             Atelier graphique    OM314933\n",
      "2         NV            Signal Gift Stores    BO864823\n",
      "3   Victoria    Australian Collectors, Co.    MA765515\n",
      "4       None             La Rochelle Gifts    DB933704\n",
      "..       ...                           ...         ...\n",
      "84        MA              FunGiftIdeas.com    PE176846\n",
      "85      None    Iberia Gift Imports, Corp.    GK294076\n",
      "86        PA  Motor Mint Distributors Inc.     HS86661\n",
      "87      None             Kelly's Gift Shop    EU531600\n",
      "88      None             Kelly's Gift Shop     MN89921\n",
      "\n",
      "[89 rows x 3 columns]\n"
     ]
    }
   ],
   "source": [
    "co2 = pymysql.connect(host='localhost', user='me', \n",
    "                       password='1234', db='classicmodels', charset='utf8',\n",
    "                       autocommit=True, cursorclass=pymysql.cursors.DictCursor)\n",
    "\n",
    "try:\n",
    "\n",
    "   with co2.cursor() as curs:\n",
    "#       sql = \"select total_bill from tips where tip >= 7;\"\n",
    "      curs.execute(sql2)\n",
    "      rs = curs.fetchall()\n",
    "\n",
    "      # DB에서 받아온 값을 DataFrame에 넣음\n",
    "\n",
    "      df = pd.DataFrame(rs)\n",
    "      print(df)\n",
    "    # df.to_csv('파일명.csv')\n",
    "finally:\n",
    "\n",
    "   co2.close()"
   ]
  },
  {
   "cell_type": "code",
   "execution_count": 8,
   "id": "6ff87bcd-2bf9-4348-b370-c3a3df137da9",
   "metadata": {},
   "outputs": [
    {
     "data": {
      "text/plain": [
       "state           89\n",
       "customerName    89\n",
       "checkNumber     89\n",
       "dtype: int64"
      ]
     },
     "execution_count": 8,
     "metadata": {},
     "output_type": "execute_result"
    }
   ],
   "source": [
    "df.isnull().count()"
   ]
  },
  {
   "cell_type": "code",
   "execution_count": null,
   "id": "b8d7fbfe-f04a-4f49-876a-17d657b8acb4",
   "metadata": {},
   "outputs": [],
   "source": []
  }
 ],
 "metadata": {
  "kernelspec": {
   "display_name": "Python Multi",
   "language": "python",
   "name": "multi"
  },
  "language_info": {
   "codemirror_mode": {
    "name": "ipython",
    "version": 3
   },
   "file_extension": ".py",
   "mimetype": "text/x-python",
   "name": "python",
   "nbconvert_exporter": "python",
   "pygments_lexer": "ipython3",
   "version": "3.7.6"
  }
 },
 "nbformat": 4,
 "nbformat_minor": 5
}
