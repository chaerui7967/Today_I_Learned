{
 "cells": [
  {
   "cell_type": "markdown",
   "id": "e4ccdac7-ed43-41ef-9be8-12d5787d8d1a",
   "metadata": {},
   "source": [
    "관용적인 정규식표현"
   ]
  },
  {
   "cell_type": "code",
   "execution_count": 1,
   "id": "195d7c2a-6762-46ec-9b51-78ba0fed7a58",
   "metadata": {},
   "outputs": [
    {
     "name": "stdout",
     "output_type": "stream",
     "text": [
      "hello\n",
      "\n",
      "hello\n",
      "hello\n",
      "\n"
     ]
    }
   ],
   "source": [
    "print('hello\\n')\n",
    "print('hello\\r') # 한칸 띄어쓰기\n",
    "print('hello\\n\\r')"
   ]
  },
  {
   "cell_type": "code",
   "execution_count": 2,
   "id": "bfa4ccb2-787d-49f1-b7be-482044466384",
   "metadata": {},
   "outputs": [
    {
     "data": {
      "text/plain": [
       "'hello'"
      ]
     },
     "execution_count": 2,
     "metadata": {},
     "output_type": "execute_result"
    }
   ],
   "source": [
    "import re\n",
    "re.sub(re.compile(r'\\r\\n|\\r|\\n|\\n\\r+'), '', \"hello\\n\\r\")"
   ]
  },
  {
   "cell_type": "code",
   "execution_count": null,
   "id": "2ad60a11-5ce0-4c4e-82f3-4cce512dc66f",
   "metadata": {},
   "outputs": [],
   "source": []
  }
 ],
 "metadata": {
  "kernelspec": {
   "display_name": "Python Multi",
   "language": "python",
   "name": "multi"
  },
  "language_info": {
   "codemirror_mode": {
    "name": "ipython",
    "version": 3
   },
   "file_extension": ".py",
   "mimetype": "text/x-python",
   "name": "python",
   "nbconvert_exporter": "python",
   "pygments_lexer": "ipython3",
   "version": "3.7.6"
  }
 },
 "nbformat": 4,
 "nbformat_minor": 5
}
