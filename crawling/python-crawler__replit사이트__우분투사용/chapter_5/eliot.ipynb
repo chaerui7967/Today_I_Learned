{
 "cells": [
  {
   "cell_type": "code",
   "execution_count": 2,
   "id": "7e892ec9-a0ea-4978-bc22-59e83ec0d354",
   "metadata": {},
   "outputs": [],
   "source": [
    "#!pip install eliot==1.13.0"
   ]
  },
  {
   "cell_type": "code",
   "execution_count": 1,
   "id": "8f8fdb40-2369-4964-9d22-6a1f8857a494",
   "metadata": {},
   "outputs": [],
   "source": [
    "# 윈도우에서는 한글 인코딩 오류가 발생할 수 있습니다.\n",
    "# 한글 인코딩 오류가 발생한다면\n",
    "# Message.log(message_type=\"info\", msg=\"데이터를 저장했습니다.\")\n",
    "# 위의 코드 부분의 msg를 영어로 수정해서 사용해주세요.\n",
    "\n",
    "import json\n",
    "import sys"
   ]
  },
  {
   "cell_type": "code",
   "execution_count": 2,
   "id": "b5bb4bfb-c3cd-4761-b196-010ab18a2dfc",
   "metadata": {},
   "outputs": [],
   "source": [
    "from eliot import Message, start_action, to_file, write_traceback\n",
    "import requests"
   ]
  },
  {
   "cell_type": "code",
   "execution_count": 3,
   "id": "7050352f-430f-433b-881f-3ed2f15cd130",
   "metadata": {},
   "outputs": [],
   "source": [
    "# 로그 출력을 표준 출력으로 설정(터미널에 출력하기)\n",
    "to_file(sys.stdout)\n",
    "# 크롤링 대상 URL 리스트\n",
    "PAGE_URL_LIST = [\n",
    "    'https://eliot.readthedocs.io/en/1.0.0/',\n",
    "    'https://eliot.readthedocs.io/en/1.0.0/generating/index.html',\n",
    "    'https://example.com/notfound.html',\n",
    "]"
   ]
  },
  {
   "cell_type": "code",
   "execution_count": 4,
   "id": "90d980b1-0301-4cc5-a1ef-0ae0ee55c51f",
   "metadata": {},
   "outputs": [],
   "source": [
    "def fetch_pages():\n",
    "    \"\"\"페이지의 내용을 추출합니다.\"\"\"\n",
    "    # 어떤 처리의 로그인지는 action_type으로 지정\n",
    "    with start_action(action_type=\"fetch_pages\"):\n",
    "        page_contents = {}\n",
    "        for page_url in PAGE_URL_LIST:\n",
    "            # 어떤 처리의 로그인지 action_type으로 출력\n",
    "            with start_action(action_type=\"download\", url=page_url):\n",
    "                try:\n",
    "                    r = requests.get(page_url, timeout=30)\n",
    "                    r.raise_for_status()\n",
    "                except requests.exceptions.RequestException as e:\n",
    "                    write_traceback()  # 예외가 발생하면 트레이스백 출력\n",
    "                    continue\n",
    "                page_contents[page_url] = r.text\n",
    "        return page_contents"
   ]
  },
  {
   "cell_type": "code",
   "execution_count": 5,
   "id": "8bd9eea5-bed0-4bf5-9b00-3925576094ae",
   "metadata": {},
   "outputs": [
    {
     "name": "stdout",
     "output_type": "stream",
     "text": [
      "{\"action_status\": \"started\", \"timestamp\": 1625041081.9766164, \"task_uuid\": \"00c72cde-a0ae-4d27-9f18-891e19013418\", \"action_type\": \"fetch_pages\", \"task_level\": [1]}\n",
      "{\"url\": \"https://eliot.readthedocs.io/en/1.0.0/\", \"action_status\": \"started\", \"timestamp\": 1625041081.9845936, \"task_uuid\": \"00c72cde-a0ae-4d27-9f18-891e19013418\", \"action_type\": \"download\", \"task_level\": [2, 1]}\n",
      "{\"action_status\": \"succeeded\", \"timestamp\": 1625041082.0982897, \"task_uuid\": \"00c72cde-a0ae-4d27-9f18-891e19013418\", \"action_type\": \"download\", \"task_level\": [2, 2]}\n",
      "{\"url\": \"https://eliot.readthedocs.io/en/1.0.0/generating/index.html\", \"action_status\": \"started\", \"timestamp\": 1625041082.1002839, \"task_uuid\": \"00c72cde-a0ae-4d27-9f18-891e19013418\", \"action_type\": \"download\", \"task_level\": [3, 1]}\n",
      "{\"action_status\": \"succeeded\", \"timestamp\": 1625041082.171608, \"task_uuid\": \"00c72cde-a0ae-4d27-9f18-891e19013418\", \"action_type\": \"download\", \"task_level\": [3, 2]}\n",
      "{\"url\": \"https://example.com/notfound.html\", \"action_status\": \"started\", \"timestamp\": 1625041082.173603, \"task_uuid\": \"00c72cde-a0ae-4d27-9f18-891e19013418\", \"action_type\": \"download\", \"task_level\": [4, 1]}\n",
      "{\"reason\": \"404 Client Error: Not Found for url: https://example.com/notfound.html\", \"traceback\": \"Traceback (most recent call last):\\n  File \\\"<ipython-input-4-b576a670c4b6>\\\", line 11, in fetch_pages\\n  File \\\"C:\\\\Users\\\\j\\\\anaconda3\\\\envs\\\\django\\\\lib\\\\site-packages\\\\requests\\\\models.py\\\", line 943, in raise_for_status\\nrequests.exceptions.HTTPError: 404 Client Error: Not Found for url: https://example.com/notfound.html\\n\", \"exception\": \"requests.exceptions.HTTPError\", \"errno\": null, \"timestamp\": 1625041082.8408222, \"task_uuid\": \"00c72cde-a0ae-4d27-9f18-891e19013418\", \"task_level\": [4, 2], \"message_type\": \"eliot:traceback\"}\n",
      "{\"action_status\": \"succeeded\", \"timestamp\": 1625041082.8418207, \"task_uuid\": \"00c72cde-a0ae-4d27-9f18-891e19013418\", \"action_type\": \"download\", \"task_level\": [4, 3]}\n",
      "{\"action_status\": \"succeeded\", \"timestamp\": 1625041082.842817, \"task_uuid\": \"00c72cde-a0ae-4d27-9f18-891e19013418\", \"action_type\": \"fetch_pages\", \"task_level\": [5]}\n",
      "{\"msg\": \"\\ub370\\uc774\\ud130\\ub97c \\uc800\\uc7a5\\ud588\\uc2b5\\ub2c8\\ub2e4.\", \"timestamp\": 1625041082.8478048, \"task_uuid\": \"8a3de370-36f5-4d51-a05c-8e0477402596\", \"task_level\": [1], \"message_type\": \"info\"}\n"
     ]
    },
    {
     "name": "stderr",
     "output_type": "stream",
     "text": [
      "<ipython-input-5-5550209aca94>:7: DeprecationWarning: Message.log() is deprecated since 1.11.0, use Action.log() or eliot.log_message() instead.\n",
      "  Message.log(message_type=\"info\", msg=\"데이터를 저장했습니다.\")\n"
     ]
    }
   ],
   "source": [
    "if __name__ == '__main__':\n",
    "    page_contents = fetch_pages()\n",
    "    with open('page_contents.json', 'w') as f_page_contents:\n",
    "        json.dump(page_contents, f_page_contents, ensure_ascii=False)\n",
    "        \n",
    "    # 단순하게 로그 메시지만 출력할 수도 있음\n",
    "    Message.log(message_type=\"info\", msg=\"데이터를 저장했습니다.\")"
   ]
  },
  {
   "cell_type": "code",
   "execution_count": null,
   "id": "5559b268-19e3-48cc-85a4-daa7429899ac",
   "metadata": {},
   "outputs": [],
   "source": []
  }
 ],
 "metadata": {
  "kernelspec": {
   "display_name": "Python Django",
   "language": "python",
   "name": "django"
  },
  "language_info": {
   "codemirror_mode": {
    "name": "ipython",
    "version": 3
   },
   "file_extension": ".py",
   "mimetype": "text/x-python",
   "name": "python",
   "nbconvert_exporter": "python",
   "pygments_lexer": "ipython3",
   "version": "3.8.3"
  }
 },
 "nbformat": 4,
 "nbformat_minor": 5
}
