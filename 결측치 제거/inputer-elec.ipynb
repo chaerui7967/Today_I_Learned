{
 "cells": [
  {
   "cell_type": "markdown",
   "id": "8701255b-e302-4ec2-8314-8a50acb7e6fb",
   "metadata": {},
   "source": [
    "# 실습 - 임의의 데이터셋 가져와서 해보기"
   ]
  },
  {
   "cell_type": "code",
   "execution_count": 3,
   "id": "22c3909f-3474-43a8-8cd9-762521156aed",
   "metadata": {},
   "outputs": [],
   "source": [
    "# statistical imputation transform for the horse colic dataset\n",
    "# 결측지 제거\n",
    "\n",
    "#  데이터셋 설명\n",
    "\n",
    "from numpy import isnan\n",
    "from pandas import read_csv\n",
    "from sklearn.impute import SimpleImputer"
   ]
  },
  {
   "cell_type": "code",
   "execution_count": 10,
   "id": "32d84250-d09f-43be-800a-0ad628310e0b",
   "metadata": {},
   "outputs": [],
   "source": [
    "# load dataset\n",
    "csv_data = 'train.csv'"
   ]
  },
  {
   "cell_type": "code",
   "execution_count": 11,
   "id": "5ddb1fc9-1802-4614-a68e-a8b27c0b2837",
   "metadata": {},
   "outputs": [],
   "source": [
    "dataframe = read_csv(csv_data, header=None, na_values='?')"
   ]
  },
  {
   "cell_type": "code",
   "execution_count": 12,
   "id": "80ebada7-a4aa-4dc3-b2f6-daed11e13351",
   "metadata": {},
   "outputs": [
    {
     "name": "stdout",
     "output_type": "stream",
     "text": [
      "<class 'pandas.core.frame.DataFrame'>\n",
      "RangeIndex: 122401 entries, 0 to 122400\n",
      "Data columns (total 10 columns):\n",
      " #   Column  Non-Null Count   Dtype \n",
      "---  ------  --------------   ----- \n",
      " 0   0       122401 non-null  object\n",
      " 1   1       122401 non-null  object\n",
      " 2   2       122401 non-null  object\n",
      " 3   3       122401 non-null  object\n",
      " 4   4       122401 non-null  object\n",
      " 5   5       122401 non-null  object\n",
      " 6   6       122401 non-null  object\n",
      " 7   7       122401 non-null  object\n",
      " 8   8       122401 non-null  object\n",
      " 9   9       122401 non-null  object\n",
      "dtypes: object(10)\n",
      "memory usage: 9.3+ MB\n"
     ]
    }
   ],
   "source": [
    "dataframe.info()"
   ]
  },
  {
   "cell_type": "code",
   "execution_count": 13,
   "id": "c8446c15-ed3f-455f-8a0c-e102ceda76ba",
   "metadata": {},
   "outputs": [
    {
     "data": {
      "text/html": [
       "<div>\n",
       "<style scoped>\n",
       "    .dataframe tbody tr th:only-of-type {\n",
       "        vertical-align: middle;\n",
       "    }\n",
       "\n",
       "    .dataframe tbody tr th {\n",
       "        vertical-align: top;\n",
       "    }\n",
       "\n",
       "    .dataframe thead th {\n",
       "        text-align: right;\n",
       "    }\n",
       "</style>\n",
       "<table border=\"1\" class=\"dataframe\">\n",
       "  <thead>\n",
       "    <tr style=\"text-align: right;\">\n",
       "      <th></th>\n",
       "      <th>0</th>\n",
       "      <th>1</th>\n",
       "      <th>2</th>\n",
       "      <th>3</th>\n",
       "      <th>4</th>\n",
       "      <th>5</th>\n",
       "      <th>6</th>\n",
       "      <th>7</th>\n",
       "      <th>8</th>\n",
       "      <th>9</th>\n",
       "    </tr>\n",
       "  </thead>\n",
       "  <tbody>\n",
       "    <tr>\n",
       "      <th>count</th>\n",
       "      <td>122401</td>\n",
       "      <td>122401</td>\n",
       "      <td>122401</td>\n",
       "      <td>122401</td>\n",
       "      <td>122401</td>\n",
       "      <td>122401.0</td>\n",
       "      <td>122401</td>\n",
       "      <td>122401</td>\n",
       "      <td>122401.0</td>\n",
       "      <td>122401</td>\n",
       "    </tr>\n",
       "    <tr>\n",
       "      <th>unique</th>\n",
       "      <td>62</td>\n",
       "      <td>2041</td>\n",
       "      <td>66006</td>\n",
       "      <td>463</td>\n",
       "      <td>269</td>\n",
       "      <td>174.0</td>\n",
       "      <td>522</td>\n",
       "      <td>23</td>\n",
       "      <td>5.0</td>\n",
       "      <td>5</td>\n",
       "    </tr>\n",
       "    <tr>\n",
       "      <th>top</th>\n",
       "      <td>29</td>\n",
       "      <td>2020-07-17 18</td>\n",
       "      <td>1039.716</td>\n",
       "      <td>21.6</td>\n",
       "      <td>1.1</td>\n",
       "      <td>97.0</td>\n",
       "      <td>0.0</td>\n",
       "      <td>0.0</td>\n",
       "      <td>1.0</td>\n",
       "      <td>0.0</td>\n",
       "    </tr>\n",
       "    <tr>\n",
       "      <th>freq</th>\n",
       "      <td>2040</td>\n",
       "      <td>60</td>\n",
       "      <td>16</td>\n",
       "      <td>875</td>\n",
       "      <td>2248</td>\n",
       "      <td>3466.0</td>\n",
       "      <td>55576</td>\n",
       "      <td>45424</td>\n",
       "      <td>42585.0</td>\n",
       "      <td>39015</td>\n",
       "    </tr>\n",
       "  </tbody>\n",
       "</table>\n",
       "</div>"
      ],
      "text/plain": [
       "             0              1         2       3       4         5       6  \\\n",
       "count   122401         122401    122401  122401  122401  122401.0  122401   \n",
       "unique      62           2041     66006     463     269     174.0     522   \n",
       "top         29  2020-07-17 18  1039.716    21.6     1.1      97.0     0.0   \n",
       "freq      2040             60        16     875    2248    3466.0   55576   \n",
       "\n",
       "             7         8       9  \n",
       "count   122401  122401.0  122401  \n",
       "unique      23       5.0       5  \n",
       "top        0.0       1.0     0.0  \n",
       "freq     45424   42585.0   39015  "
      ]
     },
     "execution_count": 13,
     "metadata": {},
     "output_type": "execute_result"
    }
   ],
   "source": [
    "dataframe.describe()"
   ]
  },
  {
   "cell_type": "code",
   "execution_count": 14,
   "id": "e9de57a9-e170-4fe4-8485-2e87fa201bc1",
   "metadata": {},
   "outputs": [
    {
     "data": {
      "text/plain": [
       "0    0\n",
       "1    0\n",
       "2    0\n",
       "3    0\n",
       "4    0\n",
       "5    0\n",
       "6    0\n",
       "7    0\n",
       "8    0\n",
       "9    0\n",
       "dtype: int64"
      ]
     },
     "execution_count": 14,
     "metadata": {},
     "output_type": "execute_result"
    }
   ],
   "source": [
    "dataframe.isnull().sum() # 컬럼별 총 결측치 확인"
   ]
  },
  {
   "cell_type": "code",
   "execution_count": 16,
   "id": "d80eee7b-ecd8-40f0-a622-830bbb62fc56",
   "metadata": {},
   "outputs": [
    {
     "data": {
      "text/plain": [
       "array([['num', 'date_time', '���»�뷮(kWh)', ..., '����(hr)',\n",
       "        '������ù漳��\\ueff5', '�¾籤����'],\n",
       "       ['1', '2020-06-01 00', '8179.056', ..., '0.0', '0.0', '0.0'],\n",
       "       ['1', '2020-06-01 01', '8135.64', ..., '0.0', '0.0', '0.0'],\n",
       "       ...,\n",
       "       [60, '2020-08-24 21', 3572.208, ..., 0.0, 1.0, 1.0],\n",
       "       [60, '2020-08-24 22', 3299.184, ..., 0.0, 1.0, 1.0],\n",
       "       [60, '2020-08-24 23', 3204.576, ..., 0.0, 1.0, 1.0]], dtype=object)"
      ]
     },
     "execution_count": 16,
     "metadata": {},
     "output_type": "execute_result"
    }
   ],
   "source": [
    "dataframe.values"
   ]
  },
  {
   "cell_type": "code",
   "execution_count": 17,
   "id": "5a0e62f3-883d-4e35-a64e-7421af9beb53",
   "metadata": {},
   "outputs": [
    {
     "data": {
      "text/plain": [
       "(122401, 10)"
      ]
     },
     "execution_count": 17,
     "metadata": {},
     "output_type": "execute_result"
    }
   ],
   "source": [
    "dataframe.shape"
   ]
  },
  {
   "cell_type": "code",
   "execution_count": 15,
   "id": "467d7458-05b6-420c-a99f-a7771ccee0ec",
   "metadata": {},
   "outputs": [
    {
     "ename": "IndexError",
     "evalue": "index 23 is out of bounds for axis 1 with size 10",
     "output_type": "error",
     "traceback": [
      "\u001b[1;31m---------------------------------------------------------------------------\u001b[0m",
      "\u001b[1;31mIndexError\u001b[0m                                Traceback (most recent call last)",
      "\u001b[1;32m<ipython-input-15-548e5d449718>\u001b[0m in \u001b[0;36m<module>\u001b[1;34m\u001b[0m\n\u001b[0;32m      2\u001b[0m \u001b[0mdata\u001b[0m \u001b[1;33m=\u001b[0m \u001b[0mdataframe\u001b[0m\u001b[1;33m.\u001b[0m\u001b[0mvalues\u001b[0m\u001b[1;33m\u001b[0m\u001b[1;33m\u001b[0m\u001b[0m\n\u001b[0;32m      3\u001b[0m \u001b[0mix\u001b[0m \u001b[1;33m=\u001b[0m \u001b[1;33m[\u001b[0m\u001b[0mi\u001b[0m \u001b[1;32mfor\u001b[0m \u001b[0mi\u001b[0m \u001b[1;32min\u001b[0m \u001b[0mrange\u001b[0m\u001b[1;33m(\u001b[0m\u001b[0mdata\u001b[0m\u001b[1;33m.\u001b[0m\u001b[0mshape\u001b[0m\u001b[1;33m[\u001b[0m\u001b[1;36m1\u001b[0m\u001b[1;33m]\u001b[0m\u001b[1;33m)\u001b[0m \u001b[1;32mif\u001b[0m \u001b[0mi\u001b[0m \u001b[1;33m!=\u001b[0m \u001b[1;36m23\u001b[0m\u001b[1;33m]\u001b[0m\u001b[1;33m\u001b[0m\u001b[1;33m\u001b[0m\u001b[0m\n\u001b[1;32m----> 4\u001b[1;33m \u001b[0mX\u001b[0m\u001b[1;33m,\u001b[0m \u001b[0my\u001b[0m \u001b[1;33m=\u001b[0m \u001b[0mdata\u001b[0m\u001b[1;33m[\u001b[0m\u001b[1;33m:\u001b[0m\u001b[1;33m,\u001b[0m \u001b[0mix\u001b[0m\u001b[1;33m]\u001b[0m\u001b[1;33m,\u001b[0m \u001b[0mdata\u001b[0m\u001b[1;33m[\u001b[0m\u001b[1;33m:\u001b[0m\u001b[1;33m,\u001b[0m \u001b[1;36m23\u001b[0m\u001b[1;33m]\u001b[0m\u001b[1;33m\u001b[0m\u001b[1;33m\u001b[0m\u001b[0m\n\u001b[0m",
      "\u001b[1;31mIndexError\u001b[0m: index 23 is out of bounds for axis 1 with size 10"
     ]
    }
   ],
   "source": [
    "# split into input and output elements\n",
    "data = dataframe.values\n",
    "ix = [i for i in range(data.shape[1]) if i != 23]\n",
    "X, y = data[:, ix], data[:, 23]"
   ]
  },
  {
   "cell_type": "code",
   "execution_count": 8,
   "id": "a1d6f3ab-c4b7-4641-a8ed-2ba36c9d91cd",
   "metadata": {},
   "outputs": [
    {
     "name": "stdout",
     "output_type": "stream",
     "text": [
      "Missing: 1605\n"
     ]
    }
   ],
   "source": [
    "# print total missing\n",
    "print('Missing: %d' % sum(isnan(X).flatten()))"
   ]
  },
  {
   "cell_type": "code",
   "execution_count": 18,
   "id": "00b14dcb-37e4-4b12-a00e-795a8ba2f11d",
   "metadata": {},
   "outputs": [],
   "source": [
    "# define imputer # 결측치 처리 (평균값 = 기본값, 최빈값 = most frequent, 중앙값 = median)\n",
    "imputer = SimpleImputer(strategy='most_frequent')"
   ]
  },
  {
   "cell_type": "code",
   "execution_count": 19,
   "id": "9bddec61-4d93-485a-8df8-80ea99f2d7fd",
   "metadata": {},
   "outputs": [
    {
     "data": {
      "text/plain": [
       "SimpleImputer(strategy='most_frequent')"
      ]
     },
     "execution_count": 19,
     "metadata": {},
     "output_type": "execute_result"
    }
   ],
   "source": [
    "# fit on the dataset\n",
    "imputer.fit(X)"
   ]
  },
  {
   "cell_type": "code",
   "execution_count": 20,
   "id": "fe730060-8672-41ff-a111-087e986fd575",
   "metadata": {},
   "outputs": [],
   "source": [
    "# transform the dataset\n",
    "Xtrans = imputer.transform(X)"
   ]
  },
  {
   "cell_type": "code",
   "execution_count": 21,
   "id": "0d51b314-04cb-43e6-84e2-b5ff9fc4e621",
   "metadata": {},
   "outputs": [
    {
     "name": "stdout",
     "output_type": "stream",
     "text": [
      "Missing: 0\n"
     ]
    }
   ],
   "source": [
    "# print total missing\n",
    "print('Missing: %d' % sum(isnan(Xtrans).flatten()))"
   ]
  },
  {
   "cell_type": "code",
   "execution_count": 22,
   "id": "8b654c4e-e801-4eea-94f2-1b5bc375d521",
   "metadata": {},
   "outputs": [
    {
     "data": {
      "text/plain": [
       "array([2.00000e+00, 1.00000e+00, 5.30101e+05, 3.85000e+01, 6.60000e+01,\n",
       "       2.80000e+01, 3.00000e+00, 3.00000e+00, 1.00000e+00, 2.00000e+00,\n",
       "       5.00000e+00, 4.00000e+00, 4.00000e+00, 2.00000e+00, 1.00000e+00,\n",
       "       2.00000e+00, 3.00000e+00, 5.00000e+00, 4.50000e+01, 8.40000e+00,\n",
       "       2.00000e+00, 2.00000e+00, 2.00000e+00, 1.13000e+04, 0.00000e+00,\n",
       "       0.00000e+00, 2.00000e+00])"
      ]
     },
     "execution_count": 22,
     "metadata": {},
     "output_type": "execute_result"
    }
   ],
   "source": [
    "Xtrans[0,:] # 첫번째 행 가져오기"
   ]
  },
  {
   "cell_type": "code",
   "execution_count": null,
   "id": "35cefe0a-d5d2-401a-be8f-f164067898d7",
   "metadata": {},
   "outputs": [],
   "source": []
  }
 ],
 "metadata": {
  "kernelspec": {
   "display_name": "Python Multi",
   "language": "python",
   "name": "multi"
  },
  "language_info": {
   "codemirror_mode": {
    "name": "ipython",
    "version": 3
   },
   "file_extension": ".py",
   "mimetype": "text/x-python",
   "name": "python",
   "nbconvert_exporter": "python",
   "pygments_lexer": "ipython3",
   "version": "3.7.6"
  }
 },
 "nbformat": 4,
 "nbformat_minor": 5
}
