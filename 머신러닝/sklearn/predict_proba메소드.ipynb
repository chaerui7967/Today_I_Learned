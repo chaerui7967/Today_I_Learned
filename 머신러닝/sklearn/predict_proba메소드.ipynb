{
 "cells": [
  {
   "cell_type": "markdown",
   "id": "5789516d-1d70-4aff-8776-c68676beae5c",
   "metadata": {},
   "source": [
    "**predict_proba메소드**"
   ]
  },
  {
   "cell_type": "code",
   "execution_count": 5,
   "id": "25c2e716-3b42-42a5-a0b4-09621467d024",
   "metadata": {},
   "outputs": [],
   "source": [
    "from sklearn.model_selection import train_test_split\n",
    "from sklearn.base import BaseEstimator\n",
    "from sklearn.metrics import accuracy_score\n",
    "import numpy as np\n",
    "import pandas as pd"
   ]
  },
  {
   "cell_type": "code",
   "execution_count": 7,
   "id": "d31bc379-91b1-4e0f-aea3-22b9a62486f3",
   "metadata": {},
   "outputs": [],
   "source": [
    "from sklearn.metrics import accuracy_score, precision_score, recall_score,confusion_matrix\n",
    "\n",
    "def get_clf_eval(y_test, pred):\n",
    "    confusion = confusion_matrix(y_test,pred)\n",
    "    accuracy = accuracy_score(y_test,pred)\n",
    "    precision = precision_score(y_test,pred)\n",
    "    recall = recall_score(y_test,pred)\n",
    "    \n",
    "    print('오차행렬')\n",
    "    print(confusion)\n",
    "    print('정확도 : {0:.3f}'.format(accuracy))\n",
    "    print('정밀도 : {0:.3f}'.format(precision))\n",
    "    print('재현율 : {0:.3f}'.format(recall))"
   ]
  },
  {
   "cell_type": "code",
   "execution_count": 8,
   "id": "1f154d5e-cca9-45dd-8f7c-3dcc587e15ca",
   "metadata": {},
   "outputs": [],
   "source": [
    "from sklearn.preprocessing import LabelEncoder\n",
    "\n",
    "# Null 처리\n",
    "def fillna(df):\n",
    "    df['Age'].fillna(df['Age'].mean(), inplace=True)\n",
    "    df['Fare'].fillna(0,inplace=True)\n",
    "    df.fillna('N', inplace=True)\n",
    "    return df\n",
    "\n",
    "# 불필요한 속성 제거\n",
    "def drop_features(df):\n",
    "    df.drop(['PassengerId','Name','Ticket'], axis =1, inplace=True)\n",
    "    return df\n",
    "\n",
    "# 레이블 인코딩\n",
    "def format_features(df):\n",
    "    df['Cabin'] = df['Cabin'].str[0]\n",
    "    features = ['Cabin', 'Sex', 'Embarked']\n",
    "    for feature in features:\n",
    "        le = LabelEncoder()\n",
    "        le = le.fit(df[feature])\n",
    "        df[feature] = le.transform(df[feature])\n",
    "    return df\n",
    "\n",
    "# Data Preprocessing 함수 호출\n",
    "def transform_features(df):\n",
    "    df = fillna(df)\n",
    "    df = drop_features(df)\n",
    "    df = format_features(df)\n",
    "    return df"
   ]
  },
  {
   "cell_type": "code",
   "execution_count": 9,
   "id": "88bca788-32e5-457c-a305-85c8aecb06c6",
   "metadata": {},
   "outputs": [
    {
     "name": "stdout",
     "output_type": "stream",
     "text": [
      "오차행렬\n",
      "[[104  14]\n",
      " [ 13  48]]\n",
      "정확도 : 0.849\n",
      "정밀도 : 0.774\n",
      "재현율 : 0.787\n"
     ]
    },
    {
     "name": "stderr",
     "output_type": "stream",
     "text": [
      "C:\\Users\\j\\anaconda3\\envs\\multi\\lib\\site-packages\\sklearn\\linear_model\\_logistic.py:765: ConvergenceWarning: lbfgs failed to converge (status=1):\n",
      "STOP: TOTAL NO. of ITERATIONS REACHED LIMIT.\n",
      "\n",
      "Increase the number of iterations (max_iter) or scale the data as shown in:\n",
      "    https://scikit-learn.org/stable/modules/preprocessing.html\n",
      "Please also refer to the documentation for alternative solver options:\n",
      "    https://scikit-learn.org/stable/modules/linear_model.html#logistic-regression\n",
      "  extra_warning_msg=_LOGISTIC_SOLVER_CONVERGENCE_MSG)\n"
     ]
    }
   ],
   "source": [
    "from sklearn.linear_model import LogisticRegression\n",
    "\n",
    "#데이터 로딩\n",
    "titanic_df = pd.read_csv('./data/titanic_train.csv')\n",
    "\n",
    "# 결정값\n",
    "y_titanic_df = titanic_df['Survived']\n",
    "# 학습 데이터 셋\n",
    "X_titanic_df = titanic_df.drop('Survived',axis=1)\n",
    "X_titanic_df = transform_features(X_titanic_df)\n",
    "\n",
    "X_train, X_test, y_train, y_test = \\\n",
    "train_test_split(X_titanic_df, y_titanic_df, test_size = 0.2, random_state = 11)\n",
    "\n",
    "lr_clf = LogisticRegression()\n",
    "lr_clf.fit(X_train, y_train)\n",
    "lr_pred = lr_clf.predict(X_test)\n",
    "get_clf_eval(y_test, lr_pred)"
   ]
  },
  {
   "cell_type": "code",
   "execution_count": 10,
   "id": "58290377-81ea-4628-9428-6b628fca11a1",
   "metadata": {},
   "outputs": [
    {
     "data": {
      "text/plain": [
       "array([[0.46198241, 0.53801759],\n",
       "       [0.87863883, 0.12136117],\n",
       "       [0.87716256, 0.12283744],\n",
       "       [0.88266765, 0.11733235],\n",
       "       [0.85534206, 0.14465794],\n",
       "       [0.88224043, 0.11775957],\n",
       "       [0.88839194, 0.11160806],\n",
       "       [0.20879521, 0.79120479],\n",
       "       [0.78287265, 0.21712735],\n",
       "       [0.36921677, 0.63078323]])"
      ]
     },
     "execution_count": 10,
     "metadata": {},
     "output_type": "execute_result"
    }
   ],
   "source": [
    "pred_proba = lr_clf.predict_proba(X_test)\n",
    "pred_proba[:10]"
   ]
  },
  {
   "cell_type": "code",
   "execution_count": 12,
   "id": "a23f778d-2e33-444c-827f-3fb828ab6394",
   "metadata": {},
   "outputs": [],
   "source": [
    "pred=lr_clf.predict(X_test)"
   ]
  },
  {
   "cell_type": "code",
   "execution_count": 14,
   "id": "dd3b9d14-a537-4d55-b54d-9a6ba2fbecad",
   "metadata": {
    "tags": []
   },
   "outputs": [
    {
     "data": {
      "text/plain": [
       "array([[0.46198241, 0.53801759, 1.        ],\n",
       "       [0.87863883, 0.12136117, 0.        ],\n",
       "       [0.87716256, 0.12283744, 0.        ],\n",
       "       [0.88266765, 0.11733235, 0.        ],\n",
       "       [0.85534206, 0.14465794, 0.        ],\n",
       "       [0.88224043, 0.11775957, 0.        ],\n",
       "       [0.88839194, 0.11160806, 0.        ],\n",
       "       [0.20879521, 0.79120479, 1.        ],\n",
       "       [0.78287265, 0.21712735, 0.        ],\n",
       "       [0.36921677, 0.63078323, 1.        ]])"
      ]
     },
     "execution_count": 14,
     "metadata": {},
     "output_type": "execute_result"
    }
   ],
   "source": [
    "pred_proba_result = np.concatenate([pred_proba, pred.reshape(-1,1)], axis = 1)\n",
    "pred_proba_result[:10]"
   ]
  },
  {
   "cell_type": "markdown",
   "id": "e093de88-c6a8-419f-b709-bf41a2085591",
   "metadata": {},
   "source": [
    "## Binarizer 클래스\n",
    "- threshold 변수를 특정 값으로 설정하고\n",
    "- Binarizer 클래스의 fit_transform 메서드를 이용해서\n",
    "- 넘파이 ndarray 입력 값을 지정된 threshold보다 같거나 작으면 0값\n",
    "- 크면 1값으로 변환해서 반환"
   ]
  },
  {
   "cell_type": "code",
   "execution_count": 15,
   "id": "8b548696-5c3c-4c0a-a50a-3efdaff306b6",
   "metadata": {},
   "outputs": [
    {
     "name": "stdout",
     "output_type": "stream",
     "text": [
      "[[0. 0. 1.]\n",
      " [1. 0. 0.]\n",
      " [0. 0. 0.]]\n"
     ]
    }
   ],
   "source": [
    "from sklearn.preprocessing import Binarizer\n",
    "X = [[1,-1,2],\n",
    "    [2,0,0],\n",
    "    [0,1.1,1.2]]\n",
    "\n",
    "binarizer = Binarizer(threshold = 1.5)\n",
    "print(binarizer.fit_transform(X))"
   ]
  },
  {
   "cell_type": "code",
   "execution_count": 16,
   "id": "b148c065-3b34-460d-af79-cf30d12246d3",
   "metadata": {},
   "outputs": [
    {
     "name": "stdout",
     "output_type": "stream",
     "text": [
      "오차행렬\n",
      "[[104  14]\n",
      " [ 13  48]]\n",
      "정확도 : 0.849\n",
      "정밀도 : 0.774\n",
      "재현율 : 0.787\n"
     ]
    }
   ],
   "source": [
    "from sklearn.preprocessing import Binarizer\n",
    "\n",
    "c_threshold = 0.5\n",
    "\n",
    "pred_proba_1 = pred_proba[:,1].reshape(-1,1)\n",
    "\n",
    "bina = Binarizer(threshold = c_threshold).fit(pred_proba_1)\n",
    "custom_predict = bina.transform(pred_proba_1)\n",
    "\n",
    "get_clf_eval(y_test, custom_predict)"
   ]
  },
  {
   "cell_type": "code",
   "execution_count": 17,
   "id": "feec61df-8d9e-47a1-951c-6e3067897b06",
   "metadata": {},
   "outputs": [
    {
     "name": "stdout",
     "output_type": "stream",
     "text": [
      "오차행렬\n",
      "[[98 20]\n",
      " [10 51]]\n",
      "정확도 : 0.832\n",
      "정밀도 : 0.718\n",
      "재현율 : 0.836\n"
     ]
    }
   ],
   "source": [
    "c_threshold = 0.4\n",
    "\n",
    "pred_proba_1 = pred_proba[:,1].reshape(-1,1)\n",
    "\n",
    "bina = Binarizer(threshold = c_threshold).fit(pred_proba_1)\n",
    "custom_predict = bina.transform(pred_proba_1)\n",
    "\n",
    "get_clf_eval(y_test, custom_predict)"
   ]
  },
  {
   "cell_type": "code",
   "execution_count": 19,
   "id": "d1dc1f24-0844-4cf0-bae3-196bbbd3bb3d",
   "metadata": {},
   "outputs": [
    {
     "name": "stdout",
     "output_type": "stream",
     "text": [
      "임계값 :  0.4\n",
      "오차행렬\n",
      "[[98 20]\n",
      " [10 51]]\n",
      "정확도 : 0.832\n",
      "정밀도 : 0.718\n",
      "재현율 : 0.836\n",
      "임계값 :  0.45\n",
      "오차행렬\n",
      "[[103  15]\n",
      " [ 12  49]]\n",
      "정확도 : 0.849\n",
      "정밀도 : 0.766\n",
      "재현율 : 0.803\n",
      "임계값 :  0.5\n",
      "오차행렬\n",
      "[[104  14]\n",
      " [ 13  48]]\n",
      "정확도 : 0.849\n",
      "정밀도 : 0.774\n",
      "재현율 : 0.787\n",
      "임계값 :  0.55\n",
      "오차행렬\n",
      "[[109   9]\n",
      " [ 15  46]]\n",
      "정확도 : 0.866\n",
      "정밀도 : 0.836\n",
      "재현율 : 0.754\n",
      "임계값 :  0.6\n",
      "오차행렬\n",
      "[[112   6]\n",
      " [ 16  45]]\n",
      "정확도 : 0.877\n",
      "정밀도 : 0.882\n",
      "재현율 : 0.738\n"
     ]
    }
   ],
   "source": [
    "# 여러개의 분류 결정 임계값을 변경 하면서 binarizer를 예측\n",
    "thresholds = [0.4, 0.45, 0.5, 0.55, 0.6]\n",
    "\n",
    "def get_eval_by_threshold(y_test, pred_proba_c1, thresholds):\n",
    "    for custom_threshold in thresholds:\n",
    "        binarizer = Binarizer(threshold = custom_threshold).fit(pred_proba_c1)\n",
    "        custom_predict = binarizer.transform(pred_proba_c1)\n",
    "        print('임계값 : ', custom_threshold)\n",
    "        get_clf_eval(y_test, custom_predict)\n",
    "\n",
    "get_eval_by_threshold(y_test, pred_proba[:,1].reshape(-1,1), thresholds)        \n",
    "        "
   ]
  },
  {
   "cell_type": "code",
   "execution_count": 20,
   "id": "e43f5d98-9b8c-4c32-b5fa-8dc817d9367c",
   "metadata": {},
   "outputs": [
    {
     "name": "stdout",
     "output_type": "stream",
     "text": [
      "임계값 shape :  (143,)\n",
      "정밀도 shape :  (144,)\n",
      "재현율 shape :  (144,)\n",
      "sample index :  [  0  15  30  45  60  75  90 105 120 135]\n",
      "임계값 sample :  [0.104 0.121 0.14  0.186 0.281 0.404 0.564 0.667 0.822 0.947]\n",
      "정밀도 sample :  [0.389 0.44  0.466 0.539 0.647 0.729 0.836 0.949 0.958 1.   ]\n",
      "재현율 sample :  [1.    0.967 0.902 0.902 0.902 0.836 0.754 0.607 0.377 0.148]\n"
     ]
    }
   ],
   "source": [
    "from sklearn.metrics import precision_recall_curve\n",
    "\n",
    "pred_proba_class1 = lr_clf.predict_proba(X_test)[:,1]\n",
    "\n",
    "precisions, recalls, thresholds = precision_recall_curve(y_test,pred_proba_class1)\n",
    "\n",
    "print('임계값 shape : ', thresholds.shape)\n",
    "print('정밀도 shape : ', precisions.shape)\n",
    "print('재현율 shape : ', recalls.shape)\n",
    "\n",
    "idx = np.arange(0, thresholds.shape[0], 15)\n",
    "print('sample index : ', idx)\n",
    "print('임계값 sample : ', np.round(thresholds[idx],3))\n",
    "print('정밀도 sample : ', np.round(precisions[idx],3))\n",
    "print('재현율 sample : ', np.round(recalls[idx],3))\n",
    "\n"
   ]
  },
  {
   "cell_type": "code",
   "execution_count": 21,
   "id": "af06e943-34dd-4f48-8c7f-f0868a441d27",
   "metadata": {},
   "outputs": [
    {
     "data": {
      "image/png": "[encoded data removed]",
      "text/plain": [
       "<Figure size 576x432 with 1 Axes>"
      ]
     },
     "metadata": {
      "needs_background": "light"
     },
     "output_type": "display_data"
    }
   ],
   "source": [
    "import matplotlib.pyplot as plt\n",
    "import matplotlib.ticker as tiker\n",
    "%matplotlib inline\n",
    "\n",
    "def precision_recall_curve_plot(y_test, pred_proba_c1):\n",
    "    precisions, recalls, thresholds = precision_recall_curve(y_test,pred_proba_c1)\n",
    "    \n",
    "    plt.figure(figsize=(8,6))\n",
    "    threshold_boundary = thresholds.shape[0]\n",
    "    plt.plot(thresholds, precisions[0:threshold_boundary], linestyle='--', label='precision')\n",
    "    plt.plot(thresholds, recalls[0:threshold_boundary], label='recall')\n",
    "    \n",
    "    start, end = plt.xlim()\n",
    "    plt.xticks(np.round(np.arange(start, end, 0.1), 2))\n",
    "    \n",
    "    plt.xlabel('Threshold value') ; plt.ylabel('Precision and Recall value')\n",
    "    plt.legend() ; plt.grid()\n",
    "    plt.show()\n",
    "\n",
    "precision_recall_curve_plot(y_test, lr_clf.predict_proba(X_test)[:,1])"
   ]
  },
  {
   "cell_type": "markdown",
   "id": "6e2b7d63-6e7f-4787-8d91-76c50f78132d",
   "metadata": {},
   "source": [
    "F1 스코어 확인"
   ]
  },
  {
   "cell_type": "code",
   "execution_count": 22,
   "id": "844aeda8-c79b-4f47-9490-bee2ad65dceb",
   "metadata": {},
   "outputs": [
    {
     "name": "stdout",
     "output_type": "stream",
     "text": [
      "0.7804878048780488\n"
     ]
    }
   ],
   "source": [
    "from sklearn.metrics import f1_score\n",
    "\n",
    "f1 = f1_score(y_test, pred)\n",
    "print(f1)"
   ]
  },
  {
   "cell_type": "code",
   "execution_count": 23,
   "id": "a07d5329-c24f-4b89-a579-08ec2ff36d71",
   "metadata": {},
   "outputs": [],
   "source": [
    "from sklearn.metrics import accuracy_score, precision_score, recall_score,confusion_matrix, f1_score\n",
    "\n",
    "# 오차행렬 함수 수정\n",
    "def get_clf_eval(y_test, pred):\n",
    "    confusion = confusion_matrix(y_test,pred)\n",
    "    accuracy = accuracy_score(y_test,pred)\n",
    "    precision = precision_score(y_test,pred)\n",
    "    recall = recall_score(y_test,pred)\n",
    "    f1 = f1_score(y_test,pred)\n",
    "    \n",
    "    print('오차행렬')\n",
    "    print(confusion)\n",
    "    print('정확도 : {0:.3f}'.format(accuracy))\n",
    "    print('정밀도 : {0:.3f}'.format(precision))\n",
    "    print('재현율 : {0:.3f}'.format(recall))\n",
    "    print('F1 : {0:.3f}'.format(f1))"
   ]
  },
  {
   "cell_type": "code",
   "execution_count": 24,
   "id": "0e22f25c-226d-4ec8-8b40-23f90702fede",
   "metadata": {},
   "outputs": [
    {
     "name": "stdout",
     "output_type": "stream",
     "text": [
      "임계값 :  0.4\n",
      "오차행렬\n",
      "[[98 20]\n",
      " [10 51]]\n",
      "정확도 : 0.832\n",
      "정밀도 : 0.718\n",
      "재현율 : 0.836\n",
      "F1 : 0.773\n",
      "임계값 :  0.45\n",
      "오차행렬\n",
      "[[103  15]\n",
      " [ 12  49]]\n",
      "정확도 : 0.849\n",
      "정밀도 : 0.766\n",
      "재현율 : 0.803\n",
      "F1 : 0.784\n",
      "임계값 :  0.5\n",
      "오차행렬\n",
      "[[104  14]\n",
      " [ 13  48]]\n",
      "정확도 : 0.849\n",
      "정밀도 : 0.774\n",
      "재현율 : 0.787\n",
      "F1 : 0.780\n",
      "임계값 :  0.55\n",
      "오차행렬\n",
      "[[109   9]\n",
      " [ 15  46]]\n",
      "정확도 : 0.866\n",
      "정밀도 : 0.836\n",
      "재현율 : 0.754\n",
      "F1 : 0.793\n",
      "임계값 :  0.6\n",
      "오차행렬\n",
      "[[112   6]\n",
      " [ 16  45]]\n",
      "정확도 : 0.877\n",
      "정밀도 : 0.882\n",
      "재현율 : 0.738\n",
      "F1 : 0.804\n"
     ]
    }
   ],
   "source": [
    "thresholds = [0.4, 0.45, 0.5, 0.55, 0.6]\n",
    "pred_proba = lr_clf.predict_proba(X_test)\n",
    "get_eval_by_threshold(y_test, pred_proba[:,1].reshape(-1,1), thresholds)"
   ]
  },
  {
   "cell_type": "markdown",
   "id": "54cf52c4-1cf9-4a33-b0d5-cd95dface11c",
   "metadata": {},
   "source": [
    "## G measuer\n",
    "- 정밀도와 재현율의 기하평균"
   ]
  },
  {
   "cell_type": "markdown",
   "id": "83e43c56-10ea-4b4e-9458-ce49f0826b1e",
   "metadata": {},
   "source": [
    "## ROC Curve 와 AUC\n",
    "### ROC\n",
    "- 수신자 판단 곡선\n",
    "- 의학분야에 많이 사용\n",
    "- ML의 이진 분류 모델의 예측 성능의 중요 평가지표"
   ]
  },
  {
   "cell_type": "code",
   "execution_count": 26,
   "id": "dc5c5c19-0887-4a1a-9e2c-d3aecc5e2338",
   "metadata": {},
   "outputs": [
    {
     "name": "stdout",
     "output_type": "stream",
     "text": [
      "샘플 추출을 위한 임곗값 배열의 index :  [ 1  6 11 16 21 26 31 36 41 46 51]\n",
      "샘플용 임곗값 :  [0.97 0.65 0.63 0.56 0.45 0.4  0.35 0.15 0.13 0.11 0.11]\n",
      "샘플 임곗값별 FPR :  [0.    0.017 0.034 0.076 0.127 0.169 0.203 0.466 0.585 0.686 0.797]\n",
      "샘플 임곗값별 FPR :  [0.033 0.639 0.721 0.754 0.803 0.836 0.885 0.902 0.934 0.967 0.984]\n"
     ]
    }
   ],
   "source": [
    "from sklearn.metrics import roc_curve\n",
    "\n",
    "pred_proba_class1 = lr_clf.predict_proba(X_test)[:,1]\n",
    "\n",
    "fprs, tprs, thresholds = roc_curve(y_test, pred_proba_class1)\n",
    "\n",
    "thr_index = np.arange(1, thresholds.shape[0], 5)\n",
    "print('샘플 추출을 위한 임곗값 배열의 index : ', thr_index)\n",
    "print('샘플용 임곗값 : ', np.round(thresholds[thr_index], 2))\n",
    "\n",
    "print('샘플 임곗값별 FPR : ', np.round(fprs[thr_index], 3))\n",
    "print('샘플 임곗값별 FPR : ', np.round(tprs[thr_index], 3))\n"
   ]
  },
  {
   "cell_type": "code",
   "execution_count": null,
   "id": "259793ab-e3e5-420c-849c-7c1b3d65a194",
   "metadata": {},
   "outputs": [],
   "source": []
  }
 ],
 "metadata": {
  "kernelspec": {
   "display_name": "Python Multi",
   "language": "python",
   "name": "multi"
  },
  "language_info": {
   "codemirror_mode": {
    "name": "ipython",
    "version": 3
   },
   "file_extension": ".py",
   "mimetype": "text/x-python",
   "name": "python",
   "nbconvert_exporter": "python",
   "pygments_lexer": "ipython3",
   "version": "3.7.6"
  }
 },
 "nbformat": 4,
 "nbformat_minor": 5
}
