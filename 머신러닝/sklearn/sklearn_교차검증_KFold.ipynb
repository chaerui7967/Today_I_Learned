{
 "cells": [
  {
   "cell_type": "markdown",
   "id": "bd4b393d-7477-4674-96e6-1f93a6b75354",
   "metadata": {},
   "source": [
    "sklearn의 model_selection\n",
    "- 학습 데이터와 테스트 데이터 셋 분리  ---> train_teat_split() 사용 [ 홀드아웃 방식 ]\n",
    "- 교차 검증 분할 및 평가\n",
    "- Estimator의 하이퍼 파라미터 튜닝"
   ]
  },
  {
   "cell_type": "markdown",
   "id": "1e1164f7-6d53-4aae-ac8f-9e1f2e43b8dd",
   "metadata": {},
   "source": [
    "실습 - 복습"
   ]
  },
  {
   "cell_type": "markdown",
   "id": "ce91cb8e-c8f9-495f-8414-79937ee65b4a",
   "metadata": {},
   "source": [
    "잘못된 모델"
   ]
  },
  {
   "cell_type": "code",
   "execution_count": 5,
   "id": "7f3f9ca8-f9df-4c2c-be78-a81dc2852dd0",
   "metadata": {},
   "outputs": [
    {
     "name": "stdout",
     "output_type": "stream",
     "text": [
      "예측 정확도 :  1.0\n"
     ]
    }
   ],
   "source": [
    "from sklearn.datasets import load_iris\n",
    "from sklearn.tree import DecisionTreeClassifier\n",
    "from sklearn.metrics import accuracy_score\n",
    "\n",
    "iris_data = load_iris()\n",
    "dt_clf = DecisionTreeClassifier()\n",
    "\n",
    "train_data = iris_data.data\n",
    "train_label = iris_data.target\n",
    "\n",
    "# 학습 진행\n",
    "dt_clf.fit(train_data, train_label)\n",
    "\n",
    "# 테스트\n",
    "pred = dt_clf.predict(train_data)\n",
    "print(\"예측 정확도 : \", accuracy_score(train_label, pred))"
   ]
  },
  {
   "cell_type": "markdown",
   "id": "698e71ca-9771-4aeb-80a1-932f8e749442",
   "metadata": {},
   "source": [
    "제대로 예측 - 학습/테스트 데이터 셋 분리 및 예측"
   ]
  },
  {
   "cell_type": "code",
   "execution_count": 30,
   "id": "282d3bb6-ba97-49b5-a7d9-b5c5a4dd8ffa",
   "metadata": {},
   "outputs": [],
   "source": [
    "from sklearn.model_selection import train_test_split\n",
    "\n",
    "# 학습/테스트 분할\n",
    "X_train, X_test,  y_train, y_test =\\\n",
    "train_test_split(iris_data.data, iris_data.target, test_size = 0.3,\n",
    "                random_state= 3)"
   ]
  },
  {
   "cell_type": "code",
   "execution_count": 31,
   "id": "2301d5b9-61a9-4852-9bd6-39177df655c5",
   "metadata": {},
   "outputs": [
    {
     "name": "stdout",
     "output_type": "stream",
     "text": [
      "예측 정확도 :  0.9777777777777777\n"
     ]
    }
   ],
   "source": [
    "# 학습 진행\n",
    "dt_clf.fit(X_train, y_train)\n",
    "\n",
    "# 테스트\n",
    "pred = dt_clf.predict(X_test)\n",
    "print(\"예측 정확도 : \", accuracy_score(y_test, pred))"
   ]
  },
  {
   "cell_type": "markdown",
   "id": "5c6547d9-af3c-423a-bc6f-c5ff4b50ffdd",
   "metadata": {},
   "source": [
    "pandas 이용 데이터셋 분할"
   ]
  },
  {
   "cell_type": "code",
   "execution_count": 33,
   "id": "abc05a06-531d-4064-b05e-c4823f45221b",
   "metadata": {},
   "outputs": [],
   "source": [
    "import pandas as pd"
   ]
  },
  {
   "cell_type": "code",
   "execution_count": 38,
   "id": "a266ebba-12fe-44be-87c6-ea33c9b92e76",
   "metadata": {},
   "outputs": [],
   "source": [
    "def label_name(label):\n",
    "    if label == 0:\n",
    "        name = iris.target_names[0]\n",
    "    elif label == 1:\n",
    "        name = iris.target_names[1]\n",
    "    else:\n",
    "        name = iris.target_names[2]\n",
    "    return name"
   ]
  },
  {
   "cell_type": "code",
   "execution_count": 37,
   "id": "c2a6ec90-7589-4f65-bcaf-bb804abae745",
   "metadata": {},
   "outputs": [
    {
     "data": {
      "text/html": [
       "<div>\n",
       "<style scoped>\n",
       "    .dataframe tbody tr th:only-of-type {\n",
       "        vertical-align: middle;\n",
       "    }\n",
       "\n",
       "    .dataframe tbody tr th {\n",
       "        vertical-align: top;\n",
       "    }\n",
       "\n",
       "    .dataframe thead th {\n",
       "        text-align: right;\n",
       "    }\n",
       "</style>\n",
       "<table border=\"1\" class=\"dataframe\">\n",
       "  <thead>\n",
       "    <tr style=\"text-align: right;\">\n",
       "      <th></th>\n",
       "      <th>sepal length (cm)</th>\n",
       "      <th>sepal width (cm)</th>\n",
       "      <th>petal length (cm)</th>\n",
       "      <th>petal width (cm)</th>\n",
       "      <th>target</th>\n",
       "    </tr>\n",
       "  </thead>\n",
       "  <tbody>\n",
       "    <tr>\n",
       "      <th>0</th>\n",
       "      <td>5.1</td>\n",
       "      <td>3.5</td>\n",
       "      <td>1.4</td>\n",
       "      <td>0.2</td>\n",
       "      <td>0</td>\n",
       "    </tr>\n",
       "    <tr>\n",
       "      <th>1</th>\n",
       "      <td>4.9</td>\n",
       "      <td>3.0</td>\n",
       "      <td>1.4</td>\n",
       "      <td>0.2</td>\n",
       "      <td>0</td>\n",
       "    </tr>\n",
       "    <tr>\n",
       "      <th>2</th>\n",
       "      <td>4.7</td>\n",
       "      <td>3.2</td>\n",
       "      <td>1.3</td>\n",
       "      <td>0.2</td>\n",
       "      <td>0</td>\n",
       "    </tr>\n",
       "  </tbody>\n",
       "</table>\n",
       "</div>"
      ],
      "text/plain": [
       "   sepal length (cm)  sepal width (cm)  petal length (cm)  petal width (cm)  \\\n",
       "0                5.1               3.5                1.4               0.2   \n",
       "1                4.9               3.0                1.4               0.2   \n",
       "2                4.7               3.2                1.3               0.2   \n",
       "\n",
       "   target  \n",
       "0       0  \n",
       "1       0  \n",
       "2       0  "
      ]
     },
     "execution_count": 37,
     "metadata": {},
     "output_type": "execute_result"
    }
   ],
   "source": [
    "iris_df = pd.DataFrame(iris_data.data, columns = iris_data.feature_names)\n",
    "iris_df['target'] = iris_data.target\n",
    "\n",
    "# 라벨 명 넣기\n",
    "# iris_df['label_name'] = \\\n",
    "# iris_df.apply(lambda x : label_name(x['label']), axis = 1)\n",
    "\n",
    "iris_df.head(3)"
   ]
  },
  {
   "cell_type": "code",
   "execution_count": 39,
   "id": "dc997a17-6c8c-456d-982b-b4db6011b16e",
   "metadata": {
    "tags": []
   },
   "outputs": [],
   "source": [
    "feature_df = iris_df.iloc[:,:-1]\n",
    "target_df = iris_df.iloc[:,-1]\n",
    "\n",
    "# 학습/테스트 분할\n",
    "X_train, X_test,  y_train, y_test =\\\n",
    "train_test_split(feature_df, target_df, test_size = 0.3,\n",
    "                random_state= 4)"
   ]
  },
  {
   "cell_type": "code",
   "execution_count": 40,
   "id": "3e6192e3-954e-4711-aa6c-5f60c999aca3",
   "metadata": {},
   "outputs": [
    {
     "data": {
      "text/plain": [
       "pandas.core.frame.DataFrame"
      ]
     },
     "execution_count": 40,
     "metadata": {},
     "output_type": "execute_result"
    }
   ],
   "source": [
    "type(X_train)"
   ]
  },
  {
   "cell_type": "code",
   "execution_count": 44,
   "id": "c482ac66-597c-49a8-84d0-3bc3399dd41a",
   "metadata": {},
   "outputs": [
    {
     "name": "stdout",
     "output_type": "stream",
     "text": [
      "예측 정확도 : 0.978\n"
     ]
    }
   ],
   "source": [
    "dt_clf = DecisionTreeClassifier()\n",
    "dt_clf.fit(X_train, y_train)\n",
    "pred = dt_clf.predict(X_test)\n",
    "print('예측 정확도 : {0:0.3f}'.format(accuracy_score(y_test, pred)))"
   ]
  },
  {
   "cell_type": "markdown",
   "id": "2d2f96d9-15f3-4c3d-b0c4-01322506fa57",
   "metadata": {},
   "source": [
    "### 교차 검증(Cross Validation, CV)\n",
    "- k-fold Cross Vaildation 이라고도 함\n",
    "- 전체 데이터 세트를 임의로 k개의 그룹으로 나누고, 그 가운데 하나의 그룸을 돌아가면서 테스트, 데이터 세트로, 나머지 k-1개 그룹은 학습용 데이터 셋으로 사용하는 방법\n",
    "- 별도의 여러 세트로 구성된 학습 데이터 셋과 검증 데이터 셋에서 학습과 평가를 수행\n",
    "\n",
    "- 사용 목적\n",
    "    - 데이터에 적합한 알고리즘인지 판별\n",
    "    - 모델에 적절한 hyperparameter를 찾기 위해\n",
    "    - 과대적합 예방\n",
    "    - 데이터 편중을 막기 위해"
   ]
  },
  {
   "cell_type": "markdown",
   "id": "dcdae29f-0460-4f28-954c-738eddb3d95a",
   "metadata": {},
   "source": [
    "**K폴드 교차 검증 프로세스 구현**\n",
    "1. KFold 클래스 = 폴드 세트로 분리\n",
    "    - kfold = KFold(n_splits = 5)\n",
    "2. split() : 폴드 데이터 셋으로 분리\n",
    "    - kfold.split(features)\n",
    "    - 각 폴드마다\n",
    "        - 학습용, 검증용, 테스트 데이터 추출\n",
    "        - 학습용 및 예측 수행\n",
    "        - 정확도 측정\n",
    "3. 최종 평균 정확도 계산"
   ]
  },
  {
   "cell_type": "code",
   "execution_count": 49,
   "id": "3f3d60f6-20b3-4265-9003-9df500916f12",
   "metadata": {},
   "outputs": [
    {
     "data": {
      "text/plain": [
       "(150, 4)"
      ]
     },
     "execution_count": 49,
     "metadata": {},
     "output_type": "execute_result"
    }
   ],
   "source": [
    "from sklearn.tree import DecisionTreeClassifier\n",
    "from sklearn.metrics import accuracy_score\n",
    "from sklearn.model_selection import KFold\n",
    "import numpy as np\n",
    "\n",
    "iris = load_iris()\n",
    "feature = iris.data\n",
    "label = iris.target\n",
    "\n",
    "feature.shape"
   ]
  },
  {
   "cell_type": "code",
   "execution_count": 50,
   "id": "dbae960f-0634-47ef-81d0-819eb76c7a09",
   "metadata": {},
   "outputs": [],
   "source": [
    "dt_clf = DecisionTreeClassifier(random_state = 156)\n",
    "\n",
    "# 5개의 폴드 세트로 분리\n",
    "kfold = KFold(n_splits = 5)\n",
    "\n",
    "# 폴드 세트별 정확도를 담을 리스트 객체 생성\n",
    "cv_accuracy = []\n"
   ]
  },
  {
   "cell_type": "code",
   "execution_count": 51,
   "id": "89a9c753-bbe2-471b-9b38-283135707b4f",
   "metadata": {},
   "outputs": [
    {
     "data": {
      "text/plain": [
       "<generator object _BaseKFold.split at 0x000001B217AB2BC8>"
      ]
     },
     "execution_count": 51,
     "metadata": {},
     "output_type": "execute_result"
    }
   ],
   "source": [
    "kfold.split(feature)"
   ]
  },
  {
   "cell_type": "code",
   "execution_count": 52,
   "id": "6ce40c8b-a939-4444-9e18-984d0e022a03",
   "metadata": {
    "collapsed": true,
    "jupyter": {
     "outputs_hidden": true
    },
    "tags": []
   },
   "outputs": [
    {
     "name": "stdout",
     "output_type": "stream",
     "text": [
      "[ 30  31  32  33  34  35  36  37  38  39  40  41  42  43  44  45  46  47\n",
      "  48  49  50  51  52  53  54  55  56  57  58  59  60  61  62  63  64  65\n",
      "  66  67  68  69  70  71  72  73  74  75  76  77  78  79  80  81  82  83\n",
      "  84  85  86  87  88  89  90  91  92  93  94  95  96  97  98  99 100 101\n",
      " 102 103 104 105 106 107 108 109 110 111 112 113 114 115 116 117 118 119\n",
      " 120 121 122 123 124 125 126 127 128 129 130 131 132 133 134 135 136 137\n",
      " 138 139 140 141 142 143 144 145 146 147 148 149] [ 0  1  2  3  4  5  6  7  8  9 10 11 12 13 14 15 16 17 18 19 20 21 22 23\n",
      " 24 25 26 27 28 29]\n",
      "[  0   1   2   3   4   5   6   7   8   9  10  11  12  13  14  15  16  17\n",
      "  18  19  20  21  22  23  24  25  26  27  28  29  60  61  62  63  64  65\n",
      "  66  67  68  69  70  71  72  73  74  75  76  77  78  79  80  81  82  83\n",
      "  84  85  86  87  88  89  90  91  92  93  94  95  96  97  98  99 100 101\n",
      " 102 103 104 105 106 107 108 109 110 111 112 113 114 115 116 117 118 119\n",
      " 120 121 122 123 124 125 126 127 128 129 130 131 132 133 134 135 136 137\n",
      " 138 139 140 141 142 143 144 145 146 147 148 149] [30 31 32 33 34 35 36 37 38 39 40 41 42 43 44 45 46 47 48 49 50 51 52 53\n",
      " 54 55 56 57 58 59]\n",
      "[  0   1   2   3   4   5   6   7   8   9  10  11  12  13  14  15  16  17\n",
      "  18  19  20  21  22  23  24  25  26  27  28  29  30  31  32  33  34  35\n",
      "  36  37  38  39  40  41  42  43  44  45  46  47  48  49  50  51  52  53\n",
      "  54  55  56  57  58  59  90  91  92  93  94  95  96  97  98  99 100 101\n",
      " 102 103 104 105 106 107 108 109 110 111 112 113 114 115 116 117 118 119\n",
      " 120 121 122 123 124 125 126 127 128 129 130 131 132 133 134 135 136 137\n",
      " 138 139 140 141 142 143 144 145 146 147 148 149] [60 61 62 63 64 65 66 67 68 69 70 71 72 73 74 75 76 77 78 79 80 81 82 83\n",
      " 84 85 86 87 88 89]\n",
      "[  0   1   2   3   4   5   6   7   8   9  10  11  12  13  14  15  16  17\n",
      "  18  19  20  21  22  23  24  25  26  27  28  29  30  31  32  33  34  35\n",
      "  36  37  38  39  40  41  42  43  44  45  46  47  48  49  50  51  52  53\n",
      "  54  55  56  57  58  59  60  61  62  63  64  65  66  67  68  69  70  71\n",
      "  72  73  74  75  76  77  78  79  80  81  82  83  84  85  86  87  88  89\n",
      " 120 121 122 123 124 125 126 127 128 129 130 131 132 133 134 135 136 137\n",
      " 138 139 140 141 142 143 144 145 146 147 148 149] [ 90  91  92  93  94  95  96  97  98  99 100 101 102 103 104 105 106 107\n",
      " 108 109 110 111 112 113 114 115 116 117 118 119]\n",
      "[  0   1   2   3   4   5   6   7   8   9  10  11  12  13  14  15  16  17\n",
      "  18  19  20  21  22  23  24  25  26  27  28  29  30  31  32  33  34  35\n",
      "  36  37  38  39  40  41  42  43  44  45  46  47  48  49  50  51  52  53\n",
      "  54  55  56  57  58  59  60  61  62  63  64  65  66  67  68  69  70  71\n",
      "  72  73  74  75  76  77  78  79  80  81  82  83  84  85  86  87  88  89\n",
      "  90  91  92  93  94  95  96  97  98  99 100 101 102 103 104 105 106 107\n",
      " 108 109 110 111 112 113 114 115 116 117 118 119] [120 121 122 123 124 125 126 127 128 129 130 131 132 133 134 135 136 137\n",
      " 138 139 140 141 142 143 144 145 146 147 148 149]\n"
     ]
    }
   ],
   "source": [
    "for train_index, test_index in kfold.split(feature):\n",
    "    print(train_index, test_index)"
   ]
  },
  {
   "cell_type": "code",
   "execution_count": 53,
   "id": "f3a845a9-53de-4397-bcca-bf3c0f98960a",
   "metadata": {},
   "outputs": [
    {
     "name": "stdout",
     "output_type": "stream",
     "text": [
      "정확도 : 1.0, 학습 데이터 크기 : 120, 검증 데이터 크기 : 30\n",
      "정확도 : 0.967, 학습 데이터 크기 : 120, 검증 데이터 크기 : 30\n",
      "정확도 : 0.867, 학습 데이터 크기 : 120, 검증 데이터 크기 : 30\n",
      "정확도 : 0.933, 학습 데이터 크기 : 120, 검증 데이터 크기 : 30\n",
      "정확도 : 0.733, 학습 데이터 크기 : 120, 검증 데이터 크기 : 30\n",
      "평균 검증 정확도 : 0.9\n"
     ]
    }
   ],
   "source": [
    "# 테스트 진행\n",
    "for train_index, test_index in kfold.split(feature):\n",
    "    X_train, X_test = feature[train_index], feature[test_index]\n",
    "    y_train, y_test = label[train_index], label[test_index]\n",
    "    \n",
    "    dt_clf.fit(X_train,y_train)\n",
    "    pred = dt_clf.predict(X_test)\n",
    "    \n",
    "    acc = np.round(accuracy_score(y_test,pred), 3)\n",
    "    \n",
    "    train_size = X_train.shape[0]\n",
    "    test_size = X_test.shape[0]\n",
    "    \n",
    "    print(f'정확도 : {acc}, 학습 데이터 크기 : {train_size}, 검증 데이터 크기 : {test_size}')\n",
    "    cv_accuracy.append(acc)\n",
    "\n",
    "print(f'평균 검증 정확도 : {np.mean(cv_accuracy)}')"
   ]
  },
  {
   "cell_type": "code",
   "execution_count": null,
   "id": "514ae622-4eac-43f5-8212-34db66509db5",
   "metadata": {},
   "outputs": [],
   "source": []
  }
 ],
 "metadata": {
  "kernelspec": {
   "display_name": "Python Multi",
   "language": "python",
   "name": "multi"
  },
  "language_info": {
   "codemirror_mode": {
    "name": "ipython",
    "version": 3
   },
   "file_extension": ".py",
   "mimetype": "text/x-python",
   "name": "python",
   "nbconvert_exporter": "python",
   "pygments_lexer": "ipython3",
   "version": "3.7.6"
  }
 },
 "nbformat": 4,
 "nbformat_minor": 5
}
