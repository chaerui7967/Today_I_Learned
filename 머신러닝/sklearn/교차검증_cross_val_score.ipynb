{
 "cells": [
  {
   "cell_type": "markdown",
   "id": "431e97d2-afb3-4512-aac4-09d8f064fbe5",
   "metadata": {},
   "source": [
    "### cross_val_score()\n",
    "- 교차검증 과정을 한꺼번에 수정 --위의 for문\n",
    "- 내부에서 Estimator를 학습(fit), 예측(predict), 평가(evaluation)를 시켜줌\n",
    "- 간단하게 교차검증 가능"
   ]
  },
  {
   "cell_type": "markdown",
   "id": "e6df209c-096e-496c-a858-a19e82ae068c",
   "metadata": {},
   "source": [
    "**cross_val_score(estimator, X, y=None, scoring=None, cv=None, n_jobs=1, verbose=0, fit_params=None, pre_dispatch='2*n_jobs')**\n",
    "\n",
    "- estimator = Classifier or Regressor\n",
    "- X = feature\n",
    "- y = label\n",
    "- scoring = 예측 성능 평가 지표\n",
    "- cv = 교차검증 폴드 수\n",
    "- 성능지표 반환"
   ]
  },
  {
   "cell_type": "code",
   "execution_count": 6,
   "id": "0d7254c7-eb3a-4027-a6ff-89783651f3a1",
   "metadata": {},
   "outputs": [
    {
     "name": "stdout",
     "output_type": "stream",
     "text": [
      "교차 검증별 정확도 :  [0.98 0.94 0.98]\n",
      "평균 검증 정확도 :  0.9667\n"
     ]
    }
   ],
   "source": [
    "from sklearn.tree import DecisionTreeClassifier\n",
    "from sklearn.model_selection import cross_val_score, cross_validate\n",
    "from sklearn.datasets import load_iris\n",
    "import numpy as np\n",
    "\n",
    "iris_data = load_iris()\n",
    "dt_clf = DecisionTreeClassifier(random_state = 156)\n",
    "\n",
    "features = iris_data.data\n",
    "label = iris_data.target\n",
    "\n",
    "scores = cross_val_score(dt_clf, features, label, scoring = 'accuracy', cv=3)\n",
    "print('교차 검증별 정확도 : ', scores)\n",
    "print('평균 검증 정확도 : ', np.round(np.mean(scores),4))"
   ]
  },
  {
   "cell_type": "code",
   "execution_count": null,
   "id": "7ab13045-19f5-4d22-b8d4-747621b23eea",
   "metadata": {},
   "outputs": [],
   "source": []
  }
 ],
 "metadata": {
  "kernelspec": {
   "display_name": "Python Multi",
   "language": "python",
   "name": "multi"
  },
  "language_info": {
   "codemirror_mode": {
    "name": "ipython",
    "version": 3
   },
   "file_extension": ".py",
   "mimetype": "text/x-python",
   "name": "python",
   "nbconvert_exporter": "python",
   "pygments_lexer": "ipython3",
   "version": "3.7.6"
  }
 },
 "nbformat": 4,
 "nbformat_minor": 5
}
