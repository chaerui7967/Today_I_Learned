{
 "cells": [
  {
   "cell_type": "markdown",
   "id": "8c3671f4-d994-4403-a1df-ce06d8abe902",
   "metadata": {},
   "source": [
    "# 데이터 전처리\n",
    "- 데이터를 분석하기 좋은 형태로 만드는 과정\n",
    "- Garbage In Garbage Out\n",
    "    - 데이터 전처리가 중요한 근본적인 이유\n",
    "    - 데이터 품질은 분석 결과 품질의 출발점"
   ]
  },
  {
   "cell_type": "markdown",
   "id": "62785c40-10d3-4a8e-81db-e506f8540b4b",
   "metadata": {},
   "source": [
    "## LableEncoder\n",
    "- 라벨링"
   ]
  },
  {
   "cell_type": "code",
   "execution_count": 1,
   "id": "b23abbcf-4ba6-49e9-9630-03dbffe18159",
   "metadata": {},
   "outputs": [
    {
     "name": "stdout",
     "output_type": "stream",
     "text": [
      "[0 1 4 5 3 3 2 2]\n"
     ]
    }
   ],
   "source": [
    "from sklearn.preprocessing import LabelEncoder\n",
    "\n",
    "items = ['TV', '냉장고', '전자렌지', '컴퓨터', '선풍기', '선풍기', '믹서', '믹서']\n",
    "encoder = LabelEncoder()\n",
    "encoder.fit(items)\n",
    "labels = encoder.transform(items)\n",
    "print(labels)"
   ]
  },
  {
   "cell_type": "code",
   "execution_count": 2,
   "id": "750d516c-9e27-4f04-891c-04b0c20e47ab",
   "metadata": {},
   "outputs": [
    {
     "data": {
      "text/plain": [
       "array(['TV', '냉장고', '믹서', '선풍기', '전자렌지', '컴퓨터'], dtype='<U4')"
      ]
     },
     "execution_count": 2,
     "metadata": {},
     "output_type": "execute_result"
    }
   ],
   "source": [
    "encoder.classes_  # 중복 목록을 제외 원래 문자열 값 목록 가져옴"
   ]
  },
  {
   "cell_type": "code",
   "execution_count": 3,
   "id": "fe412018-5eeb-45c3-a89a-a301b101888c",
   "metadata": {},
   "outputs": [
    {
     "data": {
      "text/plain": [
       "array(['선풍기', 'TV', '냉장고', '믹서'], dtype='<U4')"
      ]
     },
     "execution_count": 3,
     "metadata": {},
     "output_type": "execute_result"
    }
   ],
   "source": [
    "encoder.inverse_transform([3,0,1,2])  # 숫자를 문자열로 반환"
   ]
  },
  {
   "cell_type": "markdown",
   "id": "b63ddefb-3a3a-4c3d-9628-3d39716beac3",
   "metadata": {},
   "source": [
    "## 원 핫 인코딩\n",
    "- feature 값의 유형에 따라 새로운 feature를 추가하여\n",
    "- 고유값에 해당하는 컬럼만을 1로 표시 나머지 0\n",
    "- 범주형 변수를 독립변수로 갖는 회귀 분석의 경우 범주형 변수를 dummy변수로 변환"
   ]
  },
  {
   "cell_type": "code",
   "execution_count": 5,
   "id": "707f340d-fbcd-42b6-965f-3016d3b170a2",
   "metadata": {},
   "outputs": [],
   "source": [
    "from sklearn.preprocessing import OneHotEncoder, LabelEncoder\n",
    "import numpy as np\n",
    "\n",
    "items = ['TV', '냉장고', '전자렌지', '컴퓨터', '선풍기', '선풍기', '믹서', '믹서']\n",
    "\n",
    "encoder = LabelEncoder()\n",
    "encoder.fit(items)\n",
    "\n",
    "labels = encoder.transform(items)\n",
    "\n",
    "# 2차원 데이터로 변환\n",
    "labels = labels.reshape(-1,1)"
   ]
  },
  {
   "cell_type": "code",
   "execution_count": 6,
   "id": "5ade6562-894b-450d-8fcb-c1b3b9c9c1f7",
   "metadata": {},
   "outputs": [
    {
     "data": {
      "text/plain": [
       "array([[0],\n",
       "       [1],\n",
       "       [4],\n",
       "       [5],\n",
       "       [3],\n",
       "       [3],\n",
       "       [2],\n",
       "       [2]], dtype=int64)"
      ]
     },
     "execution_count": 6,
     "metadata": {},
     "output_type": "execute_result"
    }
   ],
   "source": [
    "labels"
   ]
  },
  {
   "cell_type": "code",
   "execution_count": 7,
   "id": "8032e4e0-1d94-4633-82ee-d35177123d87",
   "metadata": {},
   "outputs": [
    {
     "data": {
      "text/plain": [
       "<8x6 sparse matrix of type '<class 'numpy.float64'>'\n",
       "\twith 8 stored elements in Compressed Sparse Row format>"
      ]
     },
     "execution_count": 7,
     "metadata": {},
     "output_type": "execute_result"
    }
   ],
   "source": [
    "one_encoder = OneHotEncoder()\n",
    "one_encoder.fit(labels)\n",
    "one_labels = one_encoder.transform(labels)\n",
    "one_labels"
   ]
  },
  {
   "cell_type": "code",
   "execution_count": 8,
   "id": "e2dc1eaf-a425-4574-9f94-8ce95f983f9e",
   "metadata": {},
   "outputs": [
    {
     "name": "stdout",
     "output_type": "stream",
     "text": [
      "  (0, 0)\t1.0\n",
      "  (1, 1)\t1.0\n",
      "  (2, 4)\t1.0\n",
      "  (3, 5)\t1.0\n",
      "  (4, 3)\t1.0\n",
      "  (5, 3)\t1.0\n",
      "  (6, 2)\t1.0\n",
      "  (7, 2)\t1.0\n"
     ]
    }
   ],
   "source": [
    "print(one_labels)"
   ]
  },
  {
   "cell_type": "code",
   "execution_count": 9,
   "id": "41238da3-b14f-4f58-847b-797c44e54af8",
   "metadata": {},
   "outputs": [
    {
     "data": {
      "text/plain": [
       "(8, 6)"
      ]
     },
     "execution_count": 9,
     "metadata": {},
     "output_type": "execute_result"
    }
   ],
   "source": [
    "one_labels.shape"
   ]
  },
  {
   "cell_type": "code",
   "execution_count": 11,
   "id": "cf051efe-2734-4e2e-abee-51d1d813d373",
   "metadata": {},
   "outputs": [
    {
     "data": {
      "text/plain": [
       "array([[1., 0., 0., 0., 0., 0.],\n",
       "       [0., 1., 0., 0., 0., 0.],\n",
       "       [0., 0., 0., 0., 1., 0.],\n",
       "       [0., 0., 0., 0., 0., 1.],\n",
       "       [0., 0., 0., 1., 0., 0.],\n",
       "       [0., 0., 0., 1., 0., 0.],\n",
       "       [0., 0., 1., 0., 0., 0.],\n",
       "       [0., 0., 1., 0., 0., 0.]])"
      ]
     },
     "execution_count": 11,
     "metadata": {},
     "output_type": "execute_result"
    }
   ],
   "source": [
    "one_labels.toarray()"
   ]
  },
  {
   "cell_type": "markdown",
   "id": "ac2078ab-ddcc-4e4e-ab23-5cf535470521",
   "metadata": {},
   "source": [
    "## Pandas API 사용 원-핫 인코딩\n",
    "- get_dummies() 메서드 사용\n",
    "- 숫자형으로 변환 없이 바로 변환"
   ]
  },
  {
   "cell_type": "code",
   "execution_count": 12,
   "id": "065cb873-b2d6-490b-aad7-c13bbb418f68",
   "metadata": {},
   "outputs": [
    {
     "data": {
      "text/html": [
       "<div>\n",
       "<style scoped>\n",
       "    .dataframe tbody tr th:only-of-type {\n",
       "        vertical-align: middle;\n",
       "    }\n",
       "\n",
       "    .dataframe tbody tr th {\n",
       "        vertical-align: top;\n",
       "    }\n",
       "\n",
       "    .dataframe thead th {\n",
       "        text-align: right;\n",
       "    }\n",
       "</style>\n",
       "<table border=\"1\" class=\"dataframe\">\n",
       "  <thead>\n",
       "    <tr style=\"text-align: right;\">\n",
       "      <th></th>\n",
       "      <th>items_TV</th>\n",
       "      <th>items_냉장고</th>\n",
       "      <th>items_믹서</th>\n",
       "      <th>items_선풍기</th>\n",
       "      <th>items_전자렌지</th>\n",
       "      <th>items_컴퓨터</th>\n",
       "    </tr>\n",
       "  </thead>\n",
       "  <tbody>\n",
       "    <tr>\n",
       "      <th>0</th>\n",
       "      <td>1</td>\n",
       "      <td>0</td>\n",
       "      <td>0</td>\n",
       "      <td>0</td>\n",
       "      <td>0</td>\n",
       "      <td>0</td>\n",
       "    </tr>\n",
       "    <tr>\n",
       "      <th>1</th>\n",
       "      <td>0</td>\n",
       "      <td>1</td>\n",
       "      <td>0</td>\n",
       "      <td>0</td>\n",
       "      <td>0</td>\n",
       "      <td>0</td>\n",
       "    </tr>\n",
       "    <tr>\n",
       "      <th>2</th>\n",
       "      <td>0</td>\n",
       "      <td>0</td>\n",
       "      <td>0</td>\n",
       "      <td>0</td>\n",
       "      <td>1</td>\n",
       "      <td>0</td>\n",
       "    </tr>\n",
       "    <tr>\n",
       "      <th>3</th>\n",
       "      <td>0</td>\n",
       "      <td>0</td>\n",
       "      <td>0</td>\n",
       "      <td>0</td>\n",
       "      <td>0</td>\n",
       "      <td>1</td>\n",
       "    </tr>\n",
       "    <tr>\n",
       "      <th>4</th>\n",
       "      <td>0</td>\n",
       "      <td>0</td>\n",
       "      <td>0</td>\n",
       "      <td>1</td>\n",
       "      <td>0</td>\n",
       "      <td>0</td>\n",
       "    </tr>\n",
       "    <tr>\n",
       "      <th>5</th>\n",
       "      <td>0</td>\n",
       "      <td>0</td>\n",
       "      <td>0</td>\n",
       "      <td>1</td>\n",
       "      <td>0</td>\n",
       "      <td>0</td>\n",
       "    </tr>\n",
       "    <tr>\n",
       "      <th>6</th>\n",
       "      <td>0</td>\n",
       "      <td>0</td>\n",
       "      <td>1</td>\n",
       "      <td>0</td>\n",
       "      <td>0</td>\n",
       "      <td>0</td>\n",
       "    </tr>\n",
       "    <tr>\n",
       "      <th>7</th>\n",
       "      <td>0</td>\n",
       "      <td>0</td>\n",
       "      <td>1</td>\n",
       "      <td>0</td>\n",
       "      <td>0</td>\n",
       "      <td>0</td>\n",
       "    </tr>\n",
       "  </tbody>\n",
       "</table>\n",
       "</div>"
      ],
      "text/plain": [
       "   items_TV  items_냉장고  items_믹서  items_선풍기  items_전자렌지  items_컴퓨터\n",
       "0         1          0         0          0           0          0\n",
       "1         0          1         0          0           0          0\n",
       "2         0          0         0          0           1          0\n",
       "3         0          0         0          0           0          1\n",
       "4         0          0         0          1           0          0\n",
       "5         0          0         0          1           0          0\n",
       "6         0          0         1          0           0          0\n",
       "7         0          0         1          0           0          0"
      ]
     },
     "execution_count": 12,
     "metadata": {},
     "output_type": "execute_result"
    }
   ],
   "source": [
    "import pandas as pd\n",
    "\n",
    "df = pd.DataFrame({'items':['TV', '냉장고', '전자렌지', '컴퓨터', '선풍기', '선풍기', '믹서', '믹서']})\n",
    "\n",
    "pd.get_dummies(df)"
   ]
  },
  {
   "cell_type": "code",
   "execution_count": 14,
   "id": "26bf5328-8a37-444c-864d-c4fd400f000e",
   "metadata": {},
   "outputs": [
    {
     "data": {
      "text/plain": [
       "array([[1, 0, 0, 0, 0, 0],\n",
       "       [0, 1, 0, 0, 0, 0],\n",
       "       [0, 0, 0, 0, 1, 0],\n",
       "       [0, 0, 0, 0, 0, 1],\n",
       "       [0, 0, 0, 1, 0, 0],\n",
       "       [0, 0, 0, 1, 0, 0],\n",
       "       [0, 0, 1, 0, 0, 0],\n",
       "       [0, 0, 1, 0, 0, 0]], dtype=uint8)"
      ]
     },
     "execution_count": 14,
     "metadata": {},
     "output_type": "execute_result"
    }
   ],
   "source": [
    "pd.get_dummies(df).to_numpy()"
   ]
  },
  {
   "cell_type": "markdown",
   "id": "1f3dce93-d1f4-421e-ad3c-cb5d2d2877f2",
   "metadata": {},
   "source": [
    "## 피처 스케일링, 정규화\n",
    "- 피처 스케일링\n",
    "    - 서로 다른 변수의 값 범위를 일정한 수준으로 맞춤\n",
    "- 방식\n",
    "    - Z-scaling\n",
    "        - 표준화\n",
    "        - 평균이 0이고 분산이 1인 가우지안 정규분포\n",
    "        - 정규화\n",
    "        - sklearn.preprocessing의 StandardScaler 모듈\n",
    "    - Min-max\n",
    "        - 0-1로 변환\n",
    "        - sklearn.preprocessing의 MinMaxScaler\n",
    "    - 벡터 정규화\n",
    "        - sklearn Nomailzer\n",
    "        - 선형대수의 정규화 개념\n",
    "    - Max Absolute Scaling\n",
    "        - X / |Xmax|\n",
    "    - Robust Scaling\n",
    "        - (X-X2/4) / (X3/4 - X1/4)\n",
    "        - 2/4 = 중앙값, 3/4 = 3분위수, 1/4 = 1분위수"
   ]
  },
  {
   "cell_type": "code",
   "execution_count": 17,
   "id": "ddd35dd1-21b7-4a5e-81c1-9ec35e6429d7",
   "metadata": {},
   "outputs": [
    {
     "data": {
      "text/plain": [
       "sepal length (cm)    5.843333\n",
       "sepal width (cm)     3.057333\n",
       "petal length (cm)    3.758000\n",
       "petal width (cm)     1.199333\n",
       "dtype: float64"
      ]
     },
     "execution_count": 17,
     "metadata": {},
     "output_type": "execute_result"
    }
   ],
   "source": [
    "from sklearn.datasets import load_iris\n",
    "import pandas as pd\n",
    "\n",
    "iris = load_iris()\n",
    "iris_data = iris.data\n",
    "iris_df = pd.DataFrame(data= iris_data, columns = iris.feature_names)\n",
    "\n",
    "iris_df.mean()"
   ]
  },
  {
   "cell_type": "markdown",
   "id": "65bf4b8a-8d98-4e50-a405-e6a3b907fa7d",
   "metadata": {},
   "source": [
    "### StandardScaler"
   ]
  },
  {
   "cell_type": "code",
   "execution_count": 20,
   "id": "050094d2-8806-4335-a426-69c82004b007",
   "metadata": {},
   "outputs": [
    {
     "name": "stdout",
     "output_type": "stream",
     "text": [
      "-1.4684549872375404e-15\n",
      "1.0\n"
     ]
    }
   ],
   "source": [
    "from sklearn.preprocessing import StandardScaler\n",
    "\n",
    "scaler = StandardScaler()\n",
    "scaler.fit(iris_df)\n",
    "iris_scaled = scaler.transform(iris_df)\n",
    "# print(iris_scaled)\n",
    "\n",
    "print(iris_scaled.mean())\n",
    "print(iris_scaled.std())"
   ]
  },
  {
   "cell_type": "code",
   "execution_count": 25,
   "id": "c8660978-c216-41bb-87d0-e94710aa3d6e",
   "metadata": {},
   "outputs": [
    {
     "name": "stdout",
     "output_type": "stream",
     "text": [
      "sepal length (cm)    0.428704\n",
      "sepal width (cm)     0.440556\n",
      "petal length (cm)    0.467458\n",
      "petal width (cm)     0.458056\n",
      "dtype: float64\n",
      "sepal length (cm)    0.230018\n",
      "sepal width (cm)     0.181611\n",
      "petal length (cm)    0.299203\n",
      "petal width (cm)     0.317599\n",
      "dtype: float64\n"
     ]
    }
   ],
   "source": [
    "iris_scaled_df = pd.DataFrame(data = iris_scaled, columns = iris.feature_names)\n",
    "print(iris_scaled_df.mean())\n",
    "print(iris_scaled_df.std())"
   ]
  },
  {
   "cell_type": "markdown",
   "id": "093eb224-a633-4d05-a2f9-318606aa4eaf",
   "metadata": {},
   "source": [
    "### MinMaxScaler"
   ]
  },
  {
   "cell_type": "code",
   "execution_count": 24,
   "id": "99c9b172-d870-41ea-803a-9ead4e42a7b8",
   "metadata": {},
   "outputs": [
    {
     "name": "stdout",
     "output_type": "stream",
     "text": [
      "sepal length (cm)    0.0\n",
      "sepal width (cm)     0.0\n",
      "petal length (cm)    0.0\n",
      "petal width (cm)     0.0\n",
      "dtype: float64\n",
      "sepal length (cm)    1.0\n",
      "sepal width (cm)     1.0\n",
      "petal length (cm)    1.0\n",
      "petal width (cm)     1.0\n",
      "dtype: float64\n"
     ]
    }
   ],
   "source": [
    "from sklearn.preprocessing import MinMaxScaler\n",
    "\n",
    "scaler = MinMaxScaler()\n",
    "scaler.fit(iris_df)\n",
    "iris_scaled = scaler.transform(iris_df)\n",
    "# print(iris_scaled)\n",
    "iris_scaled_df = pd.DataFrame(data = iris_scaled, columns = iris.feature_names)\n",
    "print(iris_scaled_df.min())\n",
    "print(iris_scaled_df.max())"
   ]
  },
  {
   "cell_type": "markdown",
   "id": "30abd8ba-c2b4-41da-bac3-b53599712a29",
   "metadata": {},
   "source": [
    "#### 데이터 변환 목적\n",
    "- 분포의 대칭화\n",
    "- 산포를 비슷하게\n",
    "- 변수 간의 관계를 단순하게\n",
    "\n",
    "#### 변환 종류\n",
    "- 모양 변환: pivot(요약), unpivot(요약을 재구성)\n",
    "- 파생변수\n",
    "    - 이미 수집된 변수를 활용해 새로운 변수를 생성\n",
    "    - 주구매 매장, 구매상품 다양성, 가격 선호대 ---> 분석자의 가 들어감\n",
    "- 요약변수\n",
    "    - 원 데이터를 분석 Needs를 종합\n",
    "- 데이터 분포 변환\n",
    "    - 정규분포를 가정하는 분석 기법을 사용할 대 입력 데이터가 정규를 따르지 않는 경우, 정규분포 혹은 정규분포에 가깝게 변환하는 기법\n",
    "    - Positively Skewed(왜도)\n",
    "        - sqrt(x) --> 제곱근\n",
    "        - log(x)\n",
    "        - 1/x(x)\n",
    "        \n",
    "    - Negatively Skewed\n",
    "        - sqrt(max(x+1) - x)\n",
    "        - log(max(x+1) - x)\n",
    "        - 1/(max(x+1) - x)"
   ]
  }
 ],
 "metadata": {
  "kernelspec": {
   "display_name": "Python Multi",
   "language": "python",
   "name": "multi"
  },
  "language_info": {
   "codemirror_mode": {
    "name": "ipython",
    "version": 3
   },
   "file_extension": ".py",
   "mimetype": "text/x-python",
   "name": "python",
   "nbconvert_exporter": "python",
   "pygments_lexer": "ipython3",
   "version": "3.7.6"
  }
 },
 "nbformat": 4,
 "nbformat_minor": 5
}
