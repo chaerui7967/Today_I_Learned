{
 "cells": [
  {
   "cell_type": "code",
   "execution_count": 1,
   "id": "dc2af7ee-b8c7-4fca-b5db-27f72cffb632",
   "metadata": {},
   "outputs": [],
   "source": [
    "from sklearn.model_selection import train_test_split"
   ]
  },
  {
   "cell_type": "markdown",
   "id": "8bc9a1de-bd50-47dc-a5bb-407914cf042f",
   "metadata": {},
   "source": [
    "##### train_test_split\n",
    " - *array : feature dataset, label dataset\n",
    " - test_size = None\n",
    " - train_size = None\n",
    " - shuffle = True\n",
    " - stratify = None\n",
    " - random_state = None\n",
    " "
   ]
  },
  {
   "cell_type": "code",
   "execution_count": 2,
   "id": "bbff7137-b8bc-4a36-a805-c19e2719c03c",
   "metadata": {},
   "outputs": [],
   "source": [
    "fish_length = [25.4, 26.3, 26.5, 29.0, 29.0, 29.7, 29.7, 30.0, 30.0, 30.7, 31.0, 31.0, \n",
    "                31.5, 32.0, 32.0, 32.0, 33.0, 33.0, 33.5, 33.5, 34.0, 34.0, 34.5, 35.0, \n",
    "                35.0, 35.0, 35.0, 36.0, 36.0, 37.0, 38.5, 38.5, 39.5, 41.0, 41.0, 9.8, \n",
    "                10.5, 10.6, 11.0, 11.2, 11.3, 11.8, 11.8, 12.0, 12.2, 12.4, 13.0, 14.3, 15.0]\n",
    "fish_weight = [242.0, 290.0, 340.0, 363.0, 430.0, 450.0, 500.0, 390.0, 450.0, 500.0, 475.0, 500.0, \n",
    "                500.0, 340.0, 600.0, 600.0, 700.0, 700.0, 610.0, 650.0, 575.0, 685.0, 620.0, 680.0, \n",
    "                700.0, 725.0, 720.0, 714.0, 850.0, 1000.0, 920.0, 955.0, 925.0, 975.0, 950.0, 6.7, \n",
    "                7.5, 7.0, 9.7, 9.8, 8.7, 10.0, 9.9, 9.8, 12.2, 13.4, 12.2, 19.7, 19.9]\n"
   ]
  },
  {
   "cell_type": "code",
   "execution_count": 3,
   "id": "1af90137-1dd2-41ce-8347-89c25357ff13",
   "metadata": {},
   "outputs": [],
   "source": [
    "import numpy as np"
   ]
  },
  {
   "cell_type": "code",
   "execution_count": 4,
   "id": "edcc5620-4ccf-4e38-bf73-f8349782020f",
   "metadata": {},
   "outputs": [],
   "source": [
    "fish_data = np.column_stack((fish_length,fish_weight))"
   ]
  },
  {
   "cell_type": "code",
   "execution_count": 5,
   "id": "0c20adc6-4d75-429f-a468-315a2bff8edb",
   "metadata": {},
   "outputs": [],
   "source": [
    "fish_target = [1]*35 + [0] * 14"
   ]
  },
  {
   "cell_type": "code",
   "execution_count": 6,
   "id": "6b20dad0-18cd-4820-83ec-d1e109b64866",
   "metadata": {},
   "outputs": [],
   "source": [
    "train_input, test_input, train_target, test_target = \\\n",
    "train_test_split(fish_data,fish_target, random_state = 42)"
   ]
  },
  {
   "cell_type": "code",
   "execution_count": 7,
   "id": "57a2e4fb-f21a-4001-8d6d-aa3ec9f82258",
   "metadata": {},
   "outputs": [
    {
     "data": {
      "text/plain": [
       "[1, 0, 0, 0, 1, 1, 1, 1, 1, 1, 1, 1, 1]"
      ]
     },
     "execution_count": 7,
     "metadata": {},
     "output_type": "execute_result"
    }
   ],
   "source": [
    "test_target"
   ]
  },
  {
   "cell_type": "markdown",
   "id": "d21afe69-fd9e-4ec2-8c70-aa733cce8570",
   "metadata": {},
   "source": [
    "데이터 분포를 반영"
   ]
  },
  {
   "cell_type": "code",
   "execution_count": 8,
   "id": "89905914-84bf-46c9-a922-5d99a28bc8e2",
   "metadata": {},
   "outputs": [],
   "source": [
    "train_input, test_input, train_target, test_target = \\\n",
    "train_test_split(fish_data,fish_target,stratify = fish_target, random_state = 42)"
   ]
  },
  {
   "cell_type": "code",
   "execution_count": 9,
   "id": "8fdfc2c6-9ff5-4359-ac27-c125d8fcd02e",
   "metadata": {},
   "outputs": [
    {
     "data": {
      "text/plain": [
       "[0, 0, 1, 0, 1, 0, 1, 1, 1, 1, 1, 1, 1]"
      ]
     },
     "execution_count": 9,
     "metadata": {},
     "output_type": "execute_result"
    }
   ],
   "source": [
    "test_target"
   ]
  },
  {
   "cell_type": "markdown",
   "id": "dde05393-41ed-4800-8103-c23c31bca094",
   "metadata": {},
   "source": [
    "### 성능 평가 및 테스트"
   ]
  },
  {
   "cell_type": "code",
   "execution_count": 10,
   "id": "57647638-9433-4824-808e-a0949da91961",
   "metadata": {},
   "outputs": [
    {
     "data": {
      "text/plain": [
       "1.0"
      ]
     },
     "execution_count": 10,
     "metadata": {},
     "output_type": "execute_result"
    }
   ],
   "source": [
    "from sklearn.neighbors import KNeighborsClassifier\n",
    "\n",
    "kn = KNeighborsClassifier()\n",
    "kn.fit(train_input, train_target)\n",
    "kn.score(test_input, test_target)"
   ]
  },
  {
   "cell_type": "code",
   "execution_count": 11,
   "id": "da2bda06-c2bf-4f08-ab6d-fabf96c2fdfa",
   "metadata": {},
   "outputs": [
    {
     "data": {
      "text/plain": [
       "array([0])"
      ]
     },
     "execution_count": 11,
     "metadata": {},
     "output_type": "execute_result"
    }
   ],
   "source": [
    "kn.predict([[25,150]])"
   ]
  },
  {
   "cell_type": "code",
   "execution_count": 12,
   "id": "8f7d97ce-a2c7-4d49-9e0d-5b176fbae49c",
   "metadata": {},
   "outputs": [],
   "source": [
    "import matplotlib.pyplot as plt"
   ]
  },
  {
   "cell_type": "code",
   "execution_count": 13,
   "id": "e5de707f-5bc3-4673-9586-b036c7ac26a4",
   "metadata": {},
   "outputs": [
    {
     "data": {
      "image/png": "[encoded data removed]",
      "text/plain": [
       "<Figure size 432x288 with 1 Axes>"
      ]
     },
     "metadata": {
      "needs_background": "light"
     },
     "output_type": "display_data"
    }
   ],
   "source": [
    "plt.scatter(train_input[:,0], train_input[:, 1])\n",
    "plt.scatter(25,150, marker='^')\n",
    "plt.xlabel('length')\n",
    "plt.ylabel('weight')\n",
    "plt.show()"
   ]
  },
  {
   "cell_type": "markdown",
   "id": "1ba6669e-af05-4626-98e2-0bb030d5258c",
   "metadata": {},
   "source": [
    "테스트할 도미데이터와 이웃하는 데이터들"
   ]
  },
  {
   "cell_type": "code",
   "execution_count": 14,
   "id": "548bbde0-6fa3-4b7e-b6d5-fdd94bf659c5",
   "metadata": {},
   "outputs": [],
   "source": [
    "dist, idx = kn.kneighbors([[25,150]])"
   ]
  },
  {
   "cell_type": "code",
   "execution_count": 15,
   "id": "02abc60e-4d4d-42c5-bc23-f6ba114c5283",
   "metadata": {},
   "outputs": [
    {
     "data": {
      "text/plain": [
       "array([[[ 25.4, 242. ],\n",
       "        [ 15. ,  19.9],\n",
       "        [ 14.3,  19.7],\n",
       "        [ 13. ,  12.2],\n",
       "        [ 12.2,  12.2]]])"
      ]
     },
     "execution_count": 15,
     "metadata": {},
     "output_type": "execute_result"
    }
   ],
   "source": [
    "train_input[idx]"
   ]
  },
  {
   "cell_type": "code",
   "execution_count": 16,
   "id": "85b9823c-63ec-45b0-b9b7-5d7b27b87404",
   "metadata": {},
   "outputs": [
    {
     "data": {
      "image/png": "[encoded data removed]",
      "text/plain": [
       "<Figure size 432x288 with 1 Axes>"
      ]
     },
     "metadata": {
      "needs_background": "light"
     },
     "output_type": "display_data"
    }
   ],
   "source": [
    "plt.scatter(train_input[:,0], train_input[:,1])\n",
    "plt.scatter(25,150, marker = '^')\n",
    "plt.scatter(train_input[idx,0], train_input[idx,1], marker = 'D')\n",
    "plt.xlabel('Length')\n",
    "plt.ylabel('Weight')\n",
    "plt.show()"
   ]
  },
  {
   "cell_type": "code",
   "execution_count": 17,
   "id": "3c9468c8-bf59-47f6-9e46-adbe3ac603da",
   "metadata": {},
   "outputs": [
    {
     "data": {
      "image/png": "[encoded data removed]",
      "text/plain": [
       "<Figure size 432x288 with 1 Axes>"
      ]
     },
     "metadata": {
      "needs_background": "light"
     },
     "output_type": "display_data"
    }
   ],
   "source": [
    "plt.scatter(train_input[:,0], train_input[:,1])\n",
    "plt.scatter(25,150, marker = '^')\n",
    "plt.scatter(train_input[idx,0], train_input[idx,1], marker = 'D')\n",
    "plt.xlim((0,1000))\n",
    "plt.xlabel('Length')\n",
    "plt.ylabel('Weight')\n",
    "plt.show()"
   ]
  },
  {
   "cell_type": "markdown",
   "id": "851afa0e-fe3f-46f1-bdf9-48dc975b191b",
   "metadata": {},
   "source": [
    "두 변수의 스케일을 갖게\n",
    "- 표준점수(Z-Score)"
   ]
  },
  {
   "cell_type": "code",
   "execution_count": 18,
   "id": "cf04e735-9f1a-443a-ae84-bde55208c852",
   "metadata": {},
   "outputs": [],
   "source": [
    "mean = np.mean(train_input, axis = 0)\n",
    "std = np.std(train_input, axis = 0)"
   ]
  },
  {
   "cell_type": "code",
   "execution_count": 19,
   "id": "6c936c5b-841f-4513-9e4b-d0e55fcc0cf3",
   "metadata": {},
   "outputs": [],
   "source": [
    "train_scaled = (train_input - mean) / std"
   ]
  },
  {
   "cell_type": "code",
   "execution_count": 20,
   "id": "3eb4f957-bcc9-4fb4-81e7-014a1cbb4e06",
   "metadata": {},
   "outputs": [
    {
     "data": {
      "text/plain": [
       "array([[ 0.24070039,  0.14198246],\n",
       "       [-1.51237757, -1.36683783],\n",
       "       [ 0.5712808 ,  0.76060496],\n",
       "       [-1.60253587, -1.37766373],\n",
       "       [ 1.22242404,  1.45655528]])"
      ]
     },
     "execution_count": 20,
     "metadata": {},
     "output_type": "execute_result"
    }
   ],
   "source": [
    "train_scaled[:5]"
   ]
  },
  {
   "cell_type": "code",
   "execution_count": 21,
   "id": "2c18b548-9aae-4904-9ed3-c57ae7333e23",
   "metadata": {},
   "outputs": [
    {
     "data": {
      "image/png": "[encoded data removed]",
      "text/plain": [
       "<Figure size 432x288 with 1 Axes>"
      ]
     },
     "metadata": {
      "needs_background": "light"
     },
     "output_type": "display_data"
    }
   ],
   "source": [
    "plt.scatter(train_scaled[:,0], train_scaled[:,1])\n",
    "plt.xlabel('Length')\n",
    "plt.ylabel('Weight')\n",
    "plt.show()"
   ]
  },
  {
   "cell_type": "markdown",
   "id": "5443c6ed-b46c-4742-b694-d3c37b0af59c",
   "metadata": {},
   "source": [
    "새로운 데이터 확인"
   ]
  },
  {
   "cell_type": "code",
   "execution_count": 22,
   "id": "9413ff3c-00f6-489e-9683-d71ebba38047",
   "metadata": {},
   "outputs": [],
   "source": [
    "new = ([25,150] - mean)/std"
   ]
  },
  {
   "cell_type": "code",
   "execution_count": 23,
   "id": "f776a58b-fdf1-47b0-8743-81bac636db51",
   "metadata": {},
   "outputs": [
    {
     "data": {
      "image/png": "[encoded data removed]",
      "text/plain": [
       "<Figure size 432x288 with 1 Axes>"
      ]
     },
     "metadata": {
      "needs_background": "light"
     },
     "output_type": "display_data"
    }
   ],
   "source": [
    "plt.scatter(train_scaled[:,0], train_scaled[:,1])\n",
    "plt.scatter(new[0], new[1], marker = '^')\n",
    "plt.xlabel('Length')\n",
    "plt.ylabel('Weight')\n",
    "plt.show()"
   ]
  },
  {
   "cell_type": "code",
   "execution_count": 24,
   "id": "1d43376d-41e4-430d-94ae-755536ee118c",
   "metadata": {},
   "outputs": [],
   "source": [
    "test_scaled = (test_input - mean)/ std"
   ]
  },
  {
   "cell_type": "code",
   "execution_count": 25,
   "id": "440a58d2-8ff0-4511-b53e-0aea18ff2309",
   "metadata": {},
   "outputs": [
    {
     "data": {
      "text/plain": [
       "KNeighborsClassifier()"
      ]
     },
     "execution_count": 25,
     "metadata": {},
     "output_type": "execute_result"
    }
   ],
   "source": [
    "kn.fit(train_scaled, train_target)"
   ]
  },
  {
   "cell_type": "code",
   "execution_count": 26,
   "id": "96ea2be6-8fc2-431e-b719-bf85cc0ba5cc",
   "metadata": {},
   "outputs": [
    {
     "data": {
      "text/plain": [
       "1.0"
      ]
     },
     "execution_count": 26,
     "metadata": {},
     "output_type": "execute_result"
    }
   ],
   "source": [
    "kn.score(test_scaled,test_target)"
   ]
  },
  {
   "cell_type": "code",
   "execution_count": 28,
   "id": "00953b24-22f5-47e9-8ce2-7129e583a919",
   "metadata": {},
   "outputs": [
    {
     "data": {
      "text/plain": [
       "array([1])"
      ]
     },
     "execution_count": 28,
     "metadata": {},
     "output_type": "execute_result"
    }
   ],
   "source": [
    "kn.predict([new])"
   ]
  },
  {
   "cell_type": "code",
   "execution_count": 30,
   "id": "cc1a8cc5-f8eb-4fe9-ac9a-ff56b35663cc",
   "metadata": {},
   "outputs": [],
   "source": [
    "dist, idx = kn.kneighbors([new])"
   ]
  },
  {
   "cell_type": "code",
   "execution_count": 34,
   "id": "56aa4b28-7907-44fa-bc15-d5c79b3eb95b",
   "metadata": {},
   "outputs": [
    {
     "data": {
      "image/png": "[encoded data removed]",
      "text/plain": [
       "<Figure size 432x288 with 1 Axes>"
      ]
     },
     "metadata": {
      "needs_background": "light"
     },
     "output_type": "display_data"
    }
   ],
   "source": [
    "plt.scatter(train_scaled[:,0], train_scaled[:,1])\n",
    "plt.scatter(new[0], new[1], marker = '^')\n",
    "plt.scatter(train_scaled[idx, 0], train_scaled[idx,1], marker='D')\n",
    "plt.xlabel('Length')\n",
    "plt.ylabel('Weight')\n",
    "plt.show()"
   ]
  },
  {
   "cell_type": "code",
   "execution_count": null,
   "id": "5ae2cd6b-6b87-4e02-80a6-2fc1948b8c44",
   "metadata": {},
   "outputs": [],
   "source": []
  }
 ],
 "metadata": {
  "kernelspec": {
   "display_name": "Python Multi",
   "language": "python",
   "name": "multi"
  },
  "language_info": {
   "codemirror_mode": {
    "name": "ipython",
    "version": 3
   },
   "file_extension": ".py",
   "mimetype": "text/x-python",
   "name": "python",
   "nbconvert_exporter": "python",
   "pygments_lexer": "ipython3",
   "version": "3.7.6"
  }
 },
 "nbformat": 4,
 "nbformat_minor": 5
}
