{
 "cells": [
  {
   "cell_type": "markdown",
   "id": "a1b34f74-2b1e-49f6-b224-c675e50542aa",
   "metadata": {},
   "source": [
    "## Data Split와 모델 검증"
   ]
  },
  {
   "cell_type": "markdown",
   "id": "6241e199-2ba8-480b-a675-f867e1bcdcfa",
   "metadata": {},
   "source": [
    "- 언제\n",
    "  - 충분히 큰 데이터 셋을 가용할때\n",
    "  - 아닐 시 교차 확인 고려\n",
    "\n",
    "- 왜\n",
    "  - 학습에 사용되지 않은 데이터를 사용하여 예측을 수행함으로써 모델의 일반적인 성능에 대한 적절한 예측을 함\n",
    "\n",
    "- 방법\n",
    "  - 홀드-아웃(Hold-out)\n",
    "  - 교차검증(Cross Vaildation, CV)\n",
    "  - 필요에 따라 Stratified Sampling"
   ]
  },
  {
   "cell_type": "markdown",
   "id": "2c755b29-604a-4156-98cc-fa3ac73b26d0",
   "metadata": {},
   "source": [
    "### 홀드- 아웃"
   ]
  },
  {
   "cell_type": "markdown",
   "id": "94afb872-5710-4397-9a53-d0fbd1d8ae98",
   "metadata": {},
   "source": [
    "- 데이터를 두 개 세트로 나누어 각각 train, test로 사용\n",
    "- train과 test의 비율은 일반적으로 7:3 ~ 9:1\n",
    "- train - Vaidation - test 로 나누기도 함"
   ]
  },
  {
   "cell_type": "code",
   "execution_count": 1,
   "id": "88d6c02c-cb34-4a75-bbeb-69865d00d28f",
   "metadata": {},
   "outputs": [],
   "source": [
    "# 도미 데이터\n",
    "bream_length = [25.4, 26.3, 26.5, 29.0, 29.0, 29.7, 29.7, 30.0, 30.0, 30.7,\n",
    "                31.0, 31.0, 31.5, 32.0, 32.0, 32.0, 33.0, 33.0, 33.5, 33.5,\n",
    "                34.0, 34.0, 34.5, 35.0, 35.0, 35.0, 35.0, 36.0, 36.0, 37.0,\n",
    "                38.5, 38.5, 39.5, 41.0, 41.0]\n",
    "bream_weight = [242.0, 290.0, 340.0, 363.0, 430.0, 450.0, 500.0, 390.0, 450.0,\n",
    "                500.0, 475.0, 500.0, 500.0, 340.0, 600.0, 600.0, 700.0, 700.0,\n",
    "                610.0, 650.0, 575.0, 685.0, 620.0, 680.0, 700.0, 725.0, 720.0,\n",
    "                714.0, 850.0, 1000.0, 920.0, 955.0, 925.0, 975.0, 950.0]\n",
    "# 빙어 데이터\n",
    "smelt_length = [9.8, 10.5, 10.6, 11.0, 11.2, 11.3, 11.8, 11.8, 12.0, 12.2,\n",
    "                12.4, 13.0, 14.3, 15.0]\n",
    "smelt_weight = [6.7, 7.5, 7.0, 9.7, 9.8, 8.7, 10.0, 9.9, 9.8, 12.2,\n",
    "                13.4, 12.2, 19.7, 19.9]\n",
    "\n",
    "length = bream_length + smelt_length\n",
    "weight = bream_weight + smelt_weight\n",
    "\n",
    "# 2차원 리스트\n",
    "fish_data = [[l, w] for l, w in zip(length, weight)]\n",
    "fish_target = [1]*35 + [0] * 14"
   ]
  },
  {
   "cell_type": "code",
   "execution_count": 7,
   "id": "6c4f73d7-a477-4dc0-aa41-c5e584a60be0",
   "metadata": {},
   "outputs": [],
   "source": [
    "from sklearn.neighbors import KNeighborsClassifier\n",
    "\n",
    "kn = KNeighborsClassifier()"
   ]
  },
  {
   "cell_type": "markdown",
   "id": "e8751fd4-1e15-4ff0-b67a-ee78af285bd2",
   "metadata": {},
   "source": [
    "훈련 데이터셋과 테스트 데이터셋으로 분리"
   ]
  },
  {
   "cell_type": "code",
   "execution_count": 8,
   "id": "2f9ca46c-e779-4f50-aaa0-f3d68a140b06",
   "metadata": {},
   "outputs": [],
   "source": [
    "train_input = fish_data[:35]\n",
    "train_target = fish_target[:35]\n",
    "\n",
    "test_input = fish_data[35:]\n",
    "test_target = fish_target[35:]"
   ]
  },
  {
   "cell_type": "markdown",
   "id": "321169bf-1adc-424b-a602-54462188eaf3",
   "metadata": {},
   "source": [
    "학습 및 평가"
   ]
  },
  {
   "cell_type": "code",
   "execution_count": 9,
   "id": "b8461889-d96b-484f-9854-0ad6a358c2eb",
   "metadata": {},
   "outputs": [
    {
     "data": {
      "text/plain": [
       "0.0"
      ]
     },
     "execution_count": 9,
     "metadata": {},
     "output_type": "execute_result"
    }
   ],
   "source": [
    "kn.fit(train_input, train_target)\n",
    "kn.score(test_input, test_target)"
   ]
  },
  {
   "cell_type": "markdown",
   "id": "2f918efe-c0e8-4923-931b-095182073874",
   "metadata": {},
   "source": [
    "데이터 섞기(shuffling)"
   ]
  },
  {
   "cell_type": "code",
   "execution_count": 10,
   "id": "9e182137-b15a-4753-a387-9cbdccf01a3c",
   "metadata": {},
   "outputs": [],
   "source": [
    "import numpy as np"
   ]
  },
  {
   "cell_type": "code",
   "execution_count": 11,
   "id": "dda2eb32-31ef-45bd-a35b-8152fb12ac6c",
   "metadata": {},
   "outputs": [],
   "source": [
    "input_arr = np.array(fish_data)\n",
    "target_arr = np.array(fish_target)"
   ]
  },
  {
   "cell_type": "code",
   "execution_count": 12,
   "id": "c13d699b-2074-490e-98ee-fd3491c932de",
   "metadata": {},
   "outputs": [
    {
     "data": {
      "text/plain": [
       "(49, 2)"
      ]
     },
     "execution_count": 12,
     "metadata": {},
     "output_type": "execute_result"
    }
   ],
   "source": [
    "input_arr.shape"
   ]
  },
  {
   "cell_type": "code",
   "execution_count": 13,
   "id": "95dc0414-9cc8-4ed0-9bd5-1dbaa1ce4059",
   "metadata": {},
   "outputs": [],
   "source": [
    "np.random.seed(42)\n",
    "index = np.arange(49)\n",
    "np.random.shuffle(index)  # 섞기"
   ]
  },
  {
   "cell_type": "code",
   "execution_count": 14,
   "id": "54f01e0d-6a28-4e1a-a7f1-b530beacab78",
   "metadata": {},
   "outputs": [
    {
     "name": "stdout",
     "output_type": "stream",
     "text": [
      "[13 45 47 44 17 27 26 25 31 19 12  4 34  8  3  6 40 41 46 15  9 16 24 33\n",
      " 30  0 43 32  5 29 11 36  1 21  2 37 35 23 39 10 22 18 48 20  7 42 14 28\n",
      " 38]\n"
     ]
    }
   ],
   "source": [
    "print(index)"
   ]
  },
  {
   "cell_type": "code",
   "execution_count": 22,
   "id": "b37f5ec1-b69e-4255-8cff-5dbc44211ba8",
   "metadata": {},
   "outputs": [],
   "source": [
    "train_input = input_arr[index[:35]]\n",
    "train_target = target_arr[index[:35]]\n",
    "\n",
    "test_input = input_arr[index[35:]]\n",
    "test_target = target_arr[index[35:]]"
   ]
  },
  {
   "cell_type": "code",
   "execution_count": 23,
   "id": "8cf80731-4e86-4509-9558-db62fc830f63",
   "metadata": {},
   "outputs": [
    {
     "data": {
      "image/png": "[encoded data removed]",
      "text/plain": [
       "<Figure size 432x288 with 1 Axes>"
      ]
     },
     "metadata": {
      "needs_background": "light"
     },
     "output_type": "display_data"
    }
   ],
   "source": [
    "import matplotlib.pyplot as plt\n",
    "plt.scatter(train_input[:, 0], train_input[:, 1])\n",
    "plt.scatter(test_input[:, 0], test_input[:, 1])\n",
    "plt.xlabel('length')\n",
    "plt.ylabel('weight')\n",
    "plt.show()"
   ]
  },
  {
   "cell_type": "code",
   "execution_count": 28,
   "id": "45c6434b-c265-4f7e-a9a4-7e4f3ea74f07",
   "metadata": {},
   "outputs": [
    {
     "name": "stdout",
     "output_type": "stream",
     "text": [
      "[ 32. 340.] [ 32. 340.]\n"
     ]
    }
   ],
   "source": [
    "print(input_arr[13],train_input[0])"
   ]
  },
  {
   "cell_type": "code",
   "execution_count": 32,
   "id": "90222df8-5ab0-431e-8df3-1371213a8e0e",
   "metadata": {},
   "outputs": [
    {
     "data": {
      "text/plain": [
       "1.0"
      ]
     },
     "execution_count": 32,
     "metadata": {},
     "output_type": "execute_result"
    }
   ],
   "source": [
    "kn.fit(train_input, train_target)\n",
    "kn.score(test_input, test_target)"
   ]
  },
  {
   "cell_type": "code",
   "execution_count": 33,
   "id": "59731d23-dcf1-40ab-80be-9cce2563fa7e",
   "metadata": {},
   "outputs": [
    {
     "data": {
      "text/plain": [
       "array([0, 0, 1, 0, 1, 1, 1, 0, 1, 1, 0, 1, 1, 0])"
      ]
     },
     "execution_count": 33,
     "metadata": {},
     "output_type": "execute_result"
    }
   ],
   "source": [
    "kn.predict(test_input)"
   ]
  }
 ],
 "metadata": {
  "kernelspec": {
   "display_name": "Python Multi",
   "language": "python",
   "name": "multi"
  },
  "language_info": {
   "codemirror_mode": {
    "name": "ipython",
    "version": 3
   },
   "file_extension": ".py",
   "mimetype": "text/x-python",
   "name": "python",
   "nbconvert_exporter": "python",
   "pygments_lexer": "ipython3",
   "version": "3.7.6"
  }
 },
 "nbformat": 4,
 "nbformat_minor": 5
}
