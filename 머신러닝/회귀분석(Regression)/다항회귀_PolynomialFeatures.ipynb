{
 "cells": [
  {
   "cell_type": "code",
   "execution_count": 3,
   "id": "d67bb896-db4e-4df9-a33e-0c40abb2f3cf",
   "metadata": {},
   "outputs": [
    {
     "data": {
      "text/plain": [
       "array([[0, 1],\n",
       "       [2, 3],\n",
       "       [4, 5]])"
      ]
     },
     "execution_count": 3,
     "metadata": {},
     "output_type": "execute_result"
    }
   ],
   "source": [
    "import numpy as np\n",
    "import pandas as pd\n",
    "from sklearn.preprocessing import PolynomialFeatures\n",
    "\n",
    "X = np.arange(6).reshape(3,2)\n",
    "X"
   ]
  },
  {
   "cell_type": "code",
   "execution_count": 4,
   "id": "c285e622-f284-4fc6-8d56-2168de4a86a6",
   "metadata": {},
   "outputs": [
    {
     "data": {
      "text/plain": [
       "array([[ 1.,  0.,  1.,  0.,  0.,  1.],\n",
       "       [ 1.,  2.,  3.,  4.,  6.,  9.],\n",
       "       [ 1.,  4.,  5., 16., 20., 25.]])"
      ]
     },
     "execution_count": 4,
     "metadata": {},
     "output_type": "execute_result"
    }
   ],
   "source": [
    "poly = PolynomialFeatures(degree=2)\n",
    "# --> x1,x2  --> 1, x1, x2, x1^2 ,x1*x2, x2^2\n",
    "\n",
    "poly.fit_transform(X)"
   ]
  },
  {
   "cell_type": "code",
   "execution_count": 6,
   "id": "0735075b-efe4-4365-9817-e9d563364d54",
   "metadata": {},
   "outputs": [
    {
     "name": "stdout",
     "output_type": "stream",
     "text": [
      "[[0 1 2]\n",
      " [3 4 5]\n",
      " [6 7 8]]\n"
     ]
    },
    {
     "data": {
      "text/plain": [
       "array([[ 1.,  0.,  1.,  2.,  0.,  0.,  0.,  1.,  2.,  4.],\n",
       "       [ 1.,  3.,  4.,  5.,  9., 12., 15., 16., 20., 25.],\n",
       "       [ 1.,  6.,  7.,  8., 36., 42., 48., 49., 56., 64.]])"
      ]
     },
     "execution_count": 6,
     "metadata": {},
     "output_type": "execute_result"
    }
   ],
   "source": [
    "X2 = np.arange(9).reshape(3,3)\n",
    "print(X2)\n",
    "\n",
    "# 인스턴스 선언할 때 차수를 2로 제한 했기 때문에 총 차수가 2를 넘지 못한다.\n",
    "poly.fit_transform(X2)  "
   ]
  },
  {
   "cell_type": "markdown",
   "id": "bbdc8ddc-be90-4940-bde8-eee9baa92dbf",
   "metadata": {},
   "source": [
    "**3차 다항식을 구하기**"
   ]
  },
  {
   "cell_type": "code",
   "execution_count": 7,
   "id": "75df5147-60f0-490b-857e-c447868212d0",
   "metadata": {},
   "outputs": [
    {
     "name": "stdout",
     "output_type": "stream",
     "text": [
      "일차 단항식 계수 :\n",
      "[[0 1]\n",
      " [2 3]]\n",
      "[0 2]\n",
      "[1 3]\n",
      "삼차 다항식 결정값 :\n",
      "[  5 125]\n"
     ]
    }
   ],
   "source": [
    "def polynomial_func(X):\n",
    "    y = 1 + 2*X[:,0] + 3*X[:,0]**2 + 4*X[:,1]**3\n",
    "    \n",
    "    print(X[:,0])\n",
    "    print(X[:,1])\n",
    "    return y\n",
    "\n",
    "X = np.arange(0,4).reshape(2,2)\n",
    "print(f'일차 단항식 계수 :\\n{X}')\n",
    "y = polynomial_func(X)\n",
    "print(f'삼차 다항식 결정값 :\\n{y}')\n"
   ]
  },
  {
   "cell_type": "markdown",
   "id": "033e86d4-0a17-4dc9-8c9c-76b182cea9d2",
   "metadata": {},
   "source": [
    "**3차 다항식 계수의 피처값과 3차 다항식의 결정값**"
   ]
  },
  {
   "cell_type": "code",
   "execution_count": 9,
   "id": "214919ec-9f86-44ef-8b32-5fa860ac9560",
   "metadata": {},
   "outputs": [
    {
     "name": "stdout",
     "output_type": "stream",
     "text": [
      "3차 다항식 계수 feature :\n",
      "[[ 1.  0.  1.  0.  0.  1.  0.  0.  0.  1.]\n",
      " [ 1.  2.  3.  4.  6.  9.  8. 12. 18. 27.]]\n",
      "Polynomial 회귀 계수 :\n",
      "[0.   0.18 0.18 0.36 0.54 0.72 0.72 1.08 1.62 2.34]\n",
      "Polynomial 회귀 Shape :\n",
      "(10,)\n"
     ]
    }
   ],
   "source": [
    "from sklearn.linear_model import LinearRegression\n",
    "\n",
    "poly_ftr = PolynomialFeatures(degree=3).fit_transform(X)\n",
    "print(f'3차 다항식 계수 feature :\\n{poly_ftr}')\n",
    "\n",
    "# Linear Regression에 3차 다항식 계수와 3차 다항식 결정값으로 학습후 회귀 계수 확인\n",
    "model = LinearRegression()\n",
    "model.fit(poly_ftr, y)\n",
    "\n",
    "print(f'Polynomial 회귀 계수 :\\n{np.round(model.coef_,2)}')\n",
    "print(f'Polynomial 회귀 Shape :\\n{model.coef_.shape}')\n"
   ]
  },
  {
   "cell_type": "code",
   "execution_count": 10,
   "id": "0f5872a0-3b33-4a19-b5e2-3dafbb141b34",
   "metadata": {},
   "outputs": [
    {
     "name": "stdout",
     "output_type": "stream",
     "text": [
      "Polynomial 회귀 계수\n",
      " [0.   0.18 0.18 0.36 0.54 0.72 0.72 1.08 1.62 2.34]\n"
     ]
    }
   ],
   "source": [
    "from sklearn.preprocessing import PolynomialFeatures\n",
    "from sklearn.linear_model import LinearRegression\n",
    "from sklearn.pipeline import Pipeline\n",
    "import numpy as np\n",
    "\n",
    "def polynomial_func(X):\n",
    "    y = 1 + 2*X[:,0] + 3*X[:,0]**2 + 4*X[:,1]**3 \n",
    "    return y\n",
    "\n",
    "# Pipeline 객체로 Streamline 하게 Polynomial Feature변환과 Linear Regression을 연결\n",
    "model = Pipeline([('poly', PolynomialFeatures(degree=3)),\n",
    "                  ('linear', LinearRegression())])\n",
    "X = np.arange(4).reshape(2,2)\n",
    "y = polynomial_func(X)\n",
    "\n",
    "model = model.fit(X, y)\n",
    "print('Polynomial 회귀 계수\\n', np.round(model.named_steps['linear'].coef_, 2))\n"
   ]
  },
  {
   "cell_type": "markdown",
   "id": "817bd866-3975-437a-815d-17dff8d4c70f",
   "metadata": {},
   "source": [
    "#### 가상 데이터 생성 및 다항 회귀 추정"
   ]
  },
  {
   "cell_type": "code",
   "execution_count": 16,
   "id": "84e4ab97-e72d-4a0f-89c2-50a158d0843b",
   "metadata": {},
   "outputs": [
    {
     "data": {
      "image/png": "[encoded data removed]",
      "text/plain": [
       "<Figure size 432x288 with 1 Axes>"
      ]
     },
     "metadata": {
      "needs_background": "light"
     },
     "output_type": "display_data"
    }
   ],
   "source": [
    "import matplotlib.pyplot as plt\n",
    "\n",
    "m = 100\n",
    "X = 6 * np.random.rand(m,1) -3\n",
    "y = 0.5*X + X**2 +np.random.randn(m,1)\n",
    "\n",
    "plt.plot(X,y,'b.')\n",
    "plt.ylabel('Y', fontsize=15, rotation=0)\n",
    "plt.xlabel('X', fontsize=15, rotation=0)\n",
    "plt.show()"
   ]
  },
  {
   "cell_type": "code",
   "execution_count": 17,
   "id": "2e1060ee-e055-49fb-87e2-9f757e2d3f13",
   "metadata": {},
   "outputs": [],
   "source": [
    "poly_features = PolynomialFeatures(degree=2, include_bias=False)\n",
    "X_poly = poly_features.fit_transform(X)"
   ]
  },
  {
   "cell_type": "code",
   "execution_count": 18,
   "id": "99a54a87-470e-4d7e-9a08-2dbb4e074358",
   "metadata": {},
   "outputs": [
    {
     "data": {
      "text/plain": [
       "(array([0.00940183]), array([[0.49918512, 1.00409594]]))"
      ]
     },
     "execution_count": 18,
     "metadata": {},
     "output_type": "execute_result"
    }
   ],
   "source": [
    "lin_reg = LinearRegression()\n",
    "lin_reg.fit(X_poly,y)\n",
    "lin_reg.intercept_, lin_reg.coef_"
   ]
  },
  {
   "cell_type": "code",
   "execution_count": 19,
   "id": "4edfe1b4-4535-4d70-a22e-ec2e63ce1359",
   "metadata": {},
   "outputs": [
    {
     "data": {
      "image/png": "[encoded data removed]",
      "text/plain": [
       "<Figure size 432x288 with 1 Axes>"
      ]
     },
     "metadata": {
      "needs_background": "light"
     },
     "output_type": "display_data"
    }
   ],
   "source": [
    "X_new=np.linspace(-3, 3, 100).reshape(100, 1)\n",
    "X_new_poly = poly_features.transform(X_new)\n",
    "y_new = lin_reg.predict(X_new_poly)\n",
    "plt.plot(X, y, \"b.\")\n",
    "plt.plot(X_new, y_new, \"r-\", linewidth=2, label=\"Predictions\")\n",
    "plt.xlabel(\"$x_1$\", fontsize=18)\n",
    "plt.ylabel(\"$y$\", rotation=0, fontsize=18)\n",
    "plt.legend(loc=\"upper left\", fontsize=14)\n",
    "plt.axis([-3, 3, 0, 10])\n",
    "plt.show()\n"
   ]
  },
  {
   "cell_type": "markdown",
   "id": "2a040322-c493-4d12-9353-16a167b56573",
   "metadata": {},
   "source": [
    "### 보스턴 주택가격 다항회귀 적용"
   ]
  },
  {
   "cell_type": "code",
   "execution_count": 20,
   "id": "b3c6f706-5814-4bb7-a6ac-2bd748eacbde",
   "metadata": {},
   "outputs": [],
   "source": [
    "import matplotlib.pyplot as plt\n",
    "import pandas as pd\n",
    "import seaborn as sns\n",
    "from scipy import stats\n",
    "from sklearn.datasets import load_boston\n",
    "get_ipython().run_line_magic('matplotlib', 'inline')\n",
    "from sklearn.model_selection import train_test_split\n",
    "from sklearn.linear_model import LinearRegression\n",
    "from sklearn.metrics import mean_squared_error , r2_score\n",
    "from sklearn.preprocessing import PolynomialFeatures\n",
    "from sklearn.linear_model import LinearRegression\n",
    "from sklearn.pipeline import Pipeline\n",
    "import numpy as np"
   ]
  },
  {
   "cell_type": "code",
   "execution_count": 21,
   "id": "5a27879c-9d0b-4e5b-b45c-6962ac477e59",
   "metadata": {},
   "outputs": [
    {
     "name": "stdout",
     "output_type": "stream",
     "text": [
      "Boston 데이타셋 크기 : (506, 14)\n"
     ]
    }
   ],
   "source": [
    "# boston 데이타셋 로드\n",
    "boston = load_boston()\n",
    "\n",
    "# boston 데이타셋 DataFrame 변환 \n",
    "bostonDF = pd.DataFrame(boston.data , columns = boston.feature_names)\n",
    "\n",
    "# boston dataset의 target array는 주택 가격임. 이를 PRICE 컬럼으로 DataFrame에 추가함. \n",
    "bostonDF['PRICE'] = boston.target\n",
    "print('Boston 데이타셋 크기 :',bostonDF.shape)\n",
    "\n",
    "y_target = bostonDF['PRICE']\n",
    "X_data = bostonDF.drop(['PRICE'],axis=1,inplace=False)\n",
    "\n",
    "X_train , X_test , y_train , y_test = train_test_split(X_data, y_target,\n",
    "                                                       test_size=0.3, random_state=156)"
   ]
  },
  {
   "cell_type": "code",
   "execution_count": 22,
   "id": "fc21eaec-8cf2-4eb5-bb5d-160f32c53828",
   "metadata": {},
   "outputs": [],
   "source": [
    "## Pipeline을 이용하여 PolynomialFeatures 변환과 LinearRegression 적용을 순차적으로 결합. \n",
    "## 'poly' : 첫번째 스탭의 이름(변수명처럼 직접 만들어 지어줌)\n",
    "## 'linear' : 두번째 스탭의 이름두번째 스탭의 이름\n",
    "\n",
    "p_model = Pipeline([('poly', PolynomialFeatures(degree=2)),\n",
    "                  ('linear', LinearRegression())])"
   ]
  },
  {
   "cell_type": "code",
   "execution_count": 23,
   "id": "841bad3c-43ec-4c4e-8213-70df7de86a1c",
   "metadata": {},
   "outputs": [
    {
     "name": "stdout",
     "output_type": "stream",
     "text": [
      "Polynomial 회귀 계수\n",
      " [ 1.0906374e+09 -8.1400000e+00 -1.0000000e-01 -7.0000000e+00\n",
      "  3.6980000e+01  2.5363000e+02  3.0970000e+01  1.0900000e+00\n",
      " -1.2020000e+01  3.1000000e+00 -6.0000000e-02  7.7500000e+00\n",
      "  2.0000000e-02  4.6000000e-01 -0.0000000e+00  2.7000000e-01\n",
      "  6.8000000e-01  1.8600000e+00 -1.2000000e-01  9.0000000e-02\n",
      "  0.0000000e+00 -2.0000000e-01  5.8000000e-01 -6.0000000e-02\n",
      "  8.7000000e-01 -0.0000000e+00  4.0000000e-02 -0.0000000e+00\n",
      " -2.0000000e-02 -1.7000000e-01 -2.0900000e+00 -2.0000000e-02\n",
      "  0.0000000e+00 -2.0000000e-02  1.0000000e-02  0.0000000e+00\n",
      " -2.0000000e-02  0.0000000e+00 -1.0000000e-02  5.0000000e-02\n",
      " -4.9000000e-01 -9.0000000e-02  2.9000000e-01  1.0000000e-02\n",
      "  2.1000000e-01 -5.0000000e-02  0.0000000e+00 -3.0000000e-02\n",
      "  1.0000000e-02 -1.0000000e-02  3.6980000e+01 -2.9240000e+01\n",
      " -5.9500000e+00 -5.0000000e-02  1.7700000e+00 -2.0000000e-02\n",
      "  3.0000000e-02 -1.9000000e+00  2.0000000e-02 -1.3000000e-01\n",
      " -7.7010000e+01 -5.0600000e+00 -5.1000000e-01  2.2740000e+01\n",
      " -4.9600000e+00  5.2000000e-01 -1.7680000e+01 -1.2000000e-01\n",
      "  1.3100000e+00 -3.0000000e-02 -8.0000000e-02 -2.4000000e-01\n",
      " -1.8000000e-01 -1.0000000e-02 -7.6000000e-01  0.0000000e+00\n",
      " -1.9000000e-01 -0.0000000e+00 -2.0000000e-02  2.0000000e-02\n",
      " -0.0000000e+00 -0.0000000e+00 -0.0000000e+00 -1.0000000e-02\n",
      "  6.6000000e-01 -2.5000000e-01  0.0000000e+00 -1.8000000e-01\n",
      " -0.0000000e+00  8.0000000e-02 -1.4000000e-01  1.0000000e-02\n",
      " -1.0000000e-01  0.0000000e+00 -7.0000000e-02 -0.0000000e+00\n",
      "  0.0000000e+00 -0.0000000e+00  0.0000000e+00  9.0000000e-02\n",
      "  1.0000000e-02  1.0000000e-02 -0.0000000e+00  0.0000000e+00\n",
      "  1.0000000e-02]\n",
      "MSE : 24.282 , RMSE : 4.928\n",
      "Variance score : 0.659\n"
     ]
    }
   ],
   "source": [
    "p_model.fit(X_train, y_train)\n",
    "\n",
    "# linear스텝의 속성 coef_를 반환\n",
    "print('Polynomial 회귀 계수\\n', np.round(p_model.named_steps['linear'].coef_, 2))\n",
    "\n",
    "y_preds = p_model.predict(X_test)\n",
    "mse = mean_squared_error(y_test, y_preds)\n",
    "rmse = np.sqrt(mse)\n",
    "\n",
    "print('MSE : {0:.3f} , RMSE : {1:.3F}'.format(mse , rmse))\n",
    "print('Variance score : {0:.3f}'.format(r2_score(y_test, y_preds)))"
   ]
  },
  {
   "cell_type": "code",
   "execution_count": 24,
   "id": "1e33c4aa-b1eb-4087-8664-760a3f49b4d2",
   "metadata": {},
   "outputs": [
    {
     "data": {
      "text/plain": [
       "((354, 104), (354, 13))"
      ]
     },
     "execution_count": 24,
     "metadata": {},
     "output_type": "execute_result"
    }
   ],
   "source": [
    "# 2차 다항식을 해서 피처가 13개에서 104개로 늘어남\n",
    "# 다항식 값이 높아질 수록 오버피팅을 급격하게 진행하고 오차가 늘어나게 된다.\n",
    "# 다항식을 쓸때는 degree에 대해 주의 행 함\n",
    "X_train_poly= PolynomialFeatures(degree=2, include_bias=False).fit_transform(X_train, y_train)\n",
    "X_train_poly.shape, X_train.shape"
   ]
  },
  {
   "cell_type": "code",
   "execution_count": 25,
   "id": "b7445f16-cc44-4e85-8a42-7c03f559b1b6",
   "metadata": {},
   "outputs": [],
   "source": [
    "## include_bias 튜닝\n",
    "## Pipeline을 이용하여 PolynomialFeatures 변환과 LinearRegression 적용을 순차적으로 결합. \n",
    "p_model = Pipeline([('poly', PolynomialFeatures(degree=2, include_bias=False)),\n",
    "                   ('linear', LinearRegression())])"
   ]
  },
  {
   "cell_type": "code",
   "execution_count": 26,
   "id": "bbd6b455-0bfc-4462-8408-3a566fb08426",
   "metadata": {},
   "outputs": [
    {
     "name": "stdout",
     "output_type": "stream",
     "text": [
      "MSE : 15.556 , RMSE : 3.944\n",
      "Variance score : 0.782\n"
     ]
    }
   ],
   "source": [
    "p_model.fit(X_train, y_train)\n",
    "\n",
    "y_preds = p_model.predict(X_test)\n",
    "mse = mean_squared_error(y_test, y_preds)\n",
    "rmse = np.sqrt(mse)\n",
    "\n",
    "print('MSE : {0:.3f} , RMSE : {1:.3F}'.format(mse , rmse))\n",
    "print('Variance score : {0:.3f}'.format(r2_score(y_test, y_preds)))"
   ]
  },
  {
   "cell_type": "code",
   "execution_count": null,
   "id": "66076c5b-e35b-42b8-af62-26e7a9516d8f",
   "metadata": {},
   "outputs": [],
   "source": []
  }
 ],
 "metadata": {
  "kernelspec": {
   "display_name": "Python Multi",
   "language": "python",
   "name": "multi"
  },
  "language_info": {
   "codemirror_mode": {
    "name": "ipython",
    "version": 3
   },
   "file_extension": ".py",
   "mimetype": "text/x-python",
   "name": "python",
   "nbconvert_exporter": "python",
   "pygments_lexer": "ipython3",
   "version": "3.7.6"
  }
 },
 "nbformat": 4,
 "nbformat_minor": 5
}
