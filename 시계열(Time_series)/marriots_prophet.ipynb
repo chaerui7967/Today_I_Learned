{
 "cells": [
  {
   "cell_type": "code",
   "execution_count": 1,
   "metadata": {},
   "outputs": [
    {
     "name": "stderr",
     "output_type": "stream",
     "text": [
      "Importing plotly failed. Interactive plots will not work.\n"
     ]
    },
    {
     "name": "stdout",
     "output_type": "stream",
     "text": [
      "Prophet 0.7.1\n"
     ]
    }
   ],
   "source": [
    "# check prophet version\n",
    "import fbprophet\n",
    "# print version number\n",
    "print('Prophet %s' % fbprophet.__version__)"
   ]
  },
  {
   "cell_type": "code",
   "execution_count": 2,
   "metadata": {},
   "outputs": [
    {
     "name": "stdout",
     "output_type": "stream",
     "text": [
      "(53567, 1)\n",
      "                      Value\n",
      "TS                         \n",
      "2019-03-01 00:15:00  135.12\n",
      "2019-03-01 00:30:00  131.28\n",
      "2019-03-01 00:45:00  129.60\n",
      "2019-03-01 01:00:00  126.48\n",
      "2019-03-01 01:15:00  123.36\n"
     ]
    }
   ],
   "source": [
    "# load the car sales dataset\n",
    "#from pandas import read_csv\n",
    "import pandas as pd\n",
    "# load data\n",
    "#path = 'https://raw.githubusercontent.com/jbrownlee/Datasets/master/monthly-car-sales.csv'\n",
    "#df = read_csv(path, header=0)\n",
    "\n",
    "df=pd.read_excel('Total(marriot).xlsx', index_col='TS', parse_dates=True, dtype={'Value':float})\n",
    "df.drop(['Unnamed: 0','Unnamed: 0.1', 'Time', 'Max Value','Date'], axis=1, inplace=True)\n",
    "# summarize shape\n",
    "print(df.shape)\n",
    "# show first few rows\n",
    "print(df.head())"
   ]
  },
  {
   "cell_type": "code",
   "execution_count": 3,
   "metadata": {},
   "outputs": [
    {
     "name": "stdout",
     "output_type": "stream",
     "text": [
      "                      Value\n",
      "TS                         \n",
      "2020-09-08 22:45:00  157.68\n",
      "2020-09-08 23:00:00  153.60\n",
      "2020-09-08 23:15:00  149.04\n",
      "2020-09-08 23:30:00  143.52\n",
      "2020-09-08 23:45:00  139.44\n"
     ]
    }
   ],
   "source": [
    "print(df.tail())"
   ]
  },
  {
   "cell_type": "code",
   "execution_count": 4,
   "metadata": {},
   "outputs": [
    {
     "data": {
      "image/png": "[encoded data removed]",
      "text/plain": [
       "<Figure size 432x288 with 1 Axes>"
      ]
     },
     "metadata": {
      "needs_background": "light"
     },
     "output_type": "display_data"
    }
   ],
   "source": [
    "from matplotlib import pyplot\n",
    "\n",
    "df.plot()\n",
    "pyplot.show()"
   ]
  },
  {
   "cell_type": "code",
   "execution_count": 5,
   "metadata": {},
   "outputs": [
    {
     "data": {
      "text/plain": [
       "\"\\n# load and plot the car sales dataset\\nfrom pandas import read_csv\\nfrom matplotlib import pyplot\\n# load data\\npath = 'https://raw.githubusercontent.com/jbrownlee/Datasets/master/monthly-car-sales.csv'\\ndf = read_csv(path, header=0)\\n# plot the time series\\ndf.plot()\\npyplot.show()\\n\""
      ]
     },
     "execution_count": 5,
     "metadata": {},
     "output_type": "execute_result"
    }
   ],
   "source": [
    "'''\n",
    "# load and plot the car sales dataset\n",
    "from pandas import read_csv\n",
    "from matplotlib import pyplot\n",
    "# load data\n",
    "path = 'https://raw.githubusercontent.com/jbrownlee/Datasets/master/monthly-car-sales.csv'\n",
    "df = read_csv(path, header=0)\n",
    "# plot the time series\n",
    "df.plot()\n",
    "pyplot.show()\n",
    "'''"
   ]
  },
  {
   "cell_type": "code",
   "execution_count": 6,
   "metadata": {},
   "outputs": [],
   "source": [
    "df_day=df.resample(rule='1H').sum()\n",
    "df_day=df_day.reset_index()\n",
    "#df_day.columns\n",
    "df_day.rename(columns={'TS':'ds','Value':'y'},inplace=True)"
   ]
  },
  {
   "cell_type": "code",
   "execution_count": 7,
   "metadata": {},
   "outputs": [
    {
     "data": {
      "text/plain": [
       "<AxesSubplot:>"
      ]
     },
     "execution_count": 7,
     "metadata": {},
     "output_type": "execute_result"
    },
    {
     "data": {
      "image/png": "[encoded data removed]",
      "text/plain": [
       "<Figure size 432x288 with 1 Axes>"
      ]
     },
     "metadata": {
      "needs_background": "light"
     },
     "output_type": "display_data"
    }
   ],
   "source": [
    "df_day.plot()"
   ]
  },
  {
   "cell_type": "code",
   "execution_count": 8,
   "metadata": {},
   "outputs": [
    {
     "data": {
      "text/html": [
       "<div>\n",
       "<style scoped>\n",
       "    .dataframe tbody tr th:only-of-type {\n",
       "        vertical-align: middle;\n",
       "    }\n",
       "\n",
       "    .dataframe tbody tr th {\n",
       "        vertical-align: top;\n",
       "    }\n",
       "\n",
       "    .dataframe thead th {\n",
       "        text-align: right;\n",
       "    }\n",
       "</style>\n",
       "<table border=\"1\" class=\"dataframe\">\n",
       "  <thead>\n",
       "    <tr style=\"text-align: right;\">\n",
       "      <th></th>\n",
       "      <th>ds</th>\n",
       "      <th>y</th>\n",
       "    </tr>\n",
       "  </thead>\n",
       "  <tbody>\n",
       "    <tr>\n",
       "      <th>0</th>\n",
       "      <td>2019-03-01 00:00:00</td>\n",
       "      <td>396.00</td>\n",
       "    </tr>\n",
       "    <tr>\n",
       "      <th>1</th>\n",
       "      <td>2019-03-01 01:00:00</td>\n",
       "      <td>493.20</td>\n",
       "    </tr>\n",
       "    <tr>\n",
       "      <th>2</th>\n",
       "      <td>2019-03-01 02:00:00</td>\n",
       "      <td>477.60</td>\n",
       "    </tr>\n",
       "    <tr>\n",
       "      <th>3</th>\n",
       "      <td>2019-03-01 03:00:00</td>\n",
       "      <td>491.04</td>\n",
       "    </tr>\n",
       "    <tr>\n",
       "      <th>4</th>\n",
       "      <td>2019-03-01 04:00:00</td>\n",
       "      <td>492.48</td>\n",
       "    </tr>\n",
       "  </tbody>\n",
       "</table>\n",
       "</div>"
      ],
      "text/plain": [
       "                   ds       y\n",
       "0 2019-03-01 00:00:00  396.00\n",
       "1 2019-03-01 01:00:00  493.20\n",
       "2 2019-03-01 02:00:00  477.60\n",
       "3 2019-03-01 03:00:00  491.04\n",
       "4 2019-03-01 04:00:00  492.48"
      ]
     },
     "execution_count": 8,
     "metadata": {},
     "output_type": "execute_result"
    }
   ],
   "source": [
    "df_day.head()"
   ]
  },
  {
   "cell_type": "code",
   "execution_count": null,
   "metadata": {},
   "outputs": [],
   "source": []
  },
  {
   "cell_type": "code",
   "execution_count": 9,
   "metadata": {},
   "outputs": [
    {
     "data": {
      "text/html": [
       "<div>\n",
       "<style scoped>\n",
       "    .dataframe tbody tr th:only-of-type {\n",
       "        vertical-align: middle;\n",
       "    }\n",
       "\n",
       "    .dataframe tbody tr th {\n",
       "        vertical-align: top;\n",
       "    }\n",
       "\n",
       "    .dataframe thead th {\n",
       "        text-align: right;\n",
       "    }\n",
       "</style>\n",
       "<table border=\"1\" class=\"dataframe\">\n",
       "  <thead>\n",
       "    <tr style=\"text-align: right;\">\n",
       "      <th></th>\n",
       "      <th>ds</th>\n",
       "      <th>y</th>\n",
       "    </tr>\n",
       "  </thead>\n",
       "  <tbody>\n",
       "    <tr>\n",
       "      <th>13387</th>\n",
       "      <td>2020-09-08 19:00:00</td>\n",
       "      <td>879.60</td>\n",
       "    </tr>\n",
       "    <tr>\n",
       "      <th>13388</th>\n",
       "      <td>2020-09-08 20:00:00</td>\n",
       "      <td>856.80</td>\n",
       "    </tr>\n",
       "    <tr>\n",
       "      <th>13389</th>\n",
       "      <td>2020-09-08 21:00:00</td>\n",
       "      <td>767.52</td>\n",
       "    </tr>\n",
       "    <tr>\n",
       "      <th>13390</th>\n",
       "      <td>2020-09-08 22:00:00</td>\n",
       "      <td>655.44</td>\n",
       "    </tr>\n",
       "    <tr>\n",
       "      <th>13391</th>\n",
       "      <td>2020-09-08 23:00:00</td>\n",
       "      <td>585.60</td>\n",
       "    </tr>\n",
       "  </tbody>\n",
       "</table>\n",
       "</div>"
      ],
      "text/plain": [
       "                       ds       y\n",
       "13387 2020-09-08 19:00:00  879.60\n",
       "13388 2020-09-08 20:00:00  856.80\n",
       "13389 2020-09-08 21:00:00  767.52\n",
       "13390 2020-09-08 22:00:00  655.44\n",
       "13391 2020-09-08 23:00:00  585.60"
      ]
     },
     "execution_count": 9,
     "metadata": {},
     "output_type": "execute_result"
    }
   ],
   "source": [
    "df_day.tail()"
   ]
  },
  {
   "cell_type": "code",
   "execution_count": 10,
   "metadata": {},
   "outputs": [
    {
     "data": {
      "text/html": [
       "<div>\n",
       "<style scoped>\n",
       "    .dataframe tbody tr th:only-of-type {\n",
       "        vertical-align: middle;\n",
       "    }\n",
       "\n",
       "    .dataframe tbody tr th {\n",
       "        vertical-align: top;\n",
       "    }\n",
       "\n",
       "    .dataframe thead th {\n",
       "        text-align: right;\n",
       "    }\n",
       "</style>\n",
       "<table border=\"1\" class=\"dataframe\">\n",
       "  <thead>\n",
       "    <tr style=\"text-align: right;\">\n",
       "      <th></th>\n",
       "      <th>y</th>\n",
       "    </tr>\n",
       "  </thead>\n",
       "  <tbody>\n",
       "    <tr>\n",
       "      <th>count</th>\n",
       "      <td>13392.000000</td>\n",
       "    </tr>\n",
       "    <tr>\n",
       "      <th>mean</th>\n",
       "      <td>752.334014</td>\n",
       "    </tr>\n",
       "    <tr>\n",
       "      <th>std</th>\n",
       "      <td>251.345105</td>\n",
       "    </tr>\n",
       "    <tr>\n",
       "      <th>min</th>\n",
       "      <td>302.400000</td>\n",
       "    </tr>\n",
       "    <tr>\n",
       "      <th>25%</th>\n",
       "      <td>554.160000</td>\n",
       "    </tr>\n",
       "    <tr>\n",
       "      <th>50%</th>\n",
       "      <td>714.480000</td>\n",
       "    </tr>\n",
       "    <tr>\n",
       "      <th>75%</th>\n",
       "      <td>899.760000</td>\n",
       "    </tr>\n",
       "    <tr>\n",
       "      <th>max</th>\n",
       "      <td>1558.560000</td>\n",
       "    </tr>\n",
       "  </tbody>\n",
       "</table>\n",
       "</div>"
      ],
      "text/plain": [
       "                  y\n",
       "count  13392.000000\n",
       "mean     752.334014\n",
       "std      251.345105\n",
       "min      302.400000\n",
       "25%      554.160000\n",
       "50%      714.480000\n",
       "75%      899.760000\n",
       "max     1558.560000"
      ]
     },
     "execution_count": 10,
     "metadata": {},
     "output_type": "execute_result"
    }
   ],
   "source": [
    "df_day.describe()"
   ]
  },
  {
   "cell_type": "code",
   "execution_count": null,
   "metadata": {},
   "outputs": [],
   "source": []
  },
  {
   "cell_type": "code",
   "execution_count": 11,
   "metadata": {},
   "outputs": [],
   "source": [
    "df_day=df.resample(rule='D').sum()\n",
    "df_day=df_day.reset_index()\n",
    "#df_day.columns\n",
    "df_day.rename(columns={'TS':'ds','Value':'y'},inplace=True)"
   ]
  },
  {
   "cell_type": "code",
   "execution_count": 12,
   "metadata": {},
   "outputs": [
    {
     "data": {
      "text/html": [
       "<div>\n",
       "<style scoped>\n",
       "    .dataframe tbody tr th:only-of-type {\n",
       "        vertical-align: middle;\n",
       "    }\n",
       "\n",
       "    .dataframe tbody tr th {\n",
       "        vertical-align: top;\n",
       "    }\n",
       "\n",
       "    .dataframe thead th {\n",
       "        text-align: right;\n",
       "    }\n",
       "</style>\n",
       "<table border=\"1\" class=\"dataframe\">\n",
       "  <thead>\n",
       "    <tr style=\"text-align: right;\">\n",
       "      <th></th>\n",
       "      <th>ds</th>\n",
       "      <th>y</th>\n",
       "    </tr>\n",
       "  </thead>\n",
       "  <tbody>\n",
       "    <tr>\n",
       "      <th>553</th>\n",
       "      <td>2020-09-04</td>\n",
       "      <td>18442.08</td>\n",
       "    </tr>\n",
       "    <tr>\n",
       "      <th>554</th>\n",
       "      <td>2020-09-05</td>\n",
       "      <td>18112.08</td>\n",
       "    </tr>\n",
       "    <tr>\n",
       "      <th>555</th>\n",
       "      <td>2020-09-06</td>\n",
       "      <td>17171.28</td>\n",
       "    </tr>\n",
       "    <tr>\n",
       "      <th>556</th>\n",
       "      <td>2020-09-07</td>\n",
       "      <td>14864.88</td>\n",
       "    </tr>\n",
       "    <tr>\n",
       "      <th>557</th>\n",
       "      <td>2020-09-08</td>\n",
       "      <td>16439.76</td>\n",
       "    </tr>\n",
       "  </tbody>\n",
       "</table>\n",
       "</div>"
      ],
      "text/plain": [
       "            ds         y\n",
       "553 2020-09-04  18442.08\n",
       "554 2020-09-05  18112.08\n",
       "555 2020-09-06  17171.28\n",
       "556 2020-09-07  14864.88\n",
       "557 2020-09-08  16439.76"
      ]
     },
     "execution_count": 12,
     "metadata": {},
     "output_type": "execute_result"
    }
   ],
   "source": [
    "df_day.tail()"
   ]
  },
  {
   "cell_type": "code",
   "execution_count": 13,
   "metadata": {},
   "outputs": [
    {
     "data": {
      "text/plain": [
       "<AxesSubplot:>"
      ]
     },
     "execution_count": 13,
     "metadata": {},
     "output_type": "execute_result"
    },
    {
     "data": {
      "image/png": "[encoded data removed]",
      "text/plain": [
       "<Figure size 432x288 with 1 Axes>"
      ]
     },
     "metadata": {
      "needs_background": "light"
     },
     "output_type": "display_data"
    }
   ],
   "source": [
    "df_day.plot()"
   ]
  },
  {
   "cell_type": "code",
   "execution_count": 14,
   "metadata": {},
   "outputs": [
    {
     "name": "stderr",
     "output_type": "stream",
     "text": [
      "INFO:fbprophet:Disabling yearly seasonality. Run prophet with yearly_seasonality=True to override this.\n",
      "INFO:fbprophet:Disabling daily seasonality. Run prophet with daily_seasonality=True to override this.\n"
     ]
    },
    {
     "data": {
      "text/plain": [
       "<fbprophet.forecaster.Prophet at 0x7fbd7e08ce80>"
      ]
     },
     "execution_count": 14,
     "metadata": {},
     "output_type": "execute_result"
    }
   ],
   "source": [
    "from fbprophet import Prophet\n",
    "from pandas import to_datetime\n",
    "'''\n",
    "# fit prophet model on the car sales dataset\n",
    "from pandas import read_csv\n",
    "\n",
    "from fbprophet import Prophet\n",
    "# load data\n",
    "path = 'https://raw.githubusercontent.com/jbrownlee/Datasets/master/monthly-car-sales.csv'\n",
    "df = read_csv(path, header=0)\n",
    "'''\n",
    "# prepare expected column names\n",
    "df_day.columns = ['ds', 'y']\n",
    "df_day['ds']= to_datetime(df_day['ds'])\n",
    "# define the model\n",
    "model = Prophet()\n",
    "# fit the model\n",
    "model.fit(df_day)"
   ]
  },
  {
   "cell_type": "markdown",
   "metadata": {},
   "source": [
    "INFO:fbprophet:Disabling weekly seasonality. Run prophet with weekly_seasonality=True to override this.\n",
    "INFO:fbprophet:Disabling daily seasonality. Run prophet with daily_seasonality=True to override this.\n",
    "Initial log joint probability = -4.39613\n",
    "    Iter      log prob        ||dx||      ||grad||       alpha      alpha0  # evals  Notes\n",
    "      99       270.121    0.00413718       75.7289           1           1      120\n",
    "    Iter      log prob        ||dx||      ||grad||       alpha      alpha0  # evals  Notes\n",
    "     179       270.265    0.00019681       84.1622   2.169e-06       0.001      273  LS failed, Hessian reset\n",
    "     199       270.283   1.38947e-05       87.8642      0.3402           1      299\n",
    "    Iter      log prob        ||dx||      ||grad||       alpha      alpha0  # evals  Notes\n",
    "     240       270.296    1.6343e-05       89.9117   1.953e-07       0.001      381  LS failed, Hessian reset\n",
    "     299         270.3   4.73573e-08       74.9719      0.3914           1      455\n",
    "    Iter      log prob        ||dx||      ||grad||       alpha      alpha0  # evals  Notes\n",
    "     300         270.3   8.25604e-09       74.4478      0.3522      0.3522      456\n",
    "Optimization terminated normally:\n",
    "  Convergence detected: absolute parameter change was below tolerance"
   ]
  },
  {
   "cell_type": "code",
   "execution_count": 15,
   "metadata": {},
   "outputs": [
    {
     "data": {
      "text/plain": [
       "\"# make an in-sample forecast\\nfrom pandas import read_csv\\nfrom pandas import to_datetime\\nfrom pandas import DataFrame\\nfrom fbprophet import Prophet\\nfrom matplotlib import pyplot\\n# load data\\npath = 'https://raw.githubusercontent.com/jbrownlee/Datasets/master/monthly-car-sales.csv'\\ndf = read_csv(path, header=0)\\n# prepare expected column names\\ndf.columns = ['ds', 'y']\\ndf['ds']= to_datetime(df['ds'])\\n# define the model\\nmodel = Prophet()\\n# fit the model\\nmodel.fit(df)\\n\""
      ]
     },
     "execution_count": 15,
     "metadata": {},
     "output_type": "execute_result"
    }
   ],
   "source": [
    "'''# make an in-sample forecast\n",
    "from pandas import read_csv\n",
    "from pandas import to_datetime\n",
    "from pandas import DataFrame\n",
    "from fbprophet import Prophet\n",
    "from matplotlib import pyplot\n",
    "# load data\n",
    "path = 'https://raw.githubusercontent.com/jbrownlee/Datasets/master/monthly-car-sales.csv'\n",
    "df = read_csv(path, header=0)\n",
    "# prepare expected column names\n",
    "df.columns = ['ds', 'y']\n",
    "df['ds']= to_datetime(df['ds'])\n",
    "# define the model\n",
    "model = Prophet()\n",
    "# fit the model\n",
    "model.fit(df)\n",
    "'''\n",
    "# define the period for which we want a prediction\n"
   ]
  },
  {
   "cell_type": "code",
   "execution_count": 16,
   "metadata": {},
   "outputs": [
    {
     "name": "stdout",
     "output_type": "stream",
     "text": [
      "          ds          yhat    yhat_lower    yhat_upper\n",
      "0 2020-09-09  24583.569710  22324.500726  27122.940502\n",
      "1 2020-09-10  24580.978286  22288.332702  26953.955771\n",
      "2 2020-09-11  24791.341748  22407.577094  27196.687132\n",
      "3 2020-09-12  24773.134397  22327.468160  26946.810639\n",
      "4 2020-09-13  24500.821174  22073.993386  26935.487470\n"
     ]
    },
    {
     "data": {
      "image/png": "[encoded data removed]",
      "text/plain": [
       "<Figure size 720x432 with 1 Axes>"
      ]
     },
     "execution_count": 16,
     "metadata": {},
     "output_type": "execute_result"
    },
    {
     "data": {
      "image/png": "[encoded data removed]",
      "text/plain": [
       "<Figure size 720x432 with 1 Axes>"
      ]
     },
     "metadata": {},
     "output_type": "display_data"
    }
   ],
   "source": [
    "from pandas import DataFrame\n",
    "\n",
    "future = list()\n",
    "for i in range(9, 15):\n",
    "\tdate = '2020-09-%02d' % i\n",
    "\tfuture.append([date])\n",
    "future = DataFrame(future)\n",
    "future.columns = ['ds']\n",
    "future['ds']= to_datetime(future['ds'])\n",
    "# use the model to make a forecast\n",
    "forecast = model.predict(future)\n",
    "# summarize the forecast\n",
    "print(forecast[['ds', 'yhat', 'yhat_lower', 'yhat_upper']].head())\n",
    "# plot forecast\n",
    "model.plot(forecast)\n",
    "#pyplot.show()"
   ]
  },
  {
   "cell_type": "code",
   "execution_count": 17,
   "metadata": {},
   "outputs": [
    {
     "data": {
      "text/plain": [
       "\"\\n# make an out-of-sample forecast\\nfrom pandas import read_csv\\nfrom pandas import to_datetime\\nfrom pandas import DataFrame\\nfrom fbprophet import Prophet\\nfrom matplotlib import pyplot\\n# load data\\npath = 'https://raw.githubusercontent.com/jbrownlee/Datasets/master/monthly-car-sales.csv'\\ndf = read_csv(path, header=0)\\n# prepare expected column names\\ndf.columns = ['ds', 'y']\\ndf['ds']= to_datetime(df['ds'])\\n# define the model\\nmodel = Prophet()\\n# fit the model\\nmodel.fit(df)\\n# define the period for which we want a prediction\\nfuture = list()\\nfor i in range(1, 13):\\n\\tdate = '1969-%02d' % i\\n\\tfuture.append([date])\\nfuture = DataFrame(future)\\nfuture.columns = ['ds']\\nfuture['ds']= to_datetime(future['ds'])\\n# use the model to make a forecast\\nforecast = model.predict(future)\\n# summarize the forecast\\nprint(forecast[['ds', 'yhat', 'yhat_lower', 'yhat_upper']].head())\\n# plot forecast\\nmodel.plot(forecast)\\npyplot.show()\\n\""
      ]
     },
     "execution_count": 17,
     "metadata": {},
     "output_type": "execute_result"
    }
   ],
   "source": [
    "'''\n",
    "# make an out-of-sample forecast\n",
    "from pandas import read_csv\n",
    "from pandas import to_datetime\n",
    "from pandas import DataFrame\n",
    "from fbprophet import Prophet\n",
    "from matplotlib import pyplot\n",
    "# load data\n",
    "path = 'https://raw.githubusercontent.com/jbrownlee/Datasets/master/monthly-car-sales.csv'\n",
    "df = read_csv(path, header=0)\n",
    "# prepare expected column names\n",
    "df.columns = ['ds', 'y']\n",
    "df['ds']= to_datetime(df['ds'])\n",
    "# define the model\n",
    "model = Prophet()\n",
    "# fit the model\n",
    "model.fit(df)\n",
    "# define the period for which we want a prediction\n",
    "future = list()\n",
    "for i in range(1, 13):\n",
    "\tdate = '1969-%02d' % i\n",
    "\tfuture.append([date])\n",
    "future = DataFrame(future)\n",
    "future.columns = ['ds']\n",
    "future['ds']= to_datetime(future['ds'])\n",
    "# use the model to make a forecast\n",
    "forecast = model.predict(future)\n",
    "# summarize the forecast\n",
    "print(forecast[['ds', 'yhat', 'yhat_lower', 'yhat_upper']].head())\n",
    "# plot forecast\n",
    "model.plot(forecast)\n",
    "pyplot.show()\n",
    "'''"
   ]
  },
  {
   "cell_type": "code",
   "execution_count": 18,
   "metadata": {},
   "outputs": [
    {
     "ename": "ModuleNotFoundError",
     "evalue": "No module named 'sklearn'",
     "output_type": "error",
     "traceback": [
      "\u001b[0;31m---------------------------------------------------------------------------\u001b[0m",
      "\u001b[0;31mModuleNotFoundError\u001b[0m                       Traceback (most recent call last)",
      "\u001b[0;32m<ipython-input-18-88954bf4f97e>\u001b[0m in \u001b[0;36m<module>\u001b[0;34m\u001b[0m\n\u001b[1;32m      4\u001b[0m \u001b[0;32mfrom\u001b[0m \u001b[0mpandas\u001b[0m \u001b[0;32mimport\u001b[0m \u001b[0mDataFrame\u001b[0m\u001b[0;34m\u001b[0m\u001b[0;34m\u001b[0m\u001b[0m\n\u001b[1;32m      5\u001b[0m \u001b[0;32mfrom\u001b[0m \u001b[0mfbprophet\u001b[0m \u001b[0;32mimport\u001b[0m \u001b[0mProphet\u001b[0m\u001b[0;34m\u001b[0m\u001b[0;34m\u001b[0m\u001b[0m\n\u001b[0;32m----> 6\u001b[0;31m \u001b[0;32mfrom\u001b[0m \u001b[0msklearn\u001b[0m\u001b[0;34m.\u001b[0m\u001b[0mmetrics\u001b[0m \u001b[0;32mimport\u001b[0m \u001b[0mmean_absolute_error\u001b[0m\u001b[0;34m\u001b[0m\u001b[0;34m\u001b[0m\u001b[0m\n\u001b[0m\u001b[1;32m      7\u001b[0m \u001b[0;32mfrom\u001b[0m \u001b[0mmatplotlib\u001b[0m \u001b[0;32mimport\u001b[0m \u001b[0mpyplot\u001b[0m\u001b[0;34m\u001b[0m\u001b[0;34m\u001b[0m\u001b[0m\n\u001b[1;32m      8\u001b[0m \u001b[0;31m# load data\u001b[0m\u001b[0;34m\u001b[0m\u001b[0;34m\u001b[0m\u001b[0;34m\u001b[0m\u001b[0m\n",
      "\u001b[0;31mModuleNotFoundError\u001b[0m: No module named 'sklearn'"
     ]
    }
   ],
   "source": [
    "# evaluate prophet time series forecasting model on hold out dataset\n",
    "from pandas import read_csv\n",
    "from pandas import to_datetime\n",
    "from pandas import DataFrame\n",
    "from fbprophet import Prophet\n",
    "from sklearn.metrics import mean_absolute_error\n",
    "from matplotlib import pyplot\n",
    "# load data\n",
    "#path = 'https://raw.githubusercontent.com/jbrownlee/Datasets/master/monthly-car-sales.csv'\n",
    "#df = read_csv(path, header=0)\n",
    "# prepare expected column names\n",
    "#df.columns = ['ds', 'y']\n",
    "#df['ds']= to_datetime(df['ds'])\n",
    "# create test dataset, remove last 12 months\n",
    "train = df_day.drop(df_day.index[-7:])\n",
    "print(train.tail())\n",
    "# define the model\n",
    "model = Prophet()\n",
    "# fit the model\n",
    "model.fit(train)\n",
    "# define the period for which we want a prediction\n",
    "future = list()\n",
    "for i in range(9, 16):\n",
    "\tdate = '2020-09-%02d' % i\n",
    "\tfuture.append([date])\n",
    "future = DataFrame(future)\n",
    "future.columns = ['ds']\n",
    "future['ds'] = to_datetime(future['ds'])\n",
    "# use the model to make a forecast\n",
    "forecast = model.predict(future)\n",
    "# calculate MAE between expected and predicted values for december\n",
    "y_true = df_day['y'][-7:].values\n",
    "y_pred = forecast['yhat'].values\n",
    "mae = mean_absolute_error(y_true, y_pred)\n",
    "print('MAE: %.3f' % mae)\n",
    "# plot expected vs actual\n",
    "pyplot.plot(y_true, label='Actual')\n",
    "pyplot.plot(y_pred, label='Predicted')\n",
    "pyplot.legend()\n",
    "pyplot.show()"
   ]
  },
  {
   "cell_type": "code",
   "execution_count": null,
   "metadata": {},
   "outputs": [],
   "source": [
    "future"
   ]
  },
  {
   "cell_type": "code",
   "execution_count": null,
   "metadata": {},
   "outputs": [],
   "source": []
  },
  {
   "cell_type": "code",
   "execution_count": null,
   "metadata": {},
   "outputs": [],
   "source": [
    "y_true"
   ]
  },
  {
   "cell_type": "code",
   "execution_count": null,
   "metadata": {},
   "outputs": [],
   "source": [
    "forecast.yhat"
   ]
  },
  {
   "cell_type": "code",
   "execution_count": null,
   "metadata": {},
   "outputs": [],
   "source": [
    "forecast"
   ]
  },
  {
   "cell_type": "code",
   "execution_count": null,
   "metadata": {},
   "outputs": [],
   "source": []
  }
 ],
 "metadata": {
  "kernelspec": {
   "display_name": "Python 3",
   "language": "python",
   "name": "python3"
  },
  "language_info": {
   "codemirror_mode": {
    "name": "ipython",
    "version": 3
   },
   "file_extension": ".py",
   "mimetype": "text/x-python",
   "name": "python",
   "nbconvert_exporter": "python",
   "pygments_lexer": "ipython3",
   "version": "3.8.3"
  }
 },
 "nbformat": 4,
 "nbformat_minor": 4
}
