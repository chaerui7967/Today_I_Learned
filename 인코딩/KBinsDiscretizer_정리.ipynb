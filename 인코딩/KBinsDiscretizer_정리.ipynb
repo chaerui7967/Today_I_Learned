{
 "cells": [
  {
   "cell_type": "markdown",
   "id": "peaceful-means",
   "metadata": {},
   "source": [
    "## KBinsDiscretizer"
   ]
  },
  {
   "cell_type": "code",
   "execution_count": 1,
   "id": "authorized-healing",
   "metadata": {},
   "outputs": [],
   "source": [
    "# discretize numeric input variables\n",
    "from sklearn.datasets import make_classification # 가상데이터 만든다\n",
    "from sklearn.preprocessing import KBinsDiscretizer  # 연속형 변수를 일정 기준으로 그룹핑할 때 사용한다\n"
   ]
  },
  {
   "cell_type": "code",
   "execution_count": 2,
   "id": "sound-sustainability",
   "metadata": {},
   "outputs": [
    {
     "name": "stdout",
     "output_type": "stream",
     "text": [
      "[[-1.39087601  0.62478042  3.4809096   2.3823372   0.38622388]\n",
      " [-0.48529475  0.30051483  1.33915253  0.84620081  1.17745439]\n",
      " [-0.73504687  0.13412273  1.54350554  1.22343943 -0.62879943]]\n"
     ]
    }
   ],
   "source": [
    "# define dataset\n",
    "X, y = make_classification(n_samples=1000, n_features=5, random_state=1)  \n",
    "# X, y라는 두개의 가상 변수를 만들겠다. make_classification() 속에 있는 기준에 맞춰서.\n",
    "# 1000개의 샘플, 5개의 독립변수 기준, random_state=1 샘플 발생시키되 씨드를 1 기준으로 발생시킬 것\n",
    "# 1000개 넘는 데이터를 만들었으므로 어느정도는 대수의 법칙이 적용됩니다.\n",
    "# random_state는 random 함수의 seed 값을 고정시키기 때문에 여러번 수행하더라도 같은 레코드를 추출합니다. 서로 다른 컴퓨터에서도 같은 숫자를 사용하면 같은 값이 나옵니다. 보통은 42를 많이 사용합니다. \n",
    "# 단톡방에 있는 사람들끼리 랜덤스테이트를 같은 숫자를 넣고 만들어보시면 이해 되실거여요!! \n",
    "\n",
    "# summarize data before the transform\n",
    "print(X[:3, :])"
   ]
  },
  {
   "cell_type": "markdown",
   "id": "02ec9d9c-f92a-4d9a-a043-852252f5f51e",
   "metadata": {},
   "source": [
    "---\n",
    "\n",
    "### * 참고 : make_classification\n",
    "\n",
    "#### make_classification함수는 설정에 따른 분류용 가상 데이터를 생성하는 명령이다. 이 함수의 인수와 반환값은 다음과 같다.\n",
    "\n",
    "### 인수:\n",
    "```\n",
    "- n_samples : 표본 데이터의 수, 디폴트 100\n",
    "- n_features : 독립 변수의 수, 디폴트 20\n",
    "- n_informative : 독립 변수 중 종속 변수와 상관 관계가 있는 성분의 수, 디폴트 2\n",
    "- n_redundant : 독립 변수 중 다른 독립 변수의 선형 조합으로 나타나는 성분의 수, 디폴트 2\n",
    "- n_repeated : 독립 변수 중 단순 중복된 성분의 수, 디폴트 0\n",
    "- n_classes : 종속 변수의 클래스 수, 디폴트 2\n",
    "- n_clusters_per_class : 클래스 당 클러스터의 수, 디폴트 2\n",
    "- weights : 각 클래스에 할당된 표본 수\n",
    "- random_state : 난수 발생 시드\n",
    "- 반환값: \n",
    "    X : [n_samples, n_features] 크기의 배열 (독립 변수)\n",
    "    y : [n_samples] 크기의 배열 (종속 변수)\n",
    "```\n",
    "- 출처 : https://datascienceschool.net/03%20machine%20learning/09.02%20%EB%B6%84%EB%A5%98%EC%9A%A9%20%EA%B0%80%EC%83%81%20%EB%8D%B0%EC%9D%B4%ED%84%B0%20%EC%83%9D%EC%84%B1.html\n",
    "---"
   ]
  },
  {
   "cell_type": "markdown",
   "id": "ad567b73-9277-4303-834a-1afb8fb0c9e7",
   "metadata": {},
   "source": [
    "우리는 지도 학습을 위한 가상데이터를 생성하기 위해 X, y를 함께 생성했다고 가정합시다.<br>\n",
    "지도 학습은 컴퓨터에게 정답(Label)이 무엇인지 알려주면서 컴퓨터를 학습을 하는 방법입니다.<br>\n",
    "예를 들어 3x5=15, 6x4=24 등을 학습시킨 후 9x3=?? 등의 주어진 문제를 해결하는 학습 방법입니다.<br>\n",
    "그러니까 X(특징데이터, feature)만 있으면 안 되겠죠. y(타겟데이터, target, 정답)도 같이 줘야겠죠.<br>\n",
    "참고자료: https://mong9data.tistory.com/9\n",
    "---"
   ]
  },
  {
   "cell_type": "code",
   "execution_count": 3,
   "id": "1b699074-d9ab-4a80-bf5f-3f4bb2a53ad7",
   "metadata": {},
   "outputs": [
    {
     "data": {
      "text/plain": [
       "(1000, 5)"
      ]
     },
     "execution_count": 3,
     "metadata": {},
     "output_type": "execute_result"
    }
   ],
   "source": [
    "X.shape # 훈련데이터. 제대로 만들어졌는지 확인. X는 이미 주어진 독립변수라서 상수처럼 취급하기에 대문자 X로 표기. (ax + b = y 생각하면 쉬움)"
   ]
  },
  {
   "cell_type": "code",
   "execution_count": 4,
   "id": "a2a6808c-e396-4654-bb94-8c0aa5612c7d",
   "metadata": {},
   "outputs": [
    {
     "data": {
      "text/plain": [
       "numpy.ndarray"
      ]
     },
     "execution_count": 4,
     "metadata": {},
     "output_type": "execute_result"
    }
   ],
   "source": [
    "type(X)"
   ]
  },
  {
   "cell_type": "code",
   "execution_count": 5,
   "id": "9097bc3b-bdc5-4637-aca3-f28eec6556b0",
   "metadata": {},
   "outputs": [
    {
     "data": {
      "text/plain": [
       "dtype('float64')"
      ]
     },
     "execution_count": 5,
     "metadata": {},
     "output_type": "execute_result"
    }
   ],
   "source": [
    "X.dtype"
   ]
  },
  {
   "cell_type": "code",
   "execution_count": 6,
   "id": "0a9cb359-eb60-40da-9cae-3ed379dc1aca",
   "metadata": {},
   "outputs": [
    {
     "data": {
      "text/plain": [
       "array([[-1.39087601,  0.62478042,  3.4809096 ,  2.3823372 ,  0.38622388],\n",
       "       [-0.48529475,  0.30051483,  1.33915253,  0.84620081,  1.17745439],\n",
       "       [-0.73504687,  0.13412273,  1.54350554,  1.22343943, -0.62879943],\n",
       "       ...,\n",
       "       [-0.82358043, -1.67277753, -1.02365026,  1.04002816, -0.11854175],\n",
       "       [ 0.98789408,  2.10104553,  1.37063331, -1.23037436, -0.56362206],\n",
       "       [ 0.63522093,  1.25870523,  0.74197203, -0.8078796 , -0.9128101 ]])"
      ]
     },
     "execution_count": 6,
     "metadata": {},
     "output_type": "execute_result"
    }
   ],
   "source": [
    "X"
   ]
  },
  {
   "cell_type": "code",
   "execution_count": 7,
   "id": "0ef1d988-40d5-448e-a4d6-c2f589b36b1d",
   "metadata": {},
   "outputs": [
    {
     "data": {
      "text/plain": [
       "(1000,)"
      ]
     },
     "execution_count": 7,
     "metadata": {},
     "output_type": "execute_result"
    }
   ],
   "source": [
    "y.shape # 결과데이터. 제대로 만들어졌는지 확인. y는 종속변수라서 X 값에 의해 변하므로 소문자로 표기. X를 넣었을 때 y값을 함께 제시함으로서 둘 사이의 연관관계를 찾아내도록 하는 지도학습에서 주로 쓰임. (신라면 예시 생각하시면 됩니다)"
   ]
  },
  {
   "cell_type": "code",
   "execution_count": 8,
   "id": "a76aa2ab-f6a2-4f60-b60b-54f152ac6c9d",
   "metadata": {},
   "outputs": [
    {
     "data": {
      "text/plain": [
       "numpy.ndarray"
      ]
     },
     "execution_count": 8,
     "metadata": {},
     "output_type": "execute_result"
    }
   ],
   "source": [
    "type(y)"
   ]
  },
  {
   "cell_type": "code",
   "execution_count": 9,
   "id": "40ff45e5-7c92-4491-94da-8c3573698a40",
   "metadata": {},
   "outputs": [
    {
     "data": {
      "text/plain": [
       "dtype('int32')"
      ]
     },
     "execution_count": 9,
     "metadata": {},
     "output_type": "execute_result"
    }
   ],
   "source": [
    "y.dtype"
   ]
  },
  {
   "cell_type": "code",
   "execution_count": 10,
   "id": "454973d1-a7af-4f1b-b45f-3088680a2f6c",
   "metadata": {},
   "outputs": [
    {
     "data": {
      "text/plain": [
       "array([1, 1, 1, 1, 0, 1, 1, 0, 0, 0, 1, 1, 0, 0, 0, 1, 1, 0, 0, 0, 1, 0,\n",
       "       1, 1, 1, 0, 0, 1, 0, 1, 0, 1, 1, 0, 0, 0, 1, 1, 1, 0, 1, 1, 1, 0,\n",
       "       1, 1, 0, 1, 0, 1, 1, 1, 1, 1, 1, 0, 1, 0, 0, 1, 0, 0, 0, 0, 1, 1,\n",
       "       0, 1, 0, 0, 1, 0, 1, 1, 0, 1, 0, 0, 1, 1, 0, 1, 0, 1, 1, 0, 0, 0,\n",
       "       0, 0, 1, 1, 1, 1, 1, 1, 0, 0, 0, 0, 1, 0, 1, 0, 0, 0, 1, 1, 0, 1,\n",
       "       1, 0, 1, 1, 1, 1, 0, 0, 1, 0, 1, 0, 0, 0, 0, 0, 1, 0, 1, 1, 1, 1,\n",
       "       0, 1, 1, 0, 0, 0, 0, 0, 0, 0, 0, 1, 1, 0, 1, 0, 1, 0, 1, 1, 1, 1,\n",
       "       0, 0, 0, 1, 0, 0, 0, 0, 1, 0, 1, 0, 1, 1, 1, 0, 0, 0, 1, 0, 0, 0,\n",
       "       1, 0, 1, 0, 1, 0, 0, 1, 0, 0, 1, 0, 1, 0, 1, 1, 0, 0, 1, 1, 1, 1,\n",
       "       1, 1, 0, 0, 0, 1, 0, 0, 1, 0, 0, 1, 0, 1, 1, 1, 1, 1, 0, 1, 1, 0,\n",
       "       0, 0, 0, 0, 1, 0, 0, 0, 0, 1, 0, 1, 1, 0, 1, 1, 0, 1, 1, 1, 1, 0,\n",
       "       1, 0, 1, 0, 0, 1, 0, 1, 0, 0, 0, 0, 0, 0, 1, 1, 0, 0, 1, 0, 1, 1,\n",
       "       1, 1, 1, 0, 0, 0, 0, 0, 0, 1, 1, 0, 1, 1, 1, 1, 1, 1, 1, 1, 1, 0,\n",
       "       1, 0, 1, 1, 0, 0, 0, 0, 0, 1, 0, 1, 1, 1, 1, 0, 0, 0, 0, 0, 1, 1,\n",
       "       1, 0, 1, 1, 0, 0, 1, 1, 1, 0, 0, 1, 1, 0, 0, 0, 0, 0, 0, 0, 1, 1,\n",
       "       0, 1, 0, 0, 1, 1, 1, 0, 1, 0, 1, 1, 0, 0, 0, 0, 0, 1, 1, 1, 1, 0,\n",
       "       1, 1, 1, 1, 1, 0, 0, 1, 0, 1, 1, 0, 1, 0, 1, 1, 1, 0, 0, 0, 1, 0,\n",
       "       0, 0, 0, 0, 1, 0, 0, 0, 0, 0, 1, 1, 0, 0, 1, 0, 1, 0, 0, 1, 0, 1,\n",
       "       0, 0, 1, 1, 0, 0, 1, 1, 1, 1, 0, 0, 1, 0, 0, 0, 0, 1, 0, 1, 0, 0,\n",
       "       0, 1, 0, 0, 0, 0, 0, 1, 1, 0, 0, 1, 0, 0, 0, 0, 1, 0, 1, 0, 1, 0,\n",
       "       1, 0, 1, 1, 0, 0, 1, 1, 1, 1, 1, 1, 1, 1, 1, 1, 1, 0, 1, 0, 0, 1,\n",
       "       1, 0, 1, 0, 0, 1, 1, 0, 0, 0, 0, 0, 1, 1, 1, 0, 0, 1, 0, 1, 0, 0,\n",
       "       0, 1, 1, 1, 0, 0, 1, 0, 1, 1, 1, 0, 1, 1, 0, 1, 1, 0, 0, 1, 1, 0,\n",
       "       0, 0, 1, 0, 0, 0, 0, 1, 1, 0, 1, 1, 1, 0, 1, 1, 1, 1, 1, 0, 0, 0,\n",
       "       0, 0, 1, 0, 0, 0, 1, 0, 0, 0, 1, 1, 1, 0, 0, 1, 1, 1, 0, 0, 0, 1,\n",
       "       1, 1, 0, 1, 1, 0, 1, 1, 1, 1, 0, 1, 1, 1, 1, 1, 0, 1, 1, 0, 1, 0,\n",
       "       1, 0, 1, 0, 1, 0, 1, 1, 1, 1, 0, 0, 0, 1, 1, 1, 1, 1, 0, 0, 0, 1,\n",
       "       1, 1, 1, 0, 1, 1, 0, 0, 0, 1, 1, 1, 1, 0, 0, 1, 0, 0, 1, 0, 1, 1,\n",
       "       0, 0, 1, 0, 1, 0, 0, 1, 0, 1, 1, 0, 0, 0, 0, 0, 0, 1, 0, 1, 1, 0,\n",
       "       0, 1, 0, 1, 1, 0, 0, 1, 0, 1, 0, 1, 1, 1, 0, 1, 1, 1, 1, 1, 0, 1,\n",
       "       0, 0, 1, 1, 1, 1, 1, 0, 0, 1, 1, 0, 1, 1, 0, 0, 1, 0, 1, 0, 0, 1,\n",
       "       0, 0, 1, 0, 0, 0, 0, 1, 1, 1, 1, 1, 0, 0, 0, 1, 1, 0, 0, 0, 1, 0,\n",
       "       0, 0, 1, 1, 1, 0, 1, 1, 0, 0, 0, 0, 1, 1, 0, 0, 1, 0, 1, 1, 1, 1,\n",
       "       0, 1, 0, 1, 1, 1, 0, 0, 1, 0, 1, 0, 1, 0, 0, 0, 1, 1, 1, 0, 0, 0,\n",
       "       0, 1, 0, 0, 0, 1, 1, 1, 1, 0, 1, 0, 0, 0, 1, 1, 1, 1, 1, 1, 0, 1,\n",
       "       1, 1, 0, 1, 0, 0, 0, 0, 0, 0, 0, 0, 1, 1, 1, 0, 0, 0, 1, 1, 0, 1,\n",
       "       1, 0, 0, 0, 0, 0, 1, 0, 0, 1, 0, 1, 1, 0, 0, 0, 0, 0, 0, 1, 1, 0,\n",
       "       1, 1, 1, 1, 1, 0, 0, 0, 0, 0, 0, 1, 0, 0, 0, 0, 1, 0, 0, 1, 0, 0,\n",
       "       0, 1, 1, 1, 1, 0, 0, 0, 1, 1, 0, 1, 0, 0, 0, 1, 1, 0, 1, 0, 1, 0,\n",
       "       0, 0, 1, 0, 1, 0, 1, 1, 1, 0, 0, 0, 1, 1, 0, 0, 0, 0, 1, 1, 0, 0,\n",
       "       0, 1, 0, 0, 0, 1, 1, 1, 0, 1, 0, 1, 0, 0, 0, 0, 1, 0, 1, 0, 1, 0,\n",
       "       1, 1, 1, 1, 1, 1, 1, 0, 1, 0, 1, 1, 0, 1, 0, 1, 1, 1, 1, 0, 0, 0,\n",
       "       1, 0, 0, 1, 1, 0, 1, 0, 0, 1, 0, 1, 1, 1, 1, 0, 0, 0, 1, 1, 1, 1,\n",
       "       1, 1, 0, 1, 0, 1, 0, 1, 1, 1, 0, 0, 0, 1, 0, 0, 0, 1, 0, 0, 0, 1,\n",
       "       1, 1, 0, 0, 0, 1, 1, 0, 1, 0, 0, 0, 0, 1, 0, 1, 1, 1, 0, 1, 0, 1,\n",
       "       0, 0, 1, 0, 0, 1, 1, 0, 1, 1])"
      ]
     },
     "execution_count": 10,
     "metadata": {},
     "output_type": "execute_result"
    }
   ],
   "source": [
    "y # 1(맞음), 0(틀림) 밖에 없음 "
   ]
  },
  {
   "cell_type": "code",
   "execution_count": 11,
   "id": "a12ebd7b-e99f-46e5-b3c2-cb2665c01b03",
   "metadata": {},
   "outputs": [
    {
     "name": "stdout",
     "output_type": "stream",
     "text": [
      "[-1.39087601  0.62478042  3.4809096   2.3823372   0.38622388] 1\n"
     ]
    }
   ],
   "source": [
    "# X와 y는 현재 이런식으로 1:1로 매칭되어있는 거여요.\n",
    "print(X[0,:], y[0])"
   ]
  },
  {
   "cell_type": "code",
   "execution_count": 12,
   "id": "exceptional-policy",
   "metadata": {},
   "outputs": [],
   "source": [
    "# define the transform\n",
    "trans = KBinsDiscretizer(n_bins=10, encode='ordinal', strategy='uniform') \n",
    "# transform하기 위한 변수이기 때문에 trans 라는 변수명 지정\n",
    "# 이번 tranns KBinsDiscretizer를 이용해서 연속형 변수를 범주화하겠다는 의미 \n",
    "# n_bins = 10 : 10개로 범주화할거다\n",
    "# encoding 방식 : ordinal(순서대로 - 숫자면 작은거-큰거, 영어면 알파벳순) - 선택가능한 종류는  {'onehot', 'onehot-dense', 'ordinal'}\n",
    "# 추천자료 : https://techblog-history-younghunjo1.tistory.com/99\n",
    "# https://runebook.dev/ko/docs/scikit_learn/modules/generated/sklearn.preprocessing.kbinsdiscretizer\n",
    "# strategy 방식 : uniform(동일 간격으로) - 선택 가능한 종류: uniform - 각 피처의 모든 빈은 너비가 동일, quantile - 각 기능의 모든 구간에는 동일한 개수, kmeans - 각 구간의 값은 1D k- 평균 군집의 가장 가까운 중심"
   ]
  },
  {
   "cell_type": "code",
   "execution_count": 13,
   "id": "073e77a5-1f39-48ae-aa6c-2a7fa9807bec",
   "metadata": {},
   "outputs": [
    {
     "data": {
      "text/plain": [
       "sklearn.preprocessing._discretization.KBinsDiscretizer"
      ]
     },
     "execution_count": 13,
     "metadata": {},
     "output_type": "execute_result"
    }
   ],
   "source": [
    "type(trans) "
   ]
  },
  {
   "cell_type": "code",
   "execution_count": 14,
   "id": "agreed-nursery",
   "metadata": {},
   "outputs": [],
   "source": [
    "# transform the data\n",
    "X_discrete = trans.fit_transform(X) # fit_transform(X)를 통해 X를 연속형 게별 숫자들-> 범주형으로 변경해서 그 순서에 맞는 숫자로 치환할거임"
   ]
  },
  {
   "cell_type": "code",
   "execution_count": 15,
   "id": "077f8b8f-a9ee-4637-a824-1895027f15b1",
   "metadata": {},
   "outputs": [
    {
     "data": {
      "text/plain": [
       "array([-1.39087601,  0.62478042,  3.4809096 ,  2.3823372 ,  0.38622388])"
      ]
     },
     "execution_count": 15,
     "metadata": {},
     "output_type": "execute_result"
    }
   ],
   "source": [
    "X[0, :] # 범주가 잘 묶였나 확인"
   ]
  },
  {
   "cell_type": "markdown",
   "id": "39a7757c-0cee-4dfd-9aac-5eb2bfc6f164",
   "metadata": {},
   "source": [
    "---\n",
    "가상 데이터가 잘 만들어졌는지는 확인했는데, 만들고 보니 굳이 1000개나 되는 각각의 특성 샘플로 구분할 필요는 없는 거 같습니다.<br>\n",
    "KBinsDiscretizer를 통해 데이터들을 구간화해서 10개 정도로 추리면 X의 각 숫자가 n_bins로 나눈 구간 안에 들어가는 숫자로 치환됩니다.<br>\n",
    "사람마다 발사이즈는 다른데 5mm 구간으로 끊어서 신발 사이즈가 나오는 걸로 생각하시면 되겠습니다.\n",
    "예시: 220~225 사이 -> 225mm, 245~250 사이 -> 250mm  \n",
    "현재 예시에서는 0에서 9의 10개 구간 사이 값으로 매겨진 구간에 따라 치환됩니다.\n",
    "---"
   ]
  },
  {
   "cell_type": "code",
   "execution_count": 16,
   "id": "eddee106-f6ea-4ee2-9aa6-54bc2b23bcc8",
   "metadata": {},
   "outputs": [
    {
     "name": "stdout",
     "output_type": "stream",
     "text": [
      "[3. 6. 9. 7. 5.]\n"
     ]
    }
   ],
   "source": [
    "print(X_discrete[0, :])"
   ]
  },
  {
   "cell_type": "code",
   "execution_count": 17,
   "id": "1deccfb3-5b10-4ab7-b513-e692ceee9557",
   "metadata": {},
   "outputs": [
    {
     "name": "stdout",
     "output_type": "stream",
     "text": [
      "[4. 6. 6. 5. 6.]\n"
     ]
    }
   ],
   "source": [
    "print(X_discrete[1, :])"
   ]
  },
  {
   "cell_type": "code",
   "execution_count": 18,
   "id": "b6e99556-a89a-4356-93fa-53376404fe39",
   "metadata": {},
   "outputs": [
    {
     "data": {
      "text/plain": [
       "array([[3., 6., 9., 7., 5.],\n",
       "       [4., 6., 6., 5., 6.],\n",
       "       [4., 5., 7., 5., 3.],\n",
       "       ...,\n",
       "       [4., 4., 3., 5., 4.],\n",
       "       [7., 8., 6., 3., 3.],\n",
       "       [6., 7., 6., 3., 3.]])"
      ]
     },
     "execution_count": 18,
     "metadata": {},
     "output_type": "execute_result"
    }
   ],
   "source": [
    "X_discrete"
   ]
  },
  {
   "cell_type": "code",
   "execution_count": 19,
   "id": "28d8cbd3-5606-4356-b845-21cacad73546",
   "metadata": {},
   "outputs": [
    {
     "data": {
      "text/plain": [
       "(1000, 5)"
      ]
     },
     "execution_count": 19,
     "metadata": {},
     "output_type": "execute_result"
    }
   ],
   "source": [
    "X_discrete.shape"
   ]
  },
  {
   "cell_type": "code",
   "execution_count": 20,
   "id": "4ecd07e7-b294-4e88-a7bf-d0cff3939a09",
   "metadata": {},
   "outputs": [
    {
     "data": {
      "text/plain": [
       "dtype('float64')"
      ]
     },
     "execution_count": 20,
     "metadata": {},
     "output_type": "execute_result"
    }
   ],
   "source": [
    "X_discrete.dtype"
   ]
  },
  {
   "cell_type": "code",
   "execution_count": 21,
   "id": "b955a40b-6549-4fe3-85d8-36cfb94bc603",
   "metadata": {},
   "outputs": [
    {
     "data": {
      "text/plain": [
       "2"
      ]
     },
     "execution_count": 21,
     "metadata": {},
     "output_type": "execute_result"
    }
   ],
   "source": [
    "X_discrete.ndim"
   ]
  },
  {
   "cell_type": "code",
   "execution_count": 41,
   "id": "5b988af0-0327-4e76-aaef-32d6bc62c615",
   "metadata": {},
   "outputs": [
    {
     "data": {
      "text/html": [
       "<div>\n",
       "<style scoped>\n",
       "    .dataframe tbody tr th:only-of-type {\n",
       "        vertical-align: middle;\n",
       "    }\n",
       "\n",
       "    .dataframe tbody tr th {\n",
       "        vertical-align: top;\n",
       "    }\n",
       "\n",
       "    .dataframe thead th {\n",
       "        text-align: right;\n",
       "    }\n",
       "</style>\n",
       "<table border=\"1\" class=\"dataframe\">\n",
       "  <thead>\n",
       "    <tr style=\"text-align: right;\">\n",
       "      <th></th>\n",
       "      <th>0</th>\n",
       "      <th>1</th>\n",
       "      <th>2</th>\n",
       "      <th>3</th>\n",
       "      <th>4</th>\n",
       "    </tr>\n",
       "  </thead>\n",
       "  <tbody>\n",
       "    <tr>\n",
       "      <th>count</th>\n",
       "      <td>1000.000000</td>\n",
       "      <td>1000.000000</td>\n",
       "      <td>1000.000000</td>\n",
       "      <td>1000.000000</td>\n",
       "      <td>1000.000000</td>\n",
       "    </tr>\n",
       "    <tr>\n",
       "      <th>mean</th>\n",
       "      <td>0.002207</td>\n",
       "      <td>-0.005400</td>\n",
       "      <td>-0.012181</td>\n",
       "      <td>-0.004581</td>\n",
       "      <td>-0.015281</td>\n",
       "    </tr>\n",
       "    <tr>\n",
       "      <th>std</th>\n",
       "      <td>0.973405</td>\n",
       "      <td>1.627238</td>\n",
       "      <td>1.412777</td>\n",
       "      <td>1.354849</td>\n",
       "      <td>0.973626</td>\n",
       "    </tr>\n",
       "    <tr>\n",
       "      <th>min</th>\n",
       "      <td>-3.167257</td>\n",
       "      <td>-5.458709</td>\n",
       "      <td>-4.033670</td>\n",
       "      <td>-3.761544</td>\n",
       "      <td>-3.064141</td>\n",
       "    </tr>\n",
       "    <tr>\n",
       "      <th>25%</th>\n",
       "      <td>-0.747775</td>\n",
       "      <td>-1.087399</td>\n",
       "      <td>-1.078130</td>\n",
       "      <td>-1.052429</td>\n",
       "      <td>-0.704875</td>\n",
       "    </tr>\n",
       "    <tr>\n",
       "      <th>50%</th>\n",
       "      <td>0.163975</td>\n",
       "      <td>0.153949</td>\n",
       "      <td>0.149589</td>\n",
       "      <td>-0.170901</td>\n",
       "      <td>-0.014043</td>\n",
       "    </tr>\n",
       "    <tr>\n",
       "      <th>75%</th>\n",
       "      <td>0.767555</td>\n",
       "      <td>1.404251</td>\n",
       "      <td>1.014005</td>\n",
       "      <td>1.003103</td>\n",
       "      <td>0.659843</td>\n",
       "    </tr>\n",
       "    <tr>\n",
       "      <th>max</th>\n",
       "      <td>2.569775</td>\n",
       "      <td>3.880047</td>\n",
       "      <td>3.747581</td>\n",
       "      <td>4.636961</td>\n",
       "      <td>3.740249</td>\n",
       "    </tr>\n",
       "  </tbody>\n",
       "</table>\n",
       "</div>"
      ],
      "text/plain": [
       "                 0            1            2            3            4\n",
       "count  1000.000000  1000.000000  1000.000000  1000.000000  1000.000000\n",
       "mean      0.002207    -0.005400    -0.012181    -0.004581    -0.015281\n",
       "std       0.973405     1.627238     1.412777     1.354849     0.973626\n",
       "min      -3.167257    -5.458709    -4.033670    -3.761544    -3.064141\n",
       "25%      -0.747775    -1.087399    -1.078130    -1.052429    -0.704875\n",
       "50%       0.163975     0.153949     0.149589    -0.170901    -0.014043\n",
       "75%       0.767555     1.404251     1.014005     1.003103     0.659843\n",
       "max       2.569775     3.880047     3.747581     4.636961     3.740249"
      ]
     },
     "execution_count": 41,
     "metadata": {},
     "output_type": "execute_result"
    }
   ],
   "source": [
    "# X_discrete을 pandas로 옮겨서 pandas DataFrame에만 제공하는 툴로 형태 보기 \n",
    "import pandas as pd\n",
    "data = pd.DataFrame(X)\n",
    "# data.describe().round()\n",
    "data.describe()"
   ]
  },
  {
   "cell_type": "code",
   "execution_count": 48,
   "id": "27319ce8-ea8c-483c-a12e-8b63f0d88f4c",
   "metadata": {},
   "outputs": [
    {
     "data": {
      "text/html": [
       "<div>\n",
       "<style scoped>\n",
       "    .dataframe tbody tr th:only-of-type {\n",
       "        vertical-align: middle;\n",
       "    }\n",
       "\n",
       "    .dataframe tbody tr th {\n",
       "        vertical-align: top;\n",
       "    }\n",
       "\n",
       "    .dataframe thead th {\n",
       "        text-align: right;\n",
       "    }\n",
       "</style>\n",
       "<table border=\"1\" class=\"dataframe\">\n",
       "  <thead>\n",
       "    <tr style=\"text-align: right;\">\n",
       "      <th></th>\n",
       "      <th>0</th>\n",
       "      <th>1</th>\n",
       "      <th>2</th>\n",
       "      <th>3</th>\n",
       "      <th>4</th>\n",
       "    </tr>\n",
       "  </thead>\n",
       "  <tbody>\n",
       "    <tr>\n",
       "      <th>count</th>\n",
       "      <td>1000.000000</td>\n",
       "      <td>1000.000000</td>\n",
       "      <td>1000.000000</td>\n",
       "      <td>1000.000000</td>\n",
       "      <td>1000.000000</td>\n",
       "    </tr>\n",
       "    <tr>\n",
       "      <th>mean</th>\n",
       "      <td>5.025000</td>\n",
       "      <td>5.342000</td>\n",
       "      <td>4.670000</td>\n",
       "      <td>3.982000</td>\n",
       "      <td>3.981000</td>\n",
       "    </tr>\n",
       "    <tr>\n",
       "      <th>std</th>\n",
       "      <td>1.710351</td>\n",
       "      <td>1.754456</td>\n",
       "      <td>1.824947</td>\n",
       "      <td>1.625521</td>\n",
       "      <td>1.460401</td>\n",
       "    </tr>\n",
       "    <tr>\n",
       "      <th>min</th>\n",
       "      <td>0.000000</td>\n",
       "      <td>0.000000</td>\n",
       "      <td>0.000000</td>\n",
       "      <td>0.000000</td>\n",
       "      <td>0.000000</td>\n",
       "    </tr>\n",
       "    <tr>\n",
       "      <th>25%</th>\n",
       "      <td>4.000000</td>\n",
       "      <td>4.000000</td>\n",
       "      <td>3.000000</td>\n",
       "      <td>3.000000</td>\n",
       "      <td>3.000000</td>\n",
       "    </tr>\n",
       "    <tr>\n",
       "      <th>50%</th>\n",
       "      <td>5.000000</td>\n",
       "      <td>6.000000</td>\n",
       "      <td>5.000000</td>\n",
       "      <td>4.000000</td>\n",
       "      <td>4.000000</td>\n",
       "    </tr>\n",
       "    <tr>\n",
       "      <th>75%</th>\n",
       "      <td>6.000000</td>\n",
       "      <td>7.000000</td>\n",
       "      <td>6.000000</td>\n",
       "      <td>5.000000</td>\n",
       "      <td>5.000000</td>\n",
       "    </tr>\n",
       "    <tr>\n",
       "      <th>max</th>\n",
       "      <td>9.000000</td>\n",
       "      <td>9.000000</td>\n",
       "      <td>9.000000</td>\n",
       "      <td>9.000000</td>\n",
       "      <td>9.000000</td>\n",
       "    </tr>\n",
       "  </tbody>\n",
       "</table>\n",
       "</div>"
      ],
      "text/plain": [
       "                 0            1            2            3            4\n",
       "count  1000.000000  1000.000000  1000.000000  1000.000000  1000.000000\n",
       "mean      5.025000     5.342000     4.670000     3.982000     3.981000\n",
       "std       1.710351     1.754456     1.824947     1.625521     1.460401\n",
       "min       0.000000     0.000000     0.000000     0.000000     0.000000\n",
       "25%       4.000000     4.000000     3.000000     3.000000     3.000000\n",
       "50%       5.000000     6.000000     5.000000     4.000000     4.000000\n",
       "75%       6.000000     7.000000     6.000000     5.000000     5.000000\n",
       "max       9.000000     9.000000     9.000000     9.000000     9.000000"
      ]
     },
     "execution_count": 48,
     "metadata": {},
     "output_type": "execute_result"
    }
   ],
   "source": [
    "# X_discrete을 pandas로 옮겨서 pandas DataFrame에만 제공하는 툴로 형태 보기 \n",
    "import pandas as pd\n",
    "data_discrete = pd.DataFrame(X_discrete)\n",
    "# data.describe().round()\n",
    "data_discrete.describe()"
   ]
  },
  {
   "cell_type": "code",
   "execution_count": 54,
   "id": "71b38a64-1411-4fc6-88f6-5807a098023d",
   "metadata": {},
   "outputs": [
    {
     "data": {
      "text/plain": [
       "pandas.core.frame.DataFrame"
      ]
     },
     "execution_count": 54,
     "metadata": {},
     "output_type": "execute_result"
    }
   ],
   "source": [
    "type(data_discrete)"
   ]
  },
  {
   "cell_type": "code",
   "execution_count": 56,
   "id": "e79437ae-c020-4bd2-a4de-99aeaa6fe55d",
   "metadata": {},
   "outputs": [
    {
     "data": {
      "text/plain": [
       "array([3., 4., 6., 5., 1., 2., 7., 0., 8., 9.])"
      ]
     },
     "execution_count": 56,
     "metadata": {},
     "output_type": "execute_result"
    }
   ],
   "source": [
    "pd.unique(data_discrete[0]) "
   ]
  },
  {
   "cell_type": "code",
   "execution_count": 24,
   "id": "large-swedish",
   "metadata": {},
   "outputs": [
    {
     "name": "stdout",
     "output_type": "stream",
     "text": [
      "[[3. 6. 9. 7. 5.]\n",
      " [4. 6. 6. 5. 6.]\n",
      " [4. 5. 7. 5. 3.]]\n"
     ]
    }
   ],
   "source": [
    "# summarize data after the transform\n",
    "print(X_discrete[:3, :]) "
   ]
  },
  {
   "cell_type": "code",
   "execution_count": 25,
   "id": "49bf69ba-2de3-4e5d-9f86-4f34b934ee77",
   "metadata": {},
   "outputs": [
    {
     "data": {
      "text/plain": [
       "-5.4587088411371845"
      ]
     },
     "execution_count": 25,
     "metadata": {},
     "output_type": "execute_result"
    }
   ],
   "source": [
    "X.min()"
   ]
  },
  {
   "cell_type": "code",
   "execution_count": 26,
   "id": "2a3d78e9-116c-4fb6-bf7c-7ae73d9494e3",
   "metadata": {},
   "outputs": [
    {
     "data": {
      "text/plain": [
       "4.636961158177204"
      ]
     },
     "execution_count": 26,
     "metadata": {},
     "output_type": "execute_result"
    }
   ],
   "source": [
    "X.max()"
   ]
  },
  {
   "cell_type": "code",
   "execution_count": 27,
   "id": "353e1cb6-f69e-45f2-9671-52c3c729fbde",
   "metadata": {},
   "outputs": [
    {
     "data": {
      "text/plain": [
       "0.496"
      ]
     },
     "execution_count": 27,
     "metadata": {},
     "output_type": "execute_result"
    }
   ],
   "source": [
    "y.mean() # y는 X의 결과로 파생된 결과값 1000개로 구성된 세트입니다. 1(맞음), 0(틀림)의 결과값을 평균했을 때 0.5가 나왔으니 이것도 대수의 법칙!"
   ]
  },
  {
   "cell_type": "code",
   "execution_count": 4,
   "id": "d73242d6-b769-4780-b45d-c4e487fd4c91",
   "metadata": {},
   "outputs": [
    {
     "name": "stdout",
     "output_type": "stream",
     "text": [
      "45\n"
     ]
    }
   ],
   "source": [
    "sum =0 \n",
    "for i in range(1,10) :\n",
    "    for k in range (0, 10, 2) :\n",
    "        sum +=1\n",
    "print(sum)"
   ]
  },
  {
   "cell_type": "code",
   "execution_count": null,
   "id": "6737ab36-4600-4d4d-a0e0-3c4ecb848d4b",
   "metadata": {},
   "outputs": [],
   "source": []
  }
 ],
 "metadata": {
  "kernelspec": {
   "display_name": "Python Multi",
   "language": "python",
   "name": "multi"
  },
  "language_info": {
   "codemirror_mode": {
    "name": "ipython",
    "version": 3
   },
   "file_extension": ".py",
   "mimetype": "text/x-python",
   "name": "python",
   "nbconvert_exporter": "python",
   "pygments_lexer": "ipython3",
   "version": "3.7.6"
  }
 },
 "nbformat": 4,
 "nbformat_minor": 5
}
