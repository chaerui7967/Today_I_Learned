{
 "cells": [
  {
   "cell_type": "code",
   "execution_count": 1,
   "id": "de38840f-e92f-459a-bf93-c58555e93b00",
   "metadata": {},
   "outputs": [],
   "source": [
    "import feedparser\n",
    "import MySQLdb"
   ]
  },
  {
   "cell_type": "code",
   "execution_count": 3,
   "id": "e98e73f2-741a-4b6f-a1a6-255c0aa21dcc",
   "metadata": {},
   "outputs": [],
   "source": [
    "# 데이터베이스 연결하기\n",
    "connection = MySQLdb.connect(\n",
    "    user=\"root\",\n",
    "    passwd=\"1234\",\n",
    "    host=\"localhost\",\n",
    "    db=\"tip\",\n",
    "    charset=\"utf8\")"
   ]
  },
  {
   "cell_type": "code",
   "execution_count": 4,
   "id": "b77f9043-5942-4e9e-931a-03958bda3cf7",
   "metadata": {},
   "outputs": [],
   "source": [
    "# 커서 생성하기\n",
    "cursor = connection.cursor()"
   ]
  },
  {
   "cell_type": "code",
   "execution_count": 5,
   "id": "e9ef14c2-48af-43a4-8235-7fb09901d125",
   "metadata": {},
   "outputs": [
    {
     "data": {
      "text/plain": [
       "0"
      ]
     },
     "execution_count": 5,
     "metadata": {},
     "output_type": "execute_result"
    }
   ],
   "source": [
    "# 실행할 때마다 같은 레코드가 중복되어 들어가지 않게 테이블을 제거해두기\n",
    "cursor.execute(\"DROP TABLE IF EXISTS books\")"
   ]
  },
  {
   "cell_type": "code",
   "execution_count": 6,
   "id": "e100b90c-fc77-458c-9ac1-e47e4d2ae020",
   "metadata": {},
   "outputs": [
    {
     "data": {
      "text/plain": [
       "0"
      ]
     },
     "execution_count": 6,
     "metadata": {},
     "output_type": "execute_result"
    }
   ],
   "source": [
    "# 테이블 생성하기\n",
    "cursor.execute(\"CREATE TABLE books (title text, url text)\")"
   ]
  },
  {
   "cell_type": "code",
   "execution_count": 7,
   "id": "6966683b-8f64-4a0a-ae12-8ec5127c76a8",
   "metadata": {},
   "outputs": [],
   "source": [
    "# URL을 지정해서 FeedParserDict 객체 생성하기\n",
    "rss = feedparser.parse(\"http://www.aladin.co.kr/rss/special_new/351\")"
   ]
  },
  {
   "cell_type": "code",
   "execution_count": 8,
   "id": "1fb257f9-7379-45b0-bd4c-385cebb93796",
   "metadata": {},
   "outputs": [
    {
     "name": "stdout",
     "output_type": "stream",
     "text": [
      "rss20\n"
     ]
    }
   ],
   "source": [
    "# RSS 버전 확인하기\n",
    "print(rss.version)"
   ]
  },
  {
   "cell_type": "code",
   "execution_count": 9,
   "id": "735760d0-077a-4f9f-9588-2580c33e67d7",
   "metadata": {},
   "outputs": [
    {
     "name": "stdout",
     "output_type": "stream",
     "text": [
      "분야별 신간 특선 - 컴퓨터/모바일\n"
     ]
    }
   ],
   "source": [
    "# 피드의 제목\n",
    "print(rss[\"feed\"][\"title\"])"
   ]
  },
  {
   "cell_type": "code",
   "execution_count": 10,
   "id": "199eb5be-920f-44ff-8e1d-5c63934635ee",
   "metadata": {},
   "outputs": [],
   "source": [
    "# 반복 적용\n",
    "for content in rss[\"entries\"]:\n",
    "    # 데이터 저장하기\n",
    "    cursor.execute(\"INSERT INTO books VALUES(%s, %s)\", (content[\"title\"], content[\"link\"])) "
   ]
  },
  {
   "cell_type": "code",
   "execution_count": 11,
   "id": "aa10432b-4e69-40d2-a786-b82b94ae83bb",
   "metadata": {},
   "outputs": [],
   "source": [
    "# 커밋하기\n",
    "connection.commit()"
   ]
  },
  {
   "cell_type": "code",
   "execution_count": 12,
   "id": "bf0be18d-ab74-4520-9e02-1ea004c64b37",
   "metadata": {},
   "outputs": [],
   "source": [
    "# 연결 종료하기\n",
    "connection.close()"
   ]
  },
  {
   "cell_type": "code",
   "execution_count": null,
   "id": "028185e1-0073-40da-8096-369f453ad54d",
   "metadata": {},
   "outputs": [],
   "source": []
  }
 ],
 "metadata": {
  "kernelspec": {
   "display_name": "Python Django",
   "language": "python",
   "name": "django"
  },
  "language_info": {
   "codemirror_mode": {
    "name": "ipython",
    "version": 3
   },
   "file_extension": ".py",
   "mimetype": "text/x-python",
   "name": "python",
   "nbconvert_exporter": "python",
   "pygments_lexer": "ipython3",
   "version": "3.8.3"
  }
 },
 "nbformat": 4,
 "nbformat_minor": 5
}
